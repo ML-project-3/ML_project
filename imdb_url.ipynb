{
 "cells": [
  {
   "cell_type": "code",
   "execution_count": 1,
   "metadata": {},
   "outputs": [],
   "source": [
    "# import\n",
    "import pandas as pd\n",
    "import numpy as np\n",
    "\n",
    "from selenium import webdriver\n",
    "from selenium.webdriver.common.by import By\n",
    "from selenium.webdriver import ActionChains\n",
    "import time\n",
    "from tqdm import tqdm_notebook\n",
    "\n",
    "from bs4 import BeautifulSoup\n",
    "from selenium.common.exceptions import NoSuchElementException\n",
    "import requests\n",
    "import urllib.parse"
   ]
  },
  {
   "cell_type": "markdown",
   "metadata": {},
   "source": [
    "# kyuri 브랜치에 있는 justwatch_2.xlsx 이 파일로 시도해보기!!!"
   ]
  },
  {
   "cell_type": "code",
   "execution_count": 2,
   "metadata": {},
   "outputs": [
    {
     "data": {
      "text/html": [
       "<div>\n",
       "<style scoped>\n",
       "    .dataframe tbody tr th:only-of-type {\n",
       "        vertical-align: middle;\n",
       "    }\n",
       "\n",
       "    .dataframe tbody tr th {\n",
       "        vertical-align: top;\n",
       "    }\n",
       "\n",
       "    .dataframe thead th {\n",
       "        text-align: right;\n",
       "    }\n",
       "</style>\n",
       "<table border=\"1\" class=\"dataframe\">\n",
       "  <thead>\n",
       "    <tr style=\"text-align: right;\">\n",
       "      <th></th>\n",
       "      <th>title</th>\n",
       "      <th>original_title</th>\n",
       "      <th>year</th>\n",
       "      <th>season_episode</th>\n",
       "      <th>runtime</th>\n",
       "      <th>genre</th>\n",
       "      <th>age_rating</th>\n",
       "      <th>Production country</th>\n",
       "    </tr>\n",
       "  </thead>\n",
       "  <tbody>\n",
       "    <tr>\n",
       "      <th>0</th>\n",
       "      <td>Ojingeo Geim</td>\n",
       "      <td>Squid Game</td>\n",
       "      <td>2021</td>\n",
       "      <td>2</td>\n",
       "      <td>55min</td>\n",
       "      <td>액션, 드라마, 스릴러</td>\n",
       "      <td>19</td>\n",
       "      <td>대한민국</td>\n",
       "    </tr>\n",
       "    <tr>\n",
       "      <th>1</th>\n",
       "      <td>12인의 심판자</td>\n",
       "      <td>The Twelve</td>\n",
       "      <td>2019</td>\n",
       "      <td>2</td>\n",
       "      <td>54min</td>\n",
       "      <td>드라마, 스릴러</td>\n",
       "      <td>NaN</td>\n",
       "      <td>벨기에</td>\n",
       "    </tr>\n",
       "    <tr>\n",
       "      <th>2</th>\n",
       "      <td>희생자 게임</td>\n",
       "      <td>誰是被害者</td>\n",
       "      <td>2020</td>\n",
       "      <td>2</td>\n",
       "      <td>1시간 0분</td>\n",
       "      <td>드라마, 범죄, 스릴러</td>\n",
       "      <td>19</td>\n",
       "      <td>대만</td>\n",
       "    </tr>\n",
       "    <tr>\n",
       "      <th>3</th>\n",
       "      <td>스위트 투스: 사슴뿔을 가진 소년</td>\n",
       "      <td>Sweet Tooth</td>\n",
       "      <td>2021</td>\n",
       "      <td>3</td>\n",
       "      <td>52min</td>\n",
       "      <td>SF, 드라마, 판타지, 액션</td>\n",
       "      <td>15</td>\n",
       "      <td>미국</td>\n",
       "    </tr>\n",
       "    <tr>\n",
       "      <th>4</th>\n",
       "      <td>Sweet Home</td>\n",
       "      <td>NaN</td>\n",
       "      <td>2020</td>\n",
       "      <td>3</td>\n",
       "      <td>1시간 0분</td>\n",
       "      <td>스릴러, 드라마, 판타지, 공포, SF, 범죄</td>\n",
       "      <td>NaN</td>\n",
       "      <td>대한민국</td>\n",
       "    </tr>\n",
       "  </tbody>\n",
       "</table>\n",
       "</div>"
      ],
      "text/plain": [
       "                title original_title  year  season_episode runtime  \\\n",
       "0        Ojingeo Geim     Squid Game  2021               2   55min   \n",
       "1            12인의 심판자     The Twelve  2019               2   54min   \n",
       "2              희생자 게임          誰是被害者  2020               2  1시간 0분   \n",
       "3  스위트 투스: 사슴뿔을 가진 소년    Sweet Tooth  2021               3   52min   \n",
       "4          Sweet Home            NaN  2020               3  1시간 0분   \n",
       "\n",
       "                       genre age_rating Production country  \n",
       "0               액션, 드라마, 스릴러         19               대한민국  \n",
       "1                   드라마, 스릴러        NaN                벨기에  \n",
       "2               드라마, 범죄, 스릴러         19                 대만  \n",
       "3           SF, 드라마, 판타지, 액션         15                 미국  \n",
       "4  스릴러, 드라마, 판타지, 공포, SF, 범죄        NaN               대한민국  "
      ]
     },
     "execution_count": 2,
     "metadata": {},
     "output_type": "execute_result"
    }
   ],
   "source": [
    "\n",
    "# 엑셀 파일을 읽어옵니다.\n",
    "just = pd.read_excel('../data/justwatch_2.xlsx', index_col=0)\n",
    "just.head()"
   ]
  },
  {
   "cell_type": "code",
   "execution_count": 16,
   "metadata": {},
   "outputs": [],
   "source": [
    "def get_imdb_result(query):\n",
    "    # NaN 값인 경우 처리합니다.\n",
    "    if pd.isna(query):\n",
    "        return None\n",
    "    \n",
    "    # 검색 쿼리를 URL 인코딩합니다.\n",
    "    query = urllib.parse.quote(query + \" TV IMDb\")\n",
    "    \n",
    "    # 구글 검색 URL을 구성합니다.\n",
    "    url = f\"https://www.google.com/search?q={query}\"\n",
    "    \n",
    "    # 요청 헤더를 설정합니다.\n",
    "    headers = {\n",
    "        \"User-Agent\": \"Mozilla/5.0 (Windows NT 10.0; Win64; x64) AppleWebKit/537.36 (KHTML, like Gecko) Chrome/114.0.0.0 Safari/537.36\"\n",
    "    }\n",
    "    \n",
    "    # 구글 검색 페이지에 요청을 보냅니다.\n",
    "    response = requests.get(url, headers=headers)\n",
    "    \n",
    "    # 응답의 상태 코드를 확인합니다.\n",
    "    if response.status_code == 200:\n",
    "        # HTML 내용을 파싱합니다.\n",
    "        soup = BeautifulSoup(response.text, \"html.parser\")\n",
    "        \n",
    "        # 모든 검색 결과를 가져옵니다.\n",
    "        search_results = soup.find_all(\"div\", class_=\"g\")\n",
    "        \n",
    "        # IMDb 사이트의 URL을 포함한 첫 번째 검색 결과를 찾습니다.\n",
    "        for result in search_results:\n",
    "            link = result.find(\"a\")\n",
    "            if link and 'href' in link.attrs:\n",
    "                url = link['href']\n",
    "                # IMDb 사이트의 URL인지 확인합니다.\n",
    "                if \"imdb.com\" in url:\n",
    "                    title = result.find(\"h3\").text\n",
    "                    return {\"title\": title, \"url\": url}\n",
    "    \n",
    "    return None"
   ]
  },
  {
   "cell_type": "code",
   "execution_count": 6,
   "metadata": {},
   "outputs": [
    {
     "ename": "ValueError",
     "evalue": "Length of values (600) does not match length of index (1090)",
     "output_type": "error",
     "traceback": [
      "\u001b[1;31m---------------------------------------------------------------------------\u001b[0m",
      "\u001b[1;31mValueError\u001b[0m                                Traceback (most recent call last)",
      "Cell \u001b[1;32mIn[6], line 17\u001b[0m\n\u001b[0;32m     14\u001b[0m     \u001b[38;5;28;01mreturn\u001b[39;00m imdb_titles, imdb_urls\n\u001b[0;32m     16\u001b[0m \u001b[38;5;66;03m# IMDb 제목과 URL을 가져와서 just 데이터프레임에 새로운 열로 추가합니다.\u001b[39;00m\n\u001b[1;32m---> 17\u001b[0m just[\u001b[38;5;124m\"\u001b[39m\u001b[38;5;124mIMDb_title\u001b[39m\u001b[38;5;124m\"\u001b[39m], just[\u001b[38;5;124m\"\u001b[39m\u001b[38;5;124mIMDb_URL\u001b[39m\u001b[38;5;124m\"\u001b[39m] \u001b[38;5;241m=\u001b[39m get_imdb_results(just[\u001b[38;5;241m490\u001b[39m:])\n",
      "File \u001b[1;32mc:\\Users\\rbfl7\\miniconda3\\envs\\ds_study\\lib\\site-packages\\pandas\\core\\frame.py:3950\u001b[0m, in \u001b[0;36mDataFrame.__setitem__\u001b[1;34m(self, key, value)\u001b[0m\n\u001b[0;32m   3947\u001b[0m     \u001b[38;5;28mself\u001b[39m\u001b[38;5;241m.\u001b[39m_setitem_array([key], value)\n\u001b[0;32m   3948\u001b[0m \u001b[38;5;28;01melse\u001b[39;00m:\n\u001b[0;32m   3949\u001b[0m     \u001b[38;5;66;03m# set column\u001b[39;00m\n\u001b[1;32m-> 3950\u001b[0m     \u001b[38;5;28;43mself\u001b[39;49m\u001b[38;5;241;43m.\u001b[39;49m\u001b[43m_set_item\u001b[49m\u001b[43m(\u001b[49m\u001b[43mkey\u001b[49m\u001b[43m,\u001b[49m\u001b[43m \u001b[49m\u001b[43mvalue\u001b[49m\u001b[43m)\u001b[49m\n",
      "File \u001b[1;32mc:\\Users\\rbfl7\\miniconda3\\envs\\ds_study\\lib\\site-packages\\pandas\\core\\frame.py:4143\u001b[0m, in \u001b[0;36mDataFrame._set_item\u001b[1;34m(self, key, value)\u001b[0m\n\u001b[0;32m   4133\u001b[0m \u001b[38;5;28;01mdef\u001b[39;00m \u001b[38;5;21m_set_item\u001b[39m(\u001b[38;5;28mself\u001b[39m, key, value) \u001b[38;5;241m-\u001b[39m\u001b[38;5;241m>\u001b[39m \u001b[38;5;28;01mNone\u001b[39;00m:\n\u001b[0;32m   4134\u001b[0m \u001b[38;5;250m    \u001b[39m\u001b[38;5;124;03m\"\"\"\u001b[39;00m\n\u001b[0;32m   4135\u001b[0m \u001b[38;5;124;03m    Add series to DataFrame in specified column.\u001b[39;00m\n\u001b[0;32m   4136\u001b[0m \n\u001b[1;32m   (...)\u001b[0m\n\u001b[0;32m   4141\u001b[0m \u001b[38;5;124;03m    ensure homogeneity.\u001b[39;00m\n\u001b[0;32m   4142\u001b[0m \u001b[38;5;124;03m    \"\"\"\u001b[39;00m\n\u001b[1;32m-> 4143\u001b[0m     value \u001b[38;5;241m=\u001b[39m \u001b[38;5;28;43mself\u001b[39;49m\u001b[38;5;241;43m.\u001b[39;49m\u001b[43m_sanitize_column\u001b[49m\u001b[43m(\u001b[49m\u001b[43mvalue\u001b[49m\u001b[43m)\u001b[49m\n\u001b[0;32m   4145\u001b[0m     \u001b[38;5;28;01mif\u001b[39;00m (\n\u001b[0;32m   4146\u001b[0m         key \u001b[38;5;129;01min\u001b[39;00m \u001b[38;5;28mself\u001b[39m\u001b[38;5;241m.\u001b[39mcolumns\n\u001b[0;32m   4147\u001b[0m         \u001b[38;5;129;01mand\u001b[39;00m value\u001b[38;5;241m.\u001b[39mndim \u001b[38;5;241m==\u001b[39m \u001b[38;5;241m1\u001b[39m\n\u001b[0;32m   4148\u001b[0m         \u001b[38;5;129;01mand\u001b[39;00m \u001b[38;5;129;01mnot\u001b[39;00m is_extension_array_dtype(value)\n\u001b[0;32m   4149\u001b[0m     ):\n\u001b[0;32m   4150\u001b[0m         \u001b[38;5;66;03m# broadcast across multiple columns if necessary\u001b[39;00m\n\u001b[0;32m   4151\u001b[0m         \u001b[38;5;28;01mif\u001b[39;00m \u001b[38;5;129;01mnot\u001b[39;00m \u001b[38;5;28mself\u001b[39m\u001b[38;5;241m.\u001b[39mcolumns\u001b[38;5;241m.\u001b[39mis_unique \u001b[38;5;129;01mor\u001b[39;00m \u001b[38;5;28misinstance\u001b[39m(\u001b[38;5;28mself\u001b[39m\u001b[38;5;241m.\u001b[39mcolumns, MultiIndex):\n",
      "File \u001b[1;32mc:\\Users\\rbfl7\\miniconda3\\envs\\ds_study\\lib\\site-packages\\pandas\\core\\frame.py:4870\u001b[0m, in \u001b[0;36mDataFrame._sanitize_column\u001b[1;34m(self, value)\u001b[0m\n\u001b[0;32m   4867\u001b[0m     \u001b[38;5;28;01mreturn\u001b[39;00m _reindex_for_setitem(Series(value), \u001b[38;5;28mself\u001b[39m\u001b[38;5;241m.\u001b[39mindex)\n\u001b[0;32m   4869\u001b[0m \u001b[38;5;28;01mif\u001b[39;00m is_list_like(value):\n\u001b[1;32m-> 4870\u001b[0m     \u001b[43mcom\u001b[49m\u001b[38;5;241;43m.\u001b[39;49m\u001b[43mrequire_length_match\u001b[49m\u001b[43m(\u001b[49m\u001b[43mvalue\u001b[49m\u001b[43m,\u001b[49m\u001b[43m \u001b[49m\u001b[38;5;28;43mself\u001b[39;49m\u001b[38;5;241;43m.\u001b[39;49m\u001b[43mindex\u001b[49m\u001b[43m)\u001b[49m\n\u001b[0;32m   4871\u001b[0m \u001b[38;5;28;01mreturn\u001b[39;00m sanitize_array(value, \u001b[38;5;28mself\u001b[39m\u001b[38;5;241m.\u001b[39mindex, copy\u001b[38;5;241m=\u001b[39m\u001b[38;5;28;01mTrue\u001b[39;00m, allow_2d\u001b[38;5;241m=\u001b[39m\u001b[38;5;28;01mTrue\u001b[39;00m)\n",
      "File \u001b[1;32mc:\\Users\\rbfl7\\miniconda3\\envs\\ds_study\\lib\\site-packages\\pandas\\core\\common.py:576\u001b[0m, in \u001b[0;36mrequire_length_match\u001b[1;34m(data, index)\u001b[0m\n\u001b[0;32m    572\u001b[0m \u001b[38;5;250m\u001b[39m\u001b[38;5;124;03m\"\"\"\u001b[39;00m\n\u001b[0;32m    573\u001b[0m \u001b[38;5;124;03mCheck the length of data matches the length of the index.\u001b[39;00m\n\u001b[0;32m    574\u001b[0m \u001b[38;5;124;03m\"\"\"\u001b[39;00m\n\u001b[0;32m    575\u001b[0m \u001b[38;5;28;01mif\u001b[39;00m \u001b[38;5;28mlen\u001b[39m(data) \u001b[38;5;241m!=\u001b[39m \u001b[38;5;28mlen\u001b[39m(index):\n\u001b[1;32m--> 576\u001b[0m     \u001b[38;5;28;01mraise\u001b[39;00m \u001b[38;5;167;01mValueError\u001b[39;00m(\n\u001b[0;32m    577\u001b[0m         \u001b[38;5;124m\"\u001b[39m\u001b[38;5;124mLength of values \u001b[39m\u001b[38;5;124m\"\u001b[39m\n\u001b[0;32m    578\u001b[0m         \u001b[38;5;124mf\u001b[39m\u001b[38;5;124m\"\u001b[39m\u001b[38;5;124m(\u001b[39m\u001b[38;5;132;01m{\u001b[39;00m\u001b[38;5;28mlen\u001b[39m(data)\u001b[38;5;132;01m}\u001b[39;00m\u001b[38;5;124m) \u001b[39m\u001b[38;5;124m\"\u001b[39m\n\u001b[0;32m    579\u001b[0m         \u001b[38;5;124m\"\u001b[39m\u001b[38;5;124mdoes not match length of index \u001b[39m\u001b[38;5;124m\"\u001b[39m\n\u001b[0;32m    580\u001b[0m         \u001b[38;5;124mf\u001b[39m\u001b[38;5;124m\"\u001b[39m\u001b[38;5;124m(\u001b[39m\u001b[38;5;132;01m{\u001b[39;00m\u001b[38;5;28mlen\u001b[39m(index)\u001b[38;5;132;01m}\u001b[39;00m\u001b[38;5;124m)\u001b[39m\u001b[38;5;124m\"\u001b[39m\n\u001b[0;32m    581\u001b[0m     )\n",
      "\u001b[1;31mValueError\u001b[0m: Length of values (600) does not match length of index (1090)"
     ]
    }
   ],
   "source": [
    "# 기존 df에 넣기\n",
    "def get_imdb_results(df):\n",
    "    imdb_titles = []\n",
    "    imdb_urls = []\n",
    "    for i, row in df.iterrows():\n",
    "        query = str(row[\"original_title\"]) + str(row[\"title\"]) + str(row[\"year\"])  # NaN 값이 있을 수 있으므로 문자열로 변환합니다.\n",
    "        result = get_imdb_result(query)\n",
    "        if result:\n",
    "            imdb_titles.append(result[\"title\"])\n",
    "            imdb_urls.append(result[\"url\"])\n",
    "        else:\n",
    "            imdb_titles.append(None)\n",
    "            imdb_urls.append(None)\n",
    "    return imdb_titles, imdb_urls\n",
    "\n",
    "# IMDb 제목과 URL을 가져와서 just 데이터프레임에 새로운 열로 추가합니다.\n",
    "just[\"IMDb_title\"], just[\"IMDb_URL\"] = get_imdb_results(just)"
   ]
  },
  {
   "cell_type": "code",
   "execution_count": 5,
   "metadata": {},
   "outputs": [],
   "source": [
    "# 저장\n",
    "just.to_csv('../data/justwatch_url.csv', sep=\"/\", encoding=\"utf-8\")\n",
    "\n",
    "just.to_excel('../data/justwatch_url.xlsx')"
   ]
  },
  {
   "cell_type": "markdown",
   "metadata": {},
   "source": [
    "---"
   ]
  },
  {
   "cell_type": "code",
   "execution_count": 9,
   "metadata": {},
   "outputs": [],
   "source": [
    "# 데이터프레임에 있는 각 행의 내용에 대해 IMDb 검색 결과를 가져옵니다.\n",
    "def get_imdb_results_df(df):\n",
    "    imdb_results = []\n",
    "    for i, row in df.iterrows():\n",
    "        query = str(row[\"original_title\"]) + str(row[\"title\"]) + str(row[\"year\"])  # NaN 값이 있을 수 있으므로 문자열로 변환합니다.\n",
    "        result = get_imdb_result(query)\n",
    "        imdb_results.append(result)\n",
    "    return imdb_results\n",
    "\n",
    "# 데이터프레임의 처음 5개 행에 대한 IMDb 검색 결과를 가져옵니다.\n",
    "imdb_results_df = get_imdb_results_df(just)"
   ]
  },
  {
   "cell_type": "code",
   "execution_count": 20,
   "metadata": {},
   "outputs": [
    {
     "data": {
      "text/plain": [
       "[None, None, None, None, None]"
      ]
     },
     "execution_count": 20,
     "metadata": {},
     "output_type": "execute_result"
    }
   ],
   "source": [
    "imdb_results_df[:5]"
   ]
  },
  {
   "cell_type": "code",
   "execution_count": null,
   "metadata": {},
   "outputs": [],
   "source": []
  }
 ],
 "metadata": {
  "kernelspec": {
   "display_name": "ds_study",
   "language": "python",
   "name": "python3"
  },
  "language_info": {
   "codemirror_mode": {
    "name": "ipython",
    "version": 3
   },
   "file_extension": ".py",
   "mimetype": "text/x-python",
   "name": "python",
   "nbconvert_exporter": "python",
   "pygments_lexer": "ipython3",
   "version": "3.8.18"
  }
 },
 "nbformat": 4,
 "nbformat_minor": 2
}
