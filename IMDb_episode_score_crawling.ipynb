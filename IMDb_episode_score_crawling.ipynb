{
 "cells": [
  {
   "cell_type": "code",
   "execution_count": 2,
   "metadata": {},
   "outputs": [],
   "source": [
    "import pandas as pd\n",
    "import time\n",
    "import re\n",
    "from fake_useragent import UserAgent\n",
    "from urllib.request import Request, urlopen \n",
    "from bs4 import BeautifulSoup\n",
    "from selenium import webdriver\n",
    "from selenium.webdriver import ActionChains\n",
    "from selenium.webdriver.common.by import By\n",
    "from selenium.webdriver.common.keys import Keys\n",
    "from selenium.webdriver.support.ui import WebDriverWait\n",
    "from selenium.webdriver.support import expected_conditions as EC\n",
    "from tqdm import tqdm"
   ]
  },
  {
   "cell_type": "code",
   "execution_count": 42,
   "metadata": {},
   "outputs": [
    {
     "data": {
      "text/html": [
       "<div>\n",
       "<style scoped>\n",
       "    .dataframe tbody tr th:only-of-type {\n",
       "        vertical-align: middle;\n",
       "    }\n",
       "\n",
       "    .dataframe tbody tr th {\n",
       "        vertical-align: top;\n",
       "    }\n",
       "\n",
       "    .dataframe thead th {\n",
       "        text-align: right;\n",
       "    }\n",
       "</style>\n",
       "<table border=\"1\" class=\"dataframe\">\n",
       "  <thead>\n",
       "    <tr style=\"text-align: right;\">\n",
       "      <th></th>\n",
       "      <th>title</th>\n",
       "      <th>original_title</th>\n",
       "      <th>year</th>\n",
       "      <th>season_episode</th>\n",
       "      <th>runtime</th>\n",
       "      <th>genre</th>\n",
       "      <th>age_rating</th>\n",
       "      <th>Production country</th>\n",
       "      <th>IMDb_title</th>\n",
       "      <th>IMDb_URL</th>\n",
       "      <th>...</th>\n",
       "      <th>season_8</th>\n",
       "      <th>season_9</th>\n",
       "      <th>season_10</th>\n",
       "      <th>season_11</th>\n",
       "      <th>season_12</th>\n",
       "      <th>season_13</th>\n",
       "      <th>season_14</th>\n",
       "      <th>season_15</th>\n",
       "      <th>season_16</th>\n",
       "      <th>season_17</th>\n",
       "    </tr>\n",
       "  </thead>\n",
       "  <tbody>\n",
       "    <tr>\n",
       "      <th>1085</th>\n",
       "      <td>달러</td>\n",
       "      <td>Dollar</td>\n",
       "      <td>2019</td>\n",
       "      <td>1</td>\n",
       "      <td>41min</td>\n",
       "      <td>액션, 드라마, 로맨스</td>\n",
       "      <td>15</td>\n",
       "      <td>레바논</td>\n",
       "      <td>Dollar (TV Series 2019)</td>\n",
       "      <td>https://www.imdb.com/title/tt10687564/</td>\n",
       "      <td>...</td>\n",
       "      <td>NaN</td>\n",
       "      <td>NaN</td>\n",
       "      <td>NaN</td>\n",
       "      <td>NaN</td>\n",
       "      <td>NaN</td>\n",
       "      <td>NaN</td>\n",
       "      <td>NaN</td>\n",
       "      <td>NaN</td>\n",
       "      <td>NaN</td>\n",
       "      <td>NaN</td>\n",
       "    </tr>\n",
       "    <tr>\n",
       "      <th>1086</th>\n",
       "      <td>러브 나우</td>\n",
       "      <td>真愛趁現在</td>\n",
       "      <td>2012</td>\n",
       "      <td>1</td>\n",
       "      <td>45min</td>\n",
       "      <td>드라마, 코미디</td>\n",
       "      <td>15</td>\n",
       "      <td>대만</td>\n",
       "      <td>Love Now (TV Series 2012–2013)</td>\n",
       "      <td>https://www.imdb.com/title/tt6273116/</td>\n",
       "      <td>...</td>\n",
       "      <td>NaN</td>\n",
       "      <td>NaN</td>\n",
       "      <td>NaN</td>\n",
       "      <td>NaN</td>\n",
       "      <td>NaN</td>\n",
       "      <td>NaN</td>\n",
       "      <td>NaN</td>\n",
       "      <td>NaN</td>\n",
       "      <td>NaN</td>\n",
       "      <td>NaN</td>\n",
       "    </tr>\n",
       "    <tr>\n",
       "      <th>1087</th>\n",
       "      <td>탕탕 라이브</td>\n",
       "      <td>糖糖Online</td>\n",
       "      <td>2019</td>\n",
       "      <td>1</td>\n",
       "      <td>24min</td>\n",
       "      <td>드라마</td>\n",
       "      <td>15+</td>\n",
       "      <td>대만</td>\n",
       "      <td>Tang tang online (TV Series 2019)</td>\n",
       "      <td>https://www.imdb.com/title/tt11330500/</td>\n",
       "      <td>...</td>\n",
       "      <td>NaN</td>\n",
       "      <td>NaN</td>\n",
       "      <td>NaN</td>\n",
       "      <td>NaN</td>\n",
       "      <td>NaN</td>\n",
       "      <td>NaN</td>\n",
       "      <td>NaN</td>\n",
       "      <td>NaN</td>\n",
       "      <td>NaN</td>\n",
       "      <td>NaN</td>\n",
       "    </tr>\n",
       "    <tr>\n",
       "      <th>1088</th>\n",
       "      <td>대송궁사</td>\n",
       "      <td>大宋宫词</td>\n",
       "      <td>2021</td>\n",
       "      <td>1</td>\n",
       "      <td>45min</td>\n",
       "      <td>드라마</td>\n",
       "      <td>15+</td>\n",
       "      <td>China</td>\n",
       "      <td>Palace of Devotion (TV Series 2021)</td>\n",
       "      <td>https://www.imdb.com/title/tt10742204/</td>\n",
       "      <td>...</td>\n",
       "      <td>NaN</td>\n",
       "      <td>NaN</td>\n",
       "      <td>NaN</td>\n",
       "      <td>NaN</td>\n",
       "      <td>NaN</td>\n",
       "      <td>NaN</td>\n",
       "      <td>NaN</td>\n",
       "      <td>NaN</td>\n",
       "      <td>NaN</td>\n",
       "      <td>NaN</td>\n",
       "    </tr>\n",
       "    <tr>\n",
       "      <th>1089</th>\n",
       "      <td>엘리트들, 못다 한 이야기: 나디아 구스만</td>\n",
       "      <td>Elite Histórias Breves: Nadia Guzmán</td>\n",
       "      <td>2021</td>\n",
       "      <td>1</td>\n",
       "      <td>11min</td>\n",
       "      <td>드라마, 로맨스</td>\n",
       "      <td>NaN</td>\n",
       "      <td>스페인</td>\n",
       "      <td>Elite Short Stories: Nadia Guzmán (TV Mini Ser...</td>\n",
       "      <td>https://www.imdb.com/title/tt14671790/</td>\n",
       "      <td>...</td>\n",
       "      <td>NaN</td>\n",
       "      <td>NaN</td>\n",
       "      <td>NaN</td>\n",
       "      <td>NaN</td>\n",
       "      <td>NaN</td>\n",
       "      <td>NaN</td>\n",
       "      <td>NaN</td>\n",
       "      <td>NaN</td>\n",
       "      <td>NaN</td>\n",
       "      <td>NaN</td>\n",
       "    </tr>\n",
       "  </tbody>\n",
       "</table>\n",
       "<p>5 rows × 27 columns</p>\n",
       "</div>"
      ],
      "text/plain": [
       "                        title                        original_title  year  \\\n",
       "1085                       달러                                Dollar  2019   \n",
       "1086                    러브 나우                                 真愛趁現在  2012   \n",
       "1087                   탕탕 라이브                              糖糖Online  2019   \n",
       "1088                     대송궁사                                  大宋宫词  2021   \n",
       "1089  엘리트들, 못다 한 이야기: 나디아 구스만  Elite Histórias Breves: Nadia Guzmán  2021   \n",
       "\n",
       "      season_episode runtime         genre age_rating Production country  \\\n",
       "1085               1   41min  액션, 드라마, 로맨스         15                레바논   \n",
       "1086               1   45min      드라마, 코미디         15                 대만   \n",
       "1087               1   24min           드라마        15+                 대만   \n",
       "1088               1   45min           드라마        15+              China   \n",
       "1089               1   11min      드라마, 로맨스        NaN                스페인   \n",
       "\n",
       "                                             IMDb_title  \\\n",
       "1085                            Dollar (TV Series 2019)   \n",
       "1086                     Love Now (TV Series 2012–2013)   \n",
       "1087                  Tang tang online (TV Series 2019)   \n",
       "1088                Palace of Devotion (TV Series 2021)   \n",
       "1089  Elite Short Stories: Nadia Guzmán (TV Mini Ser...   \n",
       "\n",
       "                                    IMDb_URL  ... season_8 season_9 season_10  \\\n",
       "1085  https://www.imdb.com/title/tt10687564/  ...      NaN      NaN       NaN   \n",
       "1086   https://www.imdb.com/title/tt6273116/  ...      NaN      NaN       NaN   \n",
       "1087  https://www.imdb.com/title/tt11330500/  ...      NaN      NaN       NaN   \n",
       "1088  https://www.imdb.com/title/tt10742204/  ...      NaN      NaN       NaN   \n",
       "1089  https://www.imdb.com/title/tt14671790/  ...      NaN      NaN       NaN   \n",
       "\n",
       "     season_11 season_12 season_13 season_14 season_15 season_16 season_17  \n",
       "1085       NaN       NaN       NaN       NaN       NaN       NaN       NaN  \n",
       "1086       NaN       NaN       NaN       NaN       NaN       NaN       NaN  \n",
       "1087       NaN       NaN       NaN       NaN       NaN       NaN       NaN  \n",
       "1088       NaN       NaN       NaN       NaN       NaN       NaN       NaN  \n",
       "1089       NaN       NaN       NaN       NaN       NaN       NaN       NaN  \n",
       "\n",
       "[5 rows x 27 columns]"
      ]
     },
     "execution_count": 42,
     "metadata": {},
     "output_type": "execute_result"
    }
   ],
   "source": [
    "df = pd.read_excel('data/episode_score.xlsx', index_col=0)\n",
    "df.tail()"
   ]
  },
  {
   "cell_type": "markdown",
   "metadata": {},
   "source": [
    "### 페이지의 각 요소 확인"
   ]
  },
  {
   "cell_type": "code",
   "execution_count": 11,
   "metadata": {},
   "outputs": [
    {
     "data": {
      "text/plain": [
       "'https://www.imdb.com/title/tt7605396/episodes/'"
      ]
     },
     "execution_count": 11,
     "metadata": {},
     "output_type": "execute_result"
    }
   ],
   "source": [
    "df.loc[1,'IMDb_URL'] + 'episodes'"
   ]
  },
  {
   "cell_type": "code",
   "execution_count": 10,
   "metadata": {},
   "outputs": [],
   "source": [
    "# 에피스드 주소로 접속\n",
    "\n",
    "driver = webdriver.Chrome()\n",
    "driver.get(df.loc[6, 'IMDb_URL'] + 'episodes')"
   ]
  },
  {
   "cell_type": "code",
   "execution_count": 6,
   "metadata": {},
   "outputs": [
    {
     "data": {
      "text/plain": [
       "[<selenium.webdriver.remote.webelement.WebElement (session=\"09685fb7db23cc8f4136379dd1d57924\", element=\"f.D204E52448789B0817932019448DF653.d.50A6680FCE70663BBF3A7C4C1D21FFF2.e.79\")>,\n",
       " <selenium.webdriver.remote.webelement.WebElement (session=\"09685fb7db23cc8f4136379dd1d57924\", element=\"f.D204E52448789B0817932019448DF653.d.50A6680FCE70663BBF3A7C4C1D21FFF2.e.80\")>,\n",
       " <selenium.webdriver.remote.webelement.WebElement (session=\"09685fb7db23cc8f4136379dd1d57924\", element=\"f.D204E52448789B0817932019448DF653.d.50A6680FCE70663BBF3A7C4C1D21FFF2.e.81\")>,\n",
       " <selenium.webdriver.remote.webelement.WebElement (session=\"09685fb7db23cc8f4136379dd1d57924\", element=\"f.D204E52448789B0817932019448DF653.d.50A6680FCE70663BBF3A7C4C1D21FFF2.e.82\")>,\n",
       " <selenium.webdriver.remote.webelement.WebElement (session=\"09685fb7db23cc8f4136379dd1d57924\", element=\"f.D204E52448789B0817932019448DF653.d.50A6680FCE70663BBF3A7C4C1D21FFF2.e.83\")>,\n",
       " <selenium.webdriver.remote.webelement.WebElement (session=\"09685fb7db23cc8f4136379dd1d57924\", element=\"f.D204E52448789B0817932019448DF653.d.50A6680FCE70663BBF3A7C4C1D21FFF2.e.84\")>,\n",
       " <selenium.webdriver.remote.webelement.WebElement (session=\"09685fb7db23cc8f4136379dd1d57924\", element=\"f.D204E52448789B0817932019448DF653.d.50A6680FCE70663BBF3A7C4C1D21FFF2.e.85\")>]"
      ]
     },
     "execution_count": 6,
     "metadata": {},
     "output_type": "execute_result"
    }
   ],
   "source": [
    "# 시즌 갯수 추출\n",
    "\n",
    "season = driver.find_elements(By.CSS_SELECTOR,'a[data-testid=\"tab-season-entry\"]')\n",
    "season"
   ]
  },
  {
   "cell_type": "code",
   "execution_count": 7,
   "metadata": {},
   "outputs": [
    {
     "data": {
      "text/plain": [
       "7"
      ]
     },
     "execution_count": 7,
     "metadata": {},
     "output_type": "execute_result"
    }
   ],
   "source": [
    "len(season)"
   ]
  },
  {
   "cell_type": "code",
   "execution_count": 5,
   "metadata": {},
   "outputs": [
    {
     "data": {
      "text/plain": [
       "[<selenium.webdriver.remote.webelement.WebElement (session=\"09685fb7db23cc8f4136379dd1d57924\", element=\"f.D204E52448789B0817932019448DF653.d.50A6680FCE70663BBF3A7C4C1D21FFF2.e.62\")>,\n",
       " <selenium.webdriver.remote.webelement.WebElement (session=\"09685fb7db23cc8f4136379dd1d57924\", element=\"f.D204E52448789B0817932019448DF653.d.50A6680FCE70663BBF3A7C4C1D21FFF2.e.59\")>,\n",
       " <selenium.webdriver.remote.webelement.WebElement (session=\"09685fb7db23cc8f4136379dd1d57924\", element=\"f.D204E52448789B0817932019448DF653.d.50A6680FCE70663BBF3A7C4C1D21FFF2.e.63\")>,\n",
       " <selenium.webdriver.remote.webelement.WebElement (session=\"09685fb7db23cc8f4136379dd1d57924\", element=\"f.D204E52448789B0817932019448DF653.d.50A6680FCE70663BBF3A7C4C1D21FFF2.e.64\")>,\n",
       " <selenium.webdriver.remote.webelement.WebElement (session=\"09685fb7db23cc8f4136379dd1d57924\", element=\"f.D204E52448789B0817932019448DF653.d.50A6680FCE70663BBF3A7C4C1D21FFF2.e.65\")>,\n",
       " <selenium.webdriver.remote.webelement.WebElement (session=\"09685fb7db23cc8f4136379dd1d57924\", element=\"f.D204E52448789B0817932019448DF653.d.50A6680FCE70663BBF3A7C4C1D21FFF2.e.66\")>,\n",
       " <selenium.webdriver.remote.webelement.WebElement (session=\"09685fb7db23cc8f4136379dd1d57924\", element=\"f.D204E52448789B0817932019448DF653.d.50A6680FCE70663BBF3A7C4C1D21FFF2.e.67\")>,\n",
       " <selenium.webdriver.remote.webelement.WebElement (session=\"09685fb7db23cc8f4136379dd1d57924\", element=\"f.D204E52448789B0817932019448DF653.d.50A6680FCE70663BBF3A7C4C1D21FFF2.e.68\")>,\n",
       " <selenium.webdriver.remote.webelement.WebElement (session=\"09685fb7db23cc8f4136379dd1d57924\", element=\"f.D204E52448789B0817932019448DF653.d.50A6680FCE70663BBF3A7C4C1D21FFF2.e.69\")>,\n",
       " <selenium.webdriver.remote.webelement.WebElement (session=\"09685fb7db23cc8f4136379dd1d57924\", element=\"f.D204E52448789B0817932019448DF653.d.50A6680FCE70663BBF3A7C4C1D21FFF2.e.70\")>,\n",
       " <selenium.webdriver.remote.webelement.WebElement (session=\"09685fb7db23cc8f4136379dd1d57924\", element=\"f.D204E52448789B0817932019448DF653.d.50A6680FCE70663BBF3A7C4C1D21FFF2.e.71\")>,\n",
       " <selenium.webdriver.remote.webelement.WebElement (session=\"09685fb7db23cc8f4136379dd1d57924\", element=\"f.D204E52448789B0817932019448DF653.d.50A6680FCE70663BBF3A7C4C1D21FFF2.e.72\")>,\n",
       " <selenium.webdriver.remote.webelement.WebElement (session=\"09685fb7db23cc8f4136379dd1d57924\", element=\"f.D204E52448789B0817932019448DF653.d.50A6680FCE70663BBF3A7C4C1D21FFF2.e.73\")>,\n",
       " <selenium.webdriver.remote.webelement.WebElement (session=\"09685fb7db23cc8f4136379dd1d57924\", element=\"f.D204E52448789B0817932019448DF653.d.50A6680FCE70663BBF3A7C4C1D21FFF2.e.74\")>,\n",
       " <selenium.webdriver.remote.webelement.WebElement (session=\"09685fb7db23cc8f4136379dd1d57924\", element=\"f.D204E52448789B0817932019448DF653.d.50A6680FCE70663BBF3A7C4C1D21FFF2.e.75\")>,\n",
       " <selenium.webdriver.remote.webelement.WebElement (session=\"09685fb7db23cc8f4136379dd1d57924\", element=\"f.D204E52448789B0817932019448DF653.d.50A6680FCE70663BBF3A7C4C1D21FFF2.e.76\")>,\n",
       " <selenium.webdriver.remote.webelement.WebElement (session=\"09685fb7db23cc8f4136379dd1d57924\", element=\"f.D204E52448789B0817932019448DF653.d.50A6680FCE70663BBF3A7C4C1D21FFF2.e.77\")>,\n",
       " <selenium.webdriver.remote.webelement.WebElement (session=\"09685fb7db23cc8f4136379dd1d57924\", element=\"f.D204E52448789B0817932019448DF653.d.50A6680FCE70663BBF3A7C4C1D21FFF2.e.78\")>]"
      ]
     },
     "execution_count": 5,
     "metadata": {},
     "output_type": "execute_result"
    }
   ],
   "source": [
    "episode_score = driver.find_elements(By.CSS_SELECTOR, '#__next > main > div > section > div > section > div > div > section:nth-child(2) > section > article')\n",
    "episode_score"
   ]
  },
  {
   "cell_type": "code",
   "execution_count": 109,
   "metadata": {},
   "outputs": [
    {
     "data": {
      "text/plain": [
       "['TOP-RATED',\n",
       " 'S1.E1 ∙ Mugunghwa kkoch-i pideon nal',\n",
       " 'Fri, Sep 17, 2021',\n",
       " 'Hoping to win easy money, a broke and desperate Gi-hun agrees to take part in an enigmatic game. Not long into the first round, unforeseen horrors unfold.',\n",
       " '8.2',\n",
       " '/10',\n",
       " ' (16K)',\n",
       " 'Rate']"
      ]
     },
     "execution_count": 109,
     "metadata": {},
     "output_type": "execute_result"
    }
   ],
   "source": [
    "text = episode_score[0].text.split('\\n')\n",
    "text"
   ]
  },
  {
   "cell_type": "code",
   "execution_count": 119,
   "metadata": {},
   "outputs": [
    {
     "name": "stdout",
     "output_type": "stream",
     "text": [
      "S1.E1\n"
     ]
    }
   ],
   "source": [
    "# 시즌 정보 추출\n",
    "\n",
    "for n in text:\n",
    "    if n[0] == 'S':\n",
    "        print(n[:5])"
   ]
  },
  {
   "cell_type": "code",
   "execution_count": 136,
   "metadata": {},
   "outputs": [
    {
     "name": "stdout",
     "output_type": "stream",
     "text": [
      "S1.E9\n",
      "2021\n"
     ]
    }
   ],
   "source": [
    "i = 0\n",
    "\n",
    "for n in episode_score[-1].text.split('\\n'):\n",
    "    if n[0] == 'S':\n",
    "        season_num = n[:5]\n",
    "        year = episode_score[-1].text.split('\\n')[i+1][-4:]\n",
    "    i+=1"
   ]
  },
  {
   "cell_type": "code",
   "execution_count": 126,
   "metadata": {},
   "outputs": [
    {
     "data": {
      "text/plain": [
       "('8.2', '16K')"
      ]
     },
     "execution_count": 126,
     "metadata": {},
     "output_type": "execute_result"
    }
   ],
   "source": [
    "# 평점과 투표자 수 추출\n",
    "\n",
    "text[-4], text[-2].strip()[1:-1]"
   ]
  },
  {
   "cell_type": "code",
   "execution_count": null,
   "metadata": {},
   "outputs": [],
   "source": [
    "# 24년 개봉 작품 확인\n",
    "\n",
    "driver.find_elements(By.CSS_SELECTOR, 'article > div > div > div.sc-ccd6e31b-4.eMYVLm > div.sc-ccd6e31b-5.cXcoHr > span')"
   ]
  },
  {
   "cell_type": "code",
   "execution_count": 50,
   "metadata": {},
   "outputs": [
    {
     "data": {
      "text/plain": [
       "[<selenium.webdriver.remote.webelement.WebElement (session=\"1b50df5de6e8f5778d2ace8ef0c19414\", element=\"f.0B75F2AD272C091E432BFE6A9C172A84.d.B6592C3750F0CB1342352268DB4B89C5.e.7921\")>,\n",
       " <selenium.webdriver.remote.webelement.WebElement (session=\"1b50df5de6e8f5778d2ace8ef0c19414\", element=\"f.0B75F2AD272C091E432BFE6A9C172A84.d.B6592C3750F0CB1342352268DB4B89C5.e.7861\")>,\n",
       " <selenium.webdriver.remote.webelement.WebElement (session=\"1b50df5de6e8f5778d2ace8ef0c19414\", element=\"f.0B75F2AD272C091E432BFE6A9C172A84.d.B6592C3750F0CB1342352268DB4B89C5.e.7801\")>,\n",
       " <selenium.webdriver.remote.webelement.WebElement (session=\"1b50df5de6e8f5778d2ace8ef0c19414\", element=\"f.0B75F2AD272C091E432BFE6A9C172A84.d.B6592C3750F0CB1342352268DB4B89C5.e.7741\")>,\n",
       " <selenium.webdriver.remote.webelement.WebElement (session=\"1b50df5de6e8f5778d2ace8ef0c19414\", element=\"f.0B75F2AD272C091E432BFE6A9C172A84.d.B6592C3750F0CB1342352268DB4B89C5.e.7681\")>,\n",
       " <selenium.webdriver.remote.webelement.WebElement (session=\"1b50df5de6e8f5778d2ace8ef0c19414\", element=\"f.0B75F2AD272C091E432BFE6A9C172A84.d.B6592C3750F0CB1342352268DB4B89C5.e.7621\")>,\n",
       " <selenium.webdriver.remote.webelement.WebElement (session=\"1b50df5de6e8f5778d2ace8ef0c19414\", element=\"f.0B75F2AD272C091E432BFE6A9C172A84.d.B6592C3750F0CB1342352268DB4B89C5.e.7561\")>,\n",
       " <selenium.webdriver.remote.webelement.WebElement (session=\"1b50df5de6e8f5778d2ace8ef0c19414\", element=\"f.0B75F2AD272C091E432BFE6A9C172A84.d.B6592C3750F0CB1342352268DB4B89C5.e.7501\")>,\n",
       " <selenium.webdriver.remote.webelement.WebElement (session=\"1b50df5de6e8f5778d2ace8ef0c19414\", element=\"f.0B75F2AD272C091E432BFE6A9C172A84.d.B6592C3750F0CB1342352268DB4B89C5.e.7441\")>]"
      ]
     },
     "execution_count": 50,
     "metadata": {},
     "output_type": "execute_result"
    }
   ],
   "source": [
    "driver.find_elements(By.CSS_SELECTOR, 'section:nth-child(2) > section > article > div > div > div > div > div > span')"
   ]
  },
  {
   "cell_type": "code",
   "execution_count": 52,
   "metadata": {},
   "outputs": [
    {
     "data": {
      "text/plain": [
       "'8.2\\n/10\\n (16K)'"
      ]
     },
     "execution_count": 52,
     "metadata": {},
     "output_type": "execute_result"
    }
   ],
   "source": [
    "score = driver.find_elements(By.CSS_SELECTOR, 'section:nth-child(2) > section > article > div > div > div > div > div > span')[0].text\n",
    "score"
   ]
  },
  {
   "cell_type": "code",
   "execution_count": 64,
   "metadata": {},
   "outputs": [
    {
     "data": {
      "text/plain": [
       "'8.2'"
      ]
     },
     "execution_count": 64,
     "metadata": {},
     "output_type": "execute_result"
    }
   ],
   "source": [
    "# 평점 추출\n",
    "\n",
    "score.split('\\n')[0]"
   ]
  },
  {
   "cell_type": "code",
   "execution_count": 62,
   "metadata": {},
   "outputs": [
    {
     "data": {
      "text/plain": [
       "'16K'"
      ]
     },
     "execution_count": 62,
     "metadata": {},
     "output_type": "execute_result"
    }
   ],
   "source": [
    "# 투표수 추출\n",
    "\n",
    "score.split('\\n')[2].strip()[1:-1]"
   ]
  },
  {
   "cell_type": "code",
   "execution_count": 76,
   "metadata": {},
   "outputs": [],
   "source": [
    "driver.get(df.loc[1,'IMDb_URL'] + 'episodes')"
   ]
  },
  {
   "cell_type": "code",
   "execution_count": 77,
   "metadata": {},
   "outputs": [
    {
     "data": {
      "text/plain": [
       "'https://www.imdb.com/title/tt7605396/episodes'"
      ]
     },
     "execution_count": 77,
     "metadata": {},
     "output_type": "execute_result"
    }
   ],
   "source": [
    "df.loc[1,'IMDb_URL'] + 'episodes'"
   ]
  },
  {
   "cell_type": "code",
   "execution_count": 40,
   "metadata": {},
   "outputs": [
    {
     "data": {
      "text/plain": [
       "['season_1',\n",
       " 'season_2',\n",
       " 'season_3',\n",
       " 'season_4',\n",
       " 'season_5',\n",
       " 'season_6',\n",
       " 'season_7',\n",
       " 'season_8',\n",
       " 'season_9',\n",
       " 'season_10',\n",
       " 'season_11',\n",
       " 'season_12',\n",
       " 'season_13',\n",
       " 'season_14',\n",
       " 'season_15',\n",
       " 'season_16',\n",
       " 'season_17']"
      ]
     },
     "execution_count": 40,
     "metadata": {},
     "output_type": "execute_result"
    }
   ],
   "source": [
    "columns = ['season_' + str(i) for i in range(1, 18)]\n",
    "columns"
   ]
  },
  {
   "cell_type": "code",
   "execution_count": 41,
   "metadata": {},
   "outputs": [
    {
     "data": {
      "text/html": [
       "<div>\n",
       "<style scoped>\n",
       "    .dataframe tbody tr th:only-of-type {\n",
       "        vertical-align: middle;\n",
       "    }\n",
       "\n",
       "    .dataframe tbody tr th {\n",
       "        vertical-align: top;\n",
       "    }\n",
       "\n",
       "    .dataframe thead th {\n",
       "        text-align: right;\n",
       "    }\n",
       "</style>\n",
       "<table border=\"1\" class=\"dataframe\">\n",
       "  <thead>\n",
       "    <tr style=\"text-align: right;\">\n",
       "      <th></th>\n",
       "      <th>title</th>\n",
       "      <th>original_title</th>\n",
       "      <th>year</th>\n",
       "      <th>season_episode</th>\n",
       "      <th>runtime</th>\n",
       "      <th>genre</th>\n",
       "      <th>age_rating</th>\n",
       "      <th>Production country</th>\n",
       "      <th>IMDb_title</th>\n",
       "      <th>IMDb_URL</th>\n",
       "      <th>...</th>\n",
       "      <th>season_8</th>\n",
       "      <th>season_9</th>\n",
       "      <th>season_10</th>\n",
       "      <th>season_11</th>\n",
       "      <th>season_12</th>\n",
       "      <th>season_13</th>\n",
       "      <th>season_14</th>\n",
       "      <th>season_15</th>\n",
       "      <th>season_16</th>\n",
       "      <th>season_17</th>\n",
       "    </tr>\n",
       "  </thead>\n",
       "  <tbody>\n",
       "    <tr>\n",
       "      <th>0</th>\n",
       "      <td>Ojingeo Geim</td>\n",
       "      <td>Squid Game</td>\n",
       "      <td>2021</td>\n",
       "      <td>2</td>\n",
       "      <td>55min</td>\n",
       "      <td>액션, 드라마, 스릴러</td>\n",
       "      <td>19</td>\n",
       "      <td>대한민국</td>\n",
       "      <td>Squid Game (TV Series 2021)</td>\n",
       "      <td>https://www.imdb.com/title/tt10919420/</td>\n",
       "      <td>...</td>\n",
       "      <td>None</td>\n",
       "      <td>None</td>\n",
       "      <td>None</td>\n",
       "      <td>None</td>\n",
       "      <td>None</td>\n",
       "      <td>None</td>\n",
       "      <td>None</td>\n",
       "      <td>None</td>\n",
       "      <td>None</td>\n",
       "      <td>None</td>\n",
       "    </tr>\n",
       "    <tr>\n",
       "      <th>1</th>\n",
       "      <td>12인의 심판자</td>\n",
       "      <td>The Twelve</td>\n",
       "      <td>2019</td>\n",
       "      <td>2</td>\n",
       "      <td>54min</td>\n",
       "      <td>드라마, 스릴러</td>\n",
       "      <td>NaN</td>\n",
       "      <td>벨기에</td>\n",
       "      <td>The Twelve (TV Series 2019–2023)</td>\n",
       "      <td>https://www.imdb.com/title/tt7605396/</td>\n",
       "      <td>...</td>\n",
       "      <td>None</td>\n",
       "      <td>None</td>\n",
       "      <td>None</td>\n",
       "      <td>None</td>\n",
       "      <td>None</td>\n",
       "      <td>None</td>\n",
       "      <td>None</td>\n",
       "      <td>None</td>\n",
       "      <td>None</td>\n",
       "      <td>None</td>\n",
       "    </tr>\n",
       "    <tr>\n",
       "      <th>2</th>\n",
       "      <td>희생자 게임</td>\n",
       "      <td>誰是被害者</td>\n",
       "      <td>2020</td>\n",
       "      <td>2</td>\n",
       "      <td>1시간 0분</td>\n",
       "      <td>드라마, 범죄, 스릴러</td>\n",
       "      <td>19</td>\n",
       "      <td>대만</td>\n",
       "      <td>The Victims' Game (TV Series 2020)</td>\n",
       "      <td>https://www.imdb.com/title/tt12079212/</td>\n",
       "      <td>...</td>\n",
       "      <td>None</td>\n",
       "      <td>None</td>\n",
       "      <td>None</td>\n",
       "      <td>None</td>\n",
       "      <td>None</td>\n",
       "      <td>None</td>\n",
       "      <td>None</td>\n",
       "      <td>None</td>\n",
       "      <td>None</td>\n",
       "      <td>None</td>\n",
       "    </tr>\n",
       "    <tr>\n",
       "      <th>3</th>\n",
       "      <td>스위트 투스: 사슴뿔을 가진 소년</td>\n",
       "      <td>Sweet Tooth</td>\n",
       "      <td>2021</td>\n",
       "      <td>3</td>\n",
       "      <td>52min</td>\n",
       "      <td>SF, 드라마, 판타지, 액션</td>\n",
       "      <td>15</td>\n",
       "      <td>미국</td>\n",
       "      <td>Sweet Tooth (TV Series 2021)</td>\n",
       "      <td>https://www.imdb.com/title/tt12809988/</td>\n",
       "      <td>...</td>\n",
       "      <td>None</td>\n",
       "      <td>None</td>\n",
       "      <td>None</td>\n",
       "      <td>None</td>\n",
       "      <td>None</td>\n",
       "      <td>None</td>\n",
       "      <td>None</td>\n",
       "      <td>None</td>\n",
       "      <td>None</td>\n",
       "      <td>None</td>\n",
       "    </tr>\n",
       "    <tr>\n",
       "      <th>4</th>\n",
       "      <td>Sweet Home</td>\n",
       "      <td>NaN</td>\n",
       "      <td>2020</td>\n",
       "      <td>3</td>\n",
       "      <td>1시간 0분</td>\n",
       "      <td>스릴러, 드라마, 판타지, 공포, SF, 범죄</td>\n",
       "      <td>NaN</td>\n",
       "      <td>대한민국</td>\n",
       "      <td>Sweet Home (TV Series 2020)</td>\n",
       "      <td>https://www.imdb.com/title/tt11612120/</td>\n",
       "      <td>...</td>\n",
       "      <td>None</td>\n",
       "      <td>None</td>\n",
       "      <td>None</td>\n",
       "      <td>None</td>\n",
       "      <td>None</td>\n",
       "      <td>None</td>\n",
       "      <td>None</td>\n",
       "      <td>None</td>\n",
       "      <td>None</td>\n",
       "      <td>None</td>\n",
       "    </tr>\n",
       "  </tbody>\n",
       "</table>\n",
       "<p>5 rows × 27 columns</p>\n",
       "</div>"
      ],
      "text/plain": [
       "                title original_title  year  season_episode runtime  \\\n",
       "0        Ojingeo Geim     Squid Game  2021               2   55min   \n",
       "1            12인의 심판자     The Twelve  2019               2   54min   \n",
       "2              희생자 게임          誰是被害者  2020               2  1시간 0분   \n",
       "3  스위트 투스: 사슴뿔을 가진 소년    Sweet Tooth  2021               3   52min   \n",
       "4          Sweet Home            NaN  2020               3  1시간 0분   \n",
       "\n",
       "                       genre age_rating Production country  \\\n",
       "0               액션, 드라마, 스릴러         19               대한민국   \n",
       "1                   드라마, 스릴러        NaN                벨기에   \n",
       "2               드라마, 범죄, 스릴러         19                 대만   \n",
       "3           SF, 드라마, 판타지, 액션         15                 미국   \n",
       "4  스릴러, 드라마, 판타지, 공포, SF, 범죄        NaN               대한민국   \n",
       "\n",
       "                           IMDb_title                                IMDb_URL  \\\n",
       "0         Squid Game (TV Series 2021)  https://www.imdb.com/title/tt10919420/   \n",
       "1    The Twelve (TV Series 2019–2023)   https://www.imdb.com/title/tt7605396/   \n",
       "2  The Victims' Game (TV Series 2020)  https://www.imdb.com/title/tt12079212/   \n",
       "3        Sweet Tooth (TV Series 2021)  https://www.imdb.com/title/tt12809988/   \n",
       "4         Sweet Home (TV Series 2020)  https://www.imdb.com/title/tt11612120/   \n",
       "\n",
       "   ... season_8 season_9 season_10 season_11 season_12 season_13 season_14  \\\n",
       "0  ...     None     None      None      None      None      None      None   \n",
       "1  ...     None     None      None      None      None      None      None   \n",
       "2  ...     None     None      None      None      None      None      None   \n",
       "3  ...     None     None      None      None      None      None      None   \n",
       "4  ...     None     None      None      None      None      None      None   \n",
       "\n",
       "  season_15 season_16 season_17  \n",
       "0      None      None      None  \n",
       "1      None      None      None  \n",
       "2      None      None      None  \n",
       "3      None      None      None  \n",
       "4      None      None      None  \n",
       "\n",
       "[5 rows x 27 columns]"
      ]
     },
     "execution_count": 41,
     "metadata": {},
     "output_type": "execute_result"
    }
   ],
   "source": [
    "df.loc[:,columns] = None\n",
    "df.head()"
   ]
  },
  {
   "cell_type": "markdown",
   "metadata": {},
   "source": [
    "### 크롤링"
   ]
  },
  {
   "cell_type": "code",
   "execution_count": 17,
   "metadata": {},
   "outputs": [],
   "source": [
    "# 스크롤을 위한 액션체인\n",
    "\n",
    "action = ActionChains(driver)"
   ]
  },
  {
   "cell_type": "code",
   "execution_count": 384,
   "metadata": {},
   "outputs": [],
   "source": [
    "driver.close()"
   ]
  },
  {
   "cell_type": "code",
   "execution_count": 28,
   "metadata": {},
   "outputs": [
    {
     "name": "stderr",
     "output_type": "stream",
     "text": [
      "2it [00:12,  6.38s/it]\n"
     ]
    }
   ],
   "source": [
    "\n",
    "for idx, url in tqdm(df.iterrows()):\n",
    "    if type(url['IMDb_URL']) == float:\n",
    "        continue\n",
    "    else:\n",
    "        driver.get(url['IMDb_URL'] + 'episodes')\n",
    "\n",
    "    # 시즌 개수 추출\n",
    "    season = driver.find_elements(By.CSS_SELECTOR,'a[data-testid=\"tab-season-entry\"]')\n",
    "\n",
    "    for s in range(len(season)):\n",
    "        time.sleep(3)\n",
    "        \n",
    "        years = []\n",
    "        score_dict = {}\n",
    "\n",
    "        # 에피소드별 정보 추출\n",
    "        episode_score = driver.find_elements(By.CSS_SELECTOR, '#__next > main > div > section > div > section > div > div > section:nth-child(2) > section > article')\n",
    "\n",
    "        # 해당 시즌 에피소드의 연도만 추출\n",
    "        for i in episode_score:\n",
    "            y = 0\n",
    "            for j in re.split('(\\d\\d\\d\\d)', i.text):\n",
    "                if len(j) == 4:\n",
    "                    years.append(j)\n",
    "                    break\n",
    "        \n",
    "        if '2024' in years:\n",
    "            break\n",
    "        \n",
    "        for row in episode_score:\n",
    "            data = row.text\n",
    "            data = data.split('\\n')\n",
    "\n",
    "            for n in data:\n",
    "                if n[0] == 'S':\n",
    "                    season_episode_num = n.split(' ∙ ')[0]\n",
    "                    break\n",
    "            \n",
    "            try:\n",
    "                if data[-1] == 'Watch options':\n",
    "                    score = data[-5]\n",
    "                    vote_num = data[-3].strip()[1:-1]\n",
    "                    if len(score) > 3:\n",
    "                        column = 'season_' + str(s + 1)\n",
    "                        df.at[idx, column] = '평점 없음'\n",
    "                        break\n",
    "                    score_dict[season_episode_num] = [score, vote_num]\n",
    "                else:\n",
    "                    score = data[-4]\n",
    "                    vote_num = data[-2].strip()[1:-1]\n",
    "                    if len(score) > 3:\n",
    "                        column = 'season_' + str(s + 1)\n",
    "                        df.at[idx, column] = '평점 없음'\n",
    "                        break\n",
    "                    score_dict[season_episode_num] = [score, vote_num]\n",
    "            except:\n",
    "                break\n",
    "        \n",
    "        if len(score_dict.values()) == 0:\n",
    "            continue\n",
    "        else:\n",
    "            column = 'season_' + str(s + 1)\n",
    "            df.at[idx, column] = score_dict\n",
    "\n",
    "        if len(df.at[idx, column]) == 1:\n",
    "            df.at[idx, column] = '확인 필요'\n",
    "\n",
    "        if len(score) > 3:\n",
    "            df.at[idx, column] = '평점 없음'\n",
    "\n",
    "        episode_score = 0\n",
    "\n",
    "        if s < len(season) - 1:\n",
    "            some_tag = driver.find_element(By.CSS_SELECTOR, '#next-season-btn > svg')\n",
    "            action.move_to_element(some_tag).perform()\n",
    "            driver.find_element(By.CSS_SELECTOR, '#next-season-btn > svg').click()"
   ]
  },
  {
   "cell_type": "code",
   "execution_count": 40,
   "metadata": {},
   "outputs": [],
   "source": [
    "# 확인 필요 컬럼 추출\n",
    "\n",
    "for idx, row in df.loc[:,'season_1':'season_17'].iterrows():\n",
    "    for i in row:\n",
    "        if i == '확인 필요':\n",
    "            print(idx)"
   ]
  },
  {
   "cell_type": "code",
   "execution_count": 41,
   "metadata": {},
   "outputs": [],
   "source": [
    "# 시즌 넘버가 잘못 지정된 밸류 추출\n",
    "\n",
    "for idx, row in df.loc[:,'season_1':'season_17'].iterrows():\n",
    "    s = 1\n",
    "    for j in row:\n",
    "        if type(j) == float:\n",
    "            break\n",
    "        elif j == None:\n",
    "            continue\n",
    "        elif type(j) != str:\n",
    "            for i in j.keys():\n",
    "                if 'S'+str(s) == i.split('.')[0]:\n",
    "                    continue\n",
    "                elif 'S'+str(s) != i.split('.')[0]:\n",
    "                    print(idx)\n",
    "                    break\n",
    "        s+=1"
   ]
  },
  {
   "cell_type": "code",
   "execution_count": 75,
   "metadata": {},
   "outputs": [
    {
     "ename": "AttributeError",
     "evalue": "'NoneType' object has no attribute 'values'",
     "output_type": "error",
     "traceback": [
      "\u001b[1;31m---------------------------------------------------------------------------\u001b[0m",
      "\u001b[1;31mAttributeError\u001b[0m                            Traceback (most recent call last)",
      "Cell \u001b[1;32mIn[75], line 6\u001b[0m\n\u001b[0;32m      4\u001b[0m     \u001b[38;5;28;01mbreak\u001b[39;00m\n\u001b[0;32m      5\u001b[0m \u001b[38;5;28;01mif\u001b[39;00m \u001b[38;5;28mtype\u001b[39m(j) \u001b[38;5;241m!=\u001b[39m \u001b[38;5;28mstr\u001b[39m:\n\u001b[1;32m----> 6\u001b[0m     \u001b[38;5;28;01mfor\u001b[39;00m i \u001b[38;5;129;01min\u001b[39;00m \u001b[43mj\u001b[49m\u001b[38;5;241;43m.\u001b[39;49m\u001b[43mvalues\u001b[49m():\n\u001b[0;32m      7\u001b[0m         \u001b[38;5;28;01mif\u001b[39;00m \u001b[38;5;28mlen\u001b[39m(i[\u001b[38;5;241m0\u001b[39m]) \u001b[38;5;241m>\u001b[39m \u001b[38;5;241m3\u001b[39m:\n\u001b[0;32m      8\u001b[0m             \u001b[38;5;28mprint\u001b[39m(idx)\n",
      "\u001b[1;31mAttributeError\u001b[0m: 'NoneType' object has no attribute 'values'"
     ]
    }
   ],
   "source": [
    "# 문자열이 들어간 밸류 추출\n",
    "\n",
    "for idx, row in df.loc[:,'season_1':'season_17'].iterrows():\n",
    "    for j in row:\n",
    "        if type(j) == float:\n",
    "            break\n",
    "        if type(j) != str:\n",
    "            for i in j.values():\n",
    "                if len(i[0]) > 3:\n",
    "                    print(idx)"
   ]
  },
  {
   "cell_type": "code",
   "execution_count": null,
   "metadata": {},
   "outputs": [],
   "source": [
    "# 뷰티풀숩을 이용한 크롤링\n",
    "\n",
    "for idx, url in tqdm(df.loc[20:21].iterrows()):\n",
    "    ua = UserAgent()\n",
    "    req = Request(url['IMDb_URL'] + 'episodes', headers={\"user-agent\": ua.ie})\n",
    "    html = urlopen(req)\n",
    "    time.sleep(2)\n",
    "    season_number = 1\n",
    "\n",
    "    # 시즌 개수 추출\n",
    "    season = driver.find_elements(By.CSS_SELECTOR,'a[data-testid=\"tab-season-entry\"]')\n",
    "\n",
    "    for i in range(len(season)):\n",
    "        time.sleep(2)\n",
    "        years = []\n",
    "        score_dict = {}\n",
    "\n",
    "        # 에피소드별 정보 추출\n",
    "        soup = BeautifulSoup(driver.page_source, 'html.parser')\n",
    "        episode_score = soup.select('.sc-282bae8e-1.dSEzwa.episode-item-wrapper')\n",
    "\n",
    "        # 해당 시즌 에피소드의 연도만 추출\n",
    "        for i in episode_score:\n",
    "            for j in re.split('(\\d\\d\\d\\d)', i.text):\n",
    "                if len(j) == 4:\n",
    "                    years.append(j)\n",
    "        \n",
    "        if '2024' in years:\n",
    "            break\n",
    "\n",
    "        for row in episode_score:\n",
    "            \n",
    "            try:\n",
    "                # 시즌 번호와 에피소드 번호 추출\n",
    "                season_episode_num = re.split('(S\\d+.E\\d+)', row.text.strip())[1]\n",
    "\n",
    "                # 평점 추출\n",
    "                score = re.split('.(\\d\\.?\\d?)/10', row.text)[1]\n",
    "\n",
    "                vote_num = re.split('(\\d+\\S?)', row.text)[-2]\n",
    "\n",
    "                score_dict[season_episode_num] = [score, vote_num]\n",
    "            except:\n",
    "                pass\n",
    "        \n",
    "        if len(score_dict.values()) == 0:\n",
    "            continue\n",
    "        else:\n",
    "            column = 'season_' + str(season_number)\n",
    "            season_number += 1\n",
    "            df.at[idx, column] = score_dict\n",
    "\n",
    "        if len(df.at[idx, column]) == 1:\n",
    "            df.at[idx, column] = '확인 필요'\n",
    "\n",
    "        try:\n",
    "            some_tag = driver.find_element(By.CSS_SELECTOR, '#next-season-btn > svg')\n",
    "            action.move_to_element(some_tag).perform()\n",
    "            driver.find_element(By.CSS_SELECTOR, '#next-season-btn > svg').click()\n",
    "        except:\n",
    "            pass"
   ]
  },
  {
   "cell_type": "markdown",
   "metadata": {},
   "source": [
    "### 데이터 저장"
   ]
  },
  {
   "cell_type": "code",
   "execution_count": 30,
   "metadata": {},
   "outputs": [],
   "source": [
    "# 시즌 내 에피스드 중 평점이 하나라도 없으면 평점 없음으로 처리\n",
    "# 에피소드 중 2024년 중 공개한 작품이 포함되어 있을 경우 표기 없이 시즌 채로 제외. 시즌1부터 2024년 공개작 포함일 경우에만 '2024년 공개작 포함' 표시\n",
    "# 에피소드 중 하나라도 평점이 없는 경우 시즌 채로 '평점 없음' 표시\n",
    "# 에피소드 정보가 없을 경우 '에피소드 정보 없음' 표시\n",
    "# 시즌 넘버가 붙지 않은 외전 시즌은 IMDb에서 붙여놓은 시즌 네임을 키 값으로 설정 (19, 149, 208, 331, 791)\n",
    "\n",
    "df.to_excel('data/episode_score.xlsx')"
   ]
  }
 ],
 "metadata": {
  "kernelspec": {
   "display_name": "Python 3 (ipykernel)",
   "language": "python",
   "name": "python3"
  },
  "language_info": {
   "codemirror_mode": {
    "name": "ipython",
    "version": 3
   },
   "file_extension": ".py",
   "mimetype": "text/x-python",
   "name": "python",
   "nbconvert_exporter": "python",
   "pygments_lexer": "ipython3",
   "version": "3.8.19"
  }
 },
 "nbformat": 4,
 "nbformat_minor": 4
}
