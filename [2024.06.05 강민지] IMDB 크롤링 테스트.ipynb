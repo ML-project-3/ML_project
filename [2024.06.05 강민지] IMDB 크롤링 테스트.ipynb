{
 "cells": [
  {
   "cell_type": "code",
   "execution_count": 24,
   "id": "341d76ab-6d92-4412-a520-21bd6a644742",
   "metadata": {},
   "outputs": [],
   "source": [
    "# 모듈 불러오기\n",
    "import pandas as pd\n",
    "import numpy as np\n",
    "import time\n",
    "import re\n",
    "\n",
    "from tqdm import tqdm_notebook\n",
    "from bs4 import BeautifulSoup\n",
    "from selenium import webdriver\n",
    "from selenium.webdriver import ActionChains\n",
    "from selenium.webdriver.common.by import By\n",
    "from selenium.webdriver.common.keys import Keys\n",
    "from selenium.webdriver.support.ui import WebDriverWait\n",
    "from selenium.webdriver.support import expected_conditions as EC"
   ]
  },
  {
   "cell_type": "markdown",
   "id": "d3da0f5f-3d36-4ea9-8322-555f715a5e87",
   "metadata": {},
   "source": [
    "## 1. Main Page"
   ]
  },
  {
   "cell_type": "code",
   "execution_count": 4,
   "id": "2b33213f-81cc-426c-a814-0680e065371e",
   "metadata": {},
   "outputs": [],
   "source": [
    "# Selenium 웹 드라이버 설정\n",
    "driver = webdriver.Chrome()\n",
    "\n",
    "# IMDb Bridgerton 페이지로 이동\n",
    "driver.get(\"https://www.imdb.com/title/tt8740790/\")"
   ]
  },
  {
   "cell_type": "code",
   "execution_count": 15,
   "id": "a89398b3-62d6-479c-a49e-02725661b8f9",
   "metadata": {},
   "outputs": [
    {
     "data": {
      "text/plain": [
       "'브리저튼'"
      ]
     },
     "execution_count": 15,
     "metadata": {},
     "output_type": "execute_result"
    }
   ],
   "source": [
    "# 한국 이름\n",
    "driver.find_element(By.CSS_SELECTOR, '#__next > main > div > section.ipc-page-background.ipc-page-background--base.sc-c41b9732-0.NeSef > section > div:nth-child(5) > section > section > div.sc-491663c0-3.bdjVSf > div.sc-b7c53eda-0.dUpRPQ > h1 > span').text"
   ]
  },
  {
   "cell_type": "code",
   "execution_count": 18,
   "id": "d6fc4409-aebb-4258-8d38-068c977ad16f",
   "metadata": {},
   "outputs": [
    {
     "data": {
      "text/plain": [
       "'Bridgerton'"
      ]
     },
     "execution_count": 18,
     "metadata": {},
     "output_type": "execute_result"
    }
   ],
   "source": [
    "# 원제\n",
    "driver.find_element(By.CSS_SELECTOR, '#__next > main > div > section.ipc-page-background.ipc-page-background--base.sc-c41b9732-0.NeSef > section > div:nth-child(5) > section > section > div.sc-491663c0-3.bdjVSf > div.sc-b7c53eda-0.dUpRPQ > div').text[16:]"
   ]
  },
  {
   "cell_type": "code",
   "execution_count": 9,
   "id": "23baa887-46ab-462f-85c6-44a6881faad1",
   "metadata": {},
   "outputs": [
    {
     "data": {
      "text/plain": [
       "'7.4'"
      ]
     },
     "execution_count": 9,
     "metadata": {},
     "output_type": "execute_result"
    }
   ],
   "source": [
    "# 전체 시즌의 평점\n",
    "driver.find_element(By.CSS_SELECTOR, '#__next > main > div > section.ipc-page-background.ipc-page-background--base.sc-c41b9732-0.NeSef > section > div:nth-child(5) > section > section > div.sc-491663c0-3.bdjVSf > div.sc-3a4309f8-0.bjXIAP.sc-b7c53eda-1.iIQkEw > div > div:nth-child(1) > a > span > div > div.sc-bde20123-0.dLwiNw > div.sc-bde20123-2.cdQqzc > span.sc-bde20123-1.cMEQkK').text"
   ]
  },
  {
   "cell_type": "code",
   "execution_count": 12,
   "id": "93008b97-0d24-4abb-8690-5052efd51fb4",
   "metadata": {},
   "outputs": [
    {
     "data": {
      "text/plain": [
       "'178K'"
      ]
     },
     "execution_count": 12,
     "metadata": {},
     "output_type": "execute_result"
    }
   ],
   "source": [
    "# 전체 시즌의 평점을 매긴 사람 수\n",
    "driver.find_element(By.CSS_SELECTOR, '#__next > main > div > section.ipc-page-background.ipc-page-background--base.sc-c41b9732-0.NeSef > section > div:nth-child(5) > section > section > div.sc-491663c0-3.bdjVSf > div.sc-3a4309f8-0.bjXIAP.sc-b7c53eda-1.iIQkEw > div > div:nth-child(1) > a > span > div > div.sc-bde20123-0.dLwiNw > div.sc-bde20123-3.gPVQxL').text"
   ]
  },
  {
   "cell_type": "code",
   "execution_count": 14,
   "id": "da991edf-6eea-4e88-af77-5fa404b9f620",
   "metadata": {},
   "outputs": [
    {
     "data": {
      "text/plain": [
       "'18만명의 사용자가 추가'"
      ]
     },
     "execution_count": 14,
     "metadata": {},
     "output_type": "execute_result"
    }
   ],
   "source": [
    "# Watchlist에 추가한 사람 수\n",
    "driver.find_element(By.CSS_SELECTOR, '#__next > main > div > section.ipc-page-background.ipc-page-background--base.sc-c41b9732-0.NeSef > section > div:nth-child(5) > section > section > div.sc-491663c0-4.yjUiO > div.sc-491663c0-6.lnlBxO > div.sc-491663c0-11.cvvyMK > div:nth-child(3) > div:nth-child(2) > div > button.ipc-split-button__btn > div > div.sc-b23676b3-3.bRgISf').text"
   ]
  },
  {
   "cell_type": "code",
   "execution_count": 20,
   "id": "26551a09-2d4d-4769-990d-19e083dc20ba",
   "metadata": {},
   "outputs": [
    {
     "data": {
      "text/plain": [
       "'1.9K'"
      ]
     },
     "execution_count": 20,
     "metadata": {},
     "output_type": "execute_result"
    }
   ],
   "source": [
    "# 유저 리뷰 수\n",
    "driver.find_element(By.CSS_SELECTOR, '#__next > main > div > section.ipc-page-background.ipc-page-background--base.sc-c41b9732-0.NeSef > section > div:nth-child(5) > section > section > div.sc-491663c0-4.yjUiO > div.sc-491663c0-6.lnlBxO > div.sc-491663c0-11.cvvyMK > ul > li:nth-child(1) > a > span > span.score').text"
   ]
  },
  {
   "cell_type": "code",
   "execution_count": 21,
   "id": "ad553481-5824-4461-a019-658c8db13118",
   "metadata": {},
   "outputs": [
    {
     "data": {
      "text/plain": [
       "'131'"
      ]
     },
     "execution_count": 21,
     "metadata": {},
     "output_type": "execute_result"
    }
   ],
   "source": [
    "# 전문가 리뷰 수\n",
    "driver.find_element(By.CSS_SELECTOR, '#__next > main > div > section.ipc-page-background.ipc-page-background--base.sc-c41b9732-0.NeSef > section > div:nth-child(5) > section > section > div.sc-491663c0-4.yjUiO > div.sc-491663c0-6.lnlBxO > div.sc-491663c0-11.cvvyMK > ul > li:nth-child(2) > a > span > span.score').text"
   ]
  },
  {
   "cell_type": "code",
   "execution_count": null,
   "id": "0a130c30-2f0b-4f45-b011-12f79eb887c7",
   "metadata": {},
   "outputs": [],
   "source": [
    "# 브라우저 닫기\n",
    "driver.quit()"
   ]
  },
  {
   "cell_type": "markdown",
   "id": "75f1fb0c-dc00-4321-b390-c96b4c78abf5",
   "metadata": {},
   "source": [
    "## 2. Episode"
   ]
  },
  {
   "cell_type": "code",
   "execution_count": 25,
   "id": "6a644459-3683-4d09-86eb-9cfb03ab3308",
   "metadata": {},
   "outputs": [],
   "source": [
    "# 현재 페이지 내의 정보를 저장\n",
    "raw = driver.page_source\n",
    "\n",
    "# BeautifulSoup을 이용하여 html 파싱\n",
    "soup = BeautifulSoup(raw, 'html.parser')"
   ]
  },
  {
   "cell_type": "markdown",
   "id": "96e3715c-a21b-4bb5-9de9-01a639dd451e",
   "metadata": {},
   "source": [
    "### (1) 전체 시즌\n",
    "- beautifulsoup 상에서는 총 5개라고 뜸\n",
    "- 1개는 그냥 의미없는 데이터인듯. 주유소 크롤링할 때 시/도 데이터처럼..\n",
    "- 사이트 상에서는 1, 2, 3, 4 시즌이 표기되는데, 현재 촬영이 진행되고 있는 것은 3시즌. 4시즌은 아마 제작 예정이라 넣어놓은듯?\n",
    "- -> 방영 일자를 함께 크롤링하고, 방영 일자의 연도가 2024거나 연도 크롤링 시 에러가 발생한다면 크롤링을 중지하는 방법"
   ]
  },
  {
   "cell_type": "code",
   "execution_count": 57,
   "id": "a709acfd-9669-4be4-b7ae-a276a87caa25",
   "metadata": {},
   "outputs": [
    {
     "data": {
      "text/plain": [
       "5"
      ]
     },
     "execution_count": 57,
     "metadata": {},
     "output_type": "execute_result"
    }
   ],
   "source": [
    "# 전체 시즌 개수\n",
    "season_count = soup.select('#__next > main > div > section > div > section > div > div.sc-978e9339-1.ihWZgK.ipc-page-grid__item.ipc-page-grid__item--span-2 > section:nth-child(2) > section.sc-56501f3b-0.iZwhod > div.ipc-tabs.ipc-tabs--base.ipc-tabs--align-left.ipc-tabs--display-chip.ipc-tabs--inherit > ul')[0]\n",
    "len(season_count)"
   ]
  },
  {
   "cell_type": "markdown",
   "id": "32d4b00e-c491-4d47-857d-9af5edc92aa7",
   "metadata": {},
   "source": [
    "### (2) 시즌 1\n",
    "- len으로 season1의 에피소트 개수 가져오기\n",
    "- for문으로 for i in range(len(season1)): 해서 article:nth-child(i)를 1부터 8까지 증가시켜주면 될듯..."
   ]
  },
  {
   "cell_type": "code",
   "execution_count": 34,
   "id": "74ab9838-cafd-47ee-971c-fcf4d5d0231b",
   "metadata": {},
   "outputs": [
    {
     "data": {
      "text/plain": [
       "8"
      ]
     },
     "execution_count": 34,
     "metadata": {},
     "output_type": "execute_result"
    }
   ],
   "source": [
    "# 시즌 1\n",
    "season1 = soup.select('#__next > main > div > section > div > section > div > div.sc-978e9339-1.ihWZgK.ipc-page-grid__item.ipc-page-grid__item--span-2 > section:nth-child(2) > section.sc-33cc047c-0.guTCiW')[0]\n",
    "len(season1)"
   ]
  },
  {
   "cell_type": "code",
   "execution_count": 39,
   "id": "e1408d36-46ec-425d-bf6e-a6c1df9d7c64",
   "metadata": {},
   "outputs": [
    {
     "data": {
      "text/plain": [
       "'S1.E1 ∙ Diamond of the First Water'"
      ]
     },
     "execution_count": 39,
     "metadata": {},
     "output_type": "execute_result"
    }
   ],
   "source": [
    "# 시즌 1 1화 제목\n",
    "season1.select_one('#__next > main > div > section > div > section > div > div.sc-978e9339-1.ihWZgK.ipc-page-grid__item.ipc-page-grid__item--span-2 > section:nth-child(2) > section.sc-33cc047c-0.guTCiW > article:nth-child(1) > div > div > div.sc-ccd6e31b-4.eMYVLm > div.sc-ccd6e31b-5.cXcoHr > h4 > div > a > div').text"
   ]
  },
  {
   "cell_type": "code",
   "execution_count": 43,
   "id": "79a9d850-e183-4a92-84ca-7dedea5641af",
   "metadata": {},
   "outputs": [
    {
     "data": {
      "text/plain": [
       "'Fri, Dec 25, 2020'"
      ]
     },
     "execution_count": 43,
     "metadata": {},
     "output_type": "execute_result"
    }
   ],
   "source": [
    "# 시즌 1 1화 방영 일자\n",
    "season1.select_one('#__next > main > div > section > div > section > div > div.sc-978e9339-1.ihWZgK.ipc-page-grid__item.ipc-page-grid__item--span-2 > section:nth-child(2) > section.sc-33cc047c-0.guTCiW > article:nth-child(1) > div > div > div.sc-ccd6e31b-4.eMYVLm > div.sc-ccd6e31b-5.cXcoHr > span').text"
   ]
  },
  {
   "cell_type": "code",
   "execution_count": 42,
   "id": "fc6e1369-eeef-4b38-affe-15659038a8d4",
   "metadata": {},
   "outputs": [
    {
     "data": {
      "text/plain": [
       "\"Daphne Bridgerton debuts on London's marriage market as a new gossip sheet sets high society atwitter and Simon, the eligible Duke of Hastings, returns to town.\""
      ]
     },
     "execution_count": 42,
     "metadata": {},
     "output_type": "execute_result"
    }
   ],
   "source": [
    "# 시즌 1 1화 소개\n",
    "season1.select_one('#__next > main > div > section > div > section > div > div.sc-978e9339-1.ihWZgK.ipc-page-grid__item.ipc-page-grid__item--span-2 > section:nth-child(2) > section.sc-33cc047c-0.guTCiW > article:nth-child(1) > div > div > div.sc-ccd6e31b-4.eMYVLm > div.sc-ccd6e31b-11.hJduta > div > div > div > div').text"
   ]
  },
  {
   "cell_type": "code",
   "execution_count": 50,
   "id": "5f46a01e-98b9-482b-a99c-28c7a9681eee",
   "metadata": {},
   "outputs": [
    {
     "data": {
      "text/plain": [
       "'7.2/10\\xa0(3.8K)'"
      ]
     },
     "execution_count": 50,
     "metadata": {},
     "output_type": "execute_result"
    }
   ],
   "source": [
    "# 시즌 1 1화 별점\n",
    "season1.select_one('#__next > main > div > section > div > section > div > div.sc-978e9339-1.ihWZgK.ipc-page-grid__item.ipc-page-grid__item--span-2 > section:nth-child(2) > section.sc-33cc047c-0.guTCiW > article:nth-child(1) > div > div > div.sc-ccd6e31b-4.eMYVLm > div.sc-ccd6e31b-12.kiyCDq > div > span').text"
   ]
  },
  {
   "cell_type": "code",
   "execution_count": 38,
   "id": "ff03982e-cab2-445f-b3e6-31010cd6f456",
   "metadata": {},
   "outputs": [
    {
     "data": {
      "text/plain": [
       "'S1.E2 ∙ Shock and Delight'"
      ]
     },
     "execution_count": 38,
     "metadata": {},
     "output_type": "execute_result"
    }
   ],
   "source": [
    "# 시즌 1 2화 제목\n",
    "season1.select_one('#__next > main > div > section > div > section > div > div.sc-978e9339-1.ihWZgK.ipc-page-grid__item.ipc-page-grid__item--span-2 > section:nth-child(2) > section.sc-33cc047c-0.guTCiW > article:nth-child(2) > div > div > div.sc-ccd6e31b-4.eMYVLm > div.sc-ccd6e31b-5.cXcoHr > h4 > div > a > div').text\n",
    "\n",
    "# article:nth-child(2) 로 바꾸면 2화가 크롤링 되는 것을 확인"
   ]
  },
  {
   "cell_type": "markdown",
   "id": "1870b7b8-849d-47a0-b6c5-9185af8f1686",
   "metadata": {},
   "source": [
    "## 3. Cast & Crew"
   ]
  },
  {
   "cell_type": "code",
   "execution_count": null,
   "id": "2e69a075-2eea-4024-b3e4-c42862ef6cae",
   "metadata": {},
   "outputs": [],
   "source": [
    "# 주소\n",
    "https://www.imdb.com/title/tt8740790/fullcredits"
   ]
  },
  {
   "cell_type": "code",
   "execution_count": 58,
   "id": "83349632-023e-4b27-ae09-ae59ac9269b6",
   "metadata": {},
   "outputs": [],
   "source": [
    "# 현재 페이지 내의 정보를 저장\n",
    "raw = driver.page_source\n",
    "\n",
    "# BeautifulSoup을 이용하여 html 파싱\n",
    "soup = BeautifulSoup(raw, 'html.parser')"
   ]
  },
  {
   "cell_type": "code",
   "execution_count": 85,
   "id": "11f818d3-22d0-424a-8591-c66b27a50971",
   "metadata": {},
   "outputs": [
    {
     "name": "stdout",
     "output_type": "stream",
     "text": [
      "Tom Verica\n",
      "Tricia Brock\n",
      "Sheree Folkson\n",
      "Alrick Riley\n",
      "Julie Anne Robinson\n",
      "Cheryl Dunye\n",
      "Alex Pillai\n",
      "Andrew Ahn\n",
      "Bille Woodruff\n"
     ]
    }
   ],
   "source": [
    "# 감독\n",
    "names = soup.select('#fullcredits_content > table:nth-child(2)')[0].find_all('td', class_='name')\n",
    "for name in names:\n",
    "    person_name = name.find('a').text.strip()\n",
    "    print(person_name)"
   ]
  },
  {
   "cell_type": "code",
   "execution_count": 86,
   "id": "ac697f04-e25f-4cb4-9fb9-1c3a30aaa6c1",
   "metadata": {},
   "outputs": [
    {
     "name": "stdout",
     "output_type": "stream",
     "text": [
      "Julia Quinn\n",
      "Chris Van Dusen\n",
      "Chris Van Dusen\n",
      "Chris Van Dusen\n",
      "Geetika Lizardi\n",
      "Geetika Lizardi\n",
      "Geetika Lizardi\n",
      "Jess Brownell\n",
      "Jess Brownell\n",
      "Abby McDonald\n",
      "Abby McDonald\n",
      "Joy C. Mitchell\n",
      "Joy C. Mitchell\n",
      "Daniel Robinson\n",
      "Sarah L. Thompson\n",
      "Leila Cohan\n",
      "Sarah Dollard\n",
      "Janet Lin\n",
      "Jay Ross\n",
      "Oliver Goldstick\n",
      "Lou-Lou Igbokwe\n",
      "Lauren Gamble\n",
      "Azia Squire\n",
      "Eli Wilson Pelton\n"
     ]
    }
   ],
   "source": [
    "# 작가\n",
    "names = soup.select('#fullcredits_content > table:nth-child(4)')[0].find_all('td', class_='name')\n",
    "for name in names:\n",
    "    person_name = name.find('a').text.strip()\n",
    "    print(person_name)"
   ]
  },
  {
   "cell_type": "code",
   "execution_count": 119,
   "id": "57473a09-2442-4a43-8052-c3cda6fcdc5e",
   "metadata": {},
   "outputs": [
    {
     "name": "stdout",
     "output_type": "stream",
     "text": [
      "Nicola Coughlan\n",
      "Claudia Jessie\n",
      "Luke Newton\n",
      "Julie Andrews\n",
      "Ruth Gemmell\n",
      "Luke Thompson\n",
      "Polly Walker\n",
      "Jessica Madsen\n",
      "Adjoa Andoh\n",
      "Bessie Carter\n",
      "Florence Hunt\n",
      "Will Tilston\n",
      "Joanna Bobin\n",
      "Jonathan Bailey\n",
      "Golda Rosheuvel\n",
      "Hugh Sachs\n",
      "Kathryn Drysdale\n",
      "Lorraine Ashbourne\n",
      "Harriet Cains\n",
      "Martins Imhangbe\n",
      "Phoebe Dynevor\n",
      "Emma Naomi\n",
      "Joanne Henry\n",
      "Simone Ashley\n",
      "Geraldine Alexander\n",
      "Ruby Barker\n",
      "Charithra Chandran\n",
      "Shelley Conn\n",
      "Ben Miller\n",
      "Regé-Jean Page\n",
      "Rupert Young\n",
      "Lorn Macdonald\n",
      "Molly McGlynn\n",
      "Hannah Dodd\n",
      "Victor Alli\n",
      "Jason Barnett\n",
      "Dominic Coleman\n",
      "Bert Seymour\n",
      "Calam Lynch\n",
      "Caleb Obediah\n",
      "Oli Higginson\n",
      "Sabrina Bartlett\n",
      "Ruby Stokes\n",
      "Esme Coy\n",
      "Julian Ovenden\n",
      "Daniel Francis\n",
      "Hannah New\n",
      "Sarah Junillon\n",
      "James Phoon\n",
      "Jessie Baek\n",
      "Simon Ludders\n",
      "Melissa Advani\n",
      "Rosa Hesmondhalgh\n",
      "Ray MacAllan\n",
      "Joe Barnes\n",
      "James Bryan\n",
      "Al Nedjari\n",
      "James Fleet\n",
      "Ian Attard\n",
      "Sam Phillips\n",
      "Gabrielle Oke\n",
      "Jorden Myrie\n",
      "Freddie Stroma\n",
      "Ned Porteous\n",
      "Emily Barber\n",
      "Molly Jackson-Shaw\n",
      "Thomas Flynn\n",
      "James Matthews\n",
      "Joseph Macnab\n",
      "Sandra Teles\n",
      "Naomi Preston-Low\n",
      "Banita Sandhu\n",
      "Vineeta Rishi\n",
      "Kitty Devlin\n",
      "Sophie Woolley\n",
      "Anna Wilson-Jones\n",
      "Sesley Hope\n",
      "Ariella Warburton\n",
      "Elias Amos\n",
      "Choy-Ling Man\n",
      "Jamie Beamish\n",
      "Robert Wilfort\n",
      "Lucinda Raikes\n",
      "Bailey Patrick\n",
      "Amy Beth Hayes\n",
      "Tom Lorcan\n",
      "Emma Beattie\n",
      "Sam Frenchum\n",
      "Zak Ford-Williams\n",
      "Nathan Vidal\n",
      "Louis Gaunt\n",
      "Chris Fulton\n",
      "Priya Kansara\n",
      "Dixie Newman\n",
      "David Mumeni\n",
      "Rob Kendrick\n",
      "Ella Bruccoleri\n",
      "Kaja Chan\n",
      "Anthony Wise\n",
      "Sam Battersea\n",
      "Grace Stotesbury\n",
      "Nikkita Chadha\n",
      "Kush Mukerji\n",
      "Genevieve Chenneour\n",
      "Jonathan Livingstone\n",
      "Amita Dhiri\n",
      "James Bradwell\n",
      "Anand Desai-Barochia\n",
      "Frank Blake\n",
      "Leah Brotherhead\n",
      "Pippa Haywood\n",
      "Huxley Sheppard\n",
      "Georgia Burnell\n",
      "Bill Ashbridge\n",
      "Rupert Evans\n",
      "Celine Buckens\n",
      "Michael Culkin\n",
      "Tom Christian\n",
      "Paul Hunter\n",
      "Lucas Booth-Clibborn\n",
      "George Kemp\n",
      "Ed Jones\n",
      "Edward Jones\n",
      "David Sterne\n",
      "John Mackay\n",
      "Lynette Clarke\n",
      "Andromeda Godfrey\n",
      "Elise Lambert\n",
      "Ash Hunter\n",
      "Oscar Coleman\n",
      "Simon Lennon\n",
      "Tom Milligan\n",
      "Lucy Vandi\n",
      "Daphne Di Cinto\n",
      "Anthony Head\n",
      "Edward Bennett\n",
      "Nicholas Shaw\n",
      "Shobu Kapoor\n",
      "Tedroy Newell\n",
      "Pippa Rathborne\n",
      "Elle Meadows\n",
      "James Groom\n",
      "Vincent Davies\n",
      "Cairo Eusebe\n",
      "Karlina Grace-Paseda\n",
      "Neil Smye\n",
      "Phil Snowden\n",
      "Rupert Vansittart\n",
      "George Watkins\n",
      "Emilia Danks-Smith\n",
      "Jack Ward\n",
      "Mike Sengelow\n",
      "Paul Leonard\n",
      "Raul Fernandes\n",
      "Tosh Wanogho-Maud\n",
      "Brig Bennett\n",
      "Seren Benbow-Hart\n",
      "Leo Wan\n",
      "Sean Murphy\n",
      "Prue Clarke\n",
      "Richard Pepple\n",
      "Dempsey Bovell\n",
      "Theresa Godly\n",
      "Bailee Carroll\n",
      "Liam Woon\n",
      "Stephen Patten\n",
      "Sophie Lamont\n",
      "Caroline Quentin\n",
      "Ram Gupta\n",
      "Sam Haygarth\n",
      "Olivia Suggett\n",
      "Sherise Blackman\n",
      "Sam Meakin\n",
      "Michael Magnet\n",
      "Tom Byrne\n",
      "Jon Monie\n",
      "Ashley Campbell\n",
      "Teri Ann Bobb-Baxter\n",
      "Jonathan Jude\n",
      "Michael Spicer\n",
      "Liam Noble\n",
      "Matthew Carter\n",
      "Matt Swift\n",
      "Matthew Cottle\n",
      "Celine Arden\n",
      "Helene Maksoud\n",
      "Tom Mannion\n",
      "Cate Debenham-Taylor\n",
      "Richard Stirling\n",
      "Edward Cartwright\n",
      "Boo Miller\n",
      "Frances Pooley\n",
      "Stuart Organ\n",
      "Joey Akubeze\n",
      "Eleanor Nawal\n",
      "Sukh Ojla\n",
      "Ross Cullum\n",
      "Steph Lacey\n",
      "Ben Prout\n",
      "Jordan Alexandra\n",
      "Luke Pierre\n",
      "Mark Ramsay\n",
      "Jarren Dalmeda\n",
      "Oskar Porter\n",
      "Olivia Barrowclough\n",
      "Julius D'Silva\n",
      "Paul G. Raymond\n",
      "Amerjit Deu\n",
      "Gilly Tompkins\n",
      "Deepak Verma\n",
      "Georgia Slowe\n",
      "Paul Herzberg\n",
      "Duncan Watkinson\n",
      "Hannah Donelon\n",
      "Noof Ousellam\n",
      "Max Boast\n",
      "Sarah Lawn\n",
      "Hamish MacDougall\n",
      "Louis Cunningham\n",
      "Euan Macnaughton\n",
      "Letty Thomas\n",
      "George Wigzell\n",
      "India Lillie Davies\n",
      "Joshua Akehurst\n",
      "Martin Sarreal\n",
      "Nathaniel McCloskey\n",
      "Adam Samuel-Bal\n",
      "Mia Sumida\n",
      "Natasha Vassell\n",
      "David Stokes\n",
      "Glen Passingham\n",
      "Oliver Martin\n",
      "Antony Barlow\n",
      "Yasmine Meaden\n",
      "Paul O'Kelly\n",
      "Derrick Mintah\n",
      "Stuart Cooke\n",
      "Clifton Harrison\n",
      "Christopher Jeffers\n",
      "Lasco Atkins\n",
      "Alfredo Tavares\n",
      "Nichola Jean Mazur\n",
      "Kari-Ann Trachmann\n",
      "Vlad Muresan\n",
      "Harrison Evans\n",
      "Lauren Metcalfe\n",
      "Judith Marie-Ange Edmorin\n",
      "Laura Lake\n",
      "Sarah Guerin\n",
      "Daniel Joseph Woolf\n",
      "Sam Shoubber\n",
      "Robert Jarvis\n",
      "Karishma Navekar\n",
      "Foday Sillah\n",
      "Mike Wood\n",
      "Kamara Benjamin Barnett\n",
      "Diane Loren\n",
      "Viktoria Petrova\n",
      "Jessica O'Toole\n",
      "Jermaine Young\n",
      "Max Guild\n",
      "Joelle Koissi\n",
      "Elle Black\n",
      "Kimberly Collison\n",
      "Deonne Newby\n",
      "Necip Onur Saridagli\n",
      "Deacon Urwin\n",
      "Kieran Geary\n",
      "Paul Lancaster\n",
      "Darren Ryames\n"
     ]
    },
    {
     "data": {
      "text/plain": [
       "270"
      ]
     },
     "execution_count": 119,
     "metadata": {},
     "output_type": "execute_result"
    }
   ],
   "source": [
    "# 배우\n",
    "cast_list = soup.find('table', class_='cast_list')\n",
    "actors = cast_list.find_all('td', class_='primary_photo')\n",
    "\n",
    "for actor in actors:\n",
    "    actor_name = actor.find('a').img['title']\n",
    "    print(actor_name)"
   ]
  },
  {
   "cell_type": "markdown",
   "id": "d135d7a4-c0a3-4d5a-b32e-69718c36dd6c",
   "metadata": {},
   "source": [
    "## 4. Company Credits"
   ]
  },
  {
   "cell_type": "code",
   "execution_count": null,
   "id": "a3b79e1e-c0f8-4663-a4e8-66aa7d585ef1",
   "metadata": {},
   "outputs": [],
   "source": [
    "# 주소\n",
    "https://www.imdb.com/title/tt8740790/companycredits"
   ]
  },
  {
   "cell_type": "code",
   "execution_count": 121,
   "id": "952d05db-4e7c-4dce-b3ac-b91c0cd579ba",
   "metadata": {},
   "outputs": [],
   "source": [
    "# 현재 페이지 내의 정보를 저장\n",
    "raw = driver.page_source\n",
    "\n",
    "# BeautifulSoup을 이용하여 html 파싱\n",
    "soup = BeautifulSoup(raw, 'html.parser')"
   ]
  },
  {
   "cell_type": "code",
   "execution_count": 126,
   "id": "3490aff5-8712-4aa7-8d55-95c9d019b6c8",
   "metadata": {},
   "outputs": [
    {
     "name": "stdout",
     "output_type": "stream",
     "text": [
      "Shondaland\n",
      "CVD Productions\n"
     ]
    }
   ],
   "source": [
    "# 제작사\n",
    "production_list = soup.select('#__next > main > div > section > div > section > div > div.sc-978e9339-1.ihWZgK.ipc-page-grid__item.ipc-page-grid__item--span-2 > section:nth-child(2)')[0]\n",
    "production_companies = production_list.find_all(class_=\"ipc-metadata-list-item__label--link\")\n",
    "\n",
    "for company in production_companies:\n",
    "    print(company.text)"
   ]
  },
  {
   "cell_type": "code",
   "execution_count": null,
   "id": "2b1b4e77-07b6-4988-8ffc-35584063e7c6",
   "metadata": {},
   "outputs": [],
   "source": []
  }
 ],
 "metadata": {
  "kernelspec": {
   "display_name": "Python 3 (ipykernel)",
   "language": "python",
   "name": "python3"
  },
  "language_info": {
   "codemirror_mode": {
    "name": "ipython",
    "version": 3
   },
   "file_extension": ".py",
   "mimetype": "text/x-python",
   "name": "python",
   "nbconvert_exporter": "python",
   "pygments_lexer": "ipython3",
   "version": "3.8.19"
  }
 },
 "nbformat": 4,
 "nbformat_minor": 5
}
