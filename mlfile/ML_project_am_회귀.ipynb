{
 "cells": [
  {
   "cell_type": "markdown",
   "metadata": {},
   "source": [
    "# 데이터 불러 오기"
   ]
  },
  {
   "cell_type": "code",
   "execution_count": 3,
   "metadata": {},
   "outputs": [],
   "source": [
    "import pandas as pd\n"
   ]
  },
  {
   "cell_type": "code",
   "execution_count": 4,
   "metadata": {},
   "outputs": [],
   "source": [
    "df = pd.read_excel('imdb_final_6.xlsx')\n"
   ]
  },
  {
   "cell_type": "code",
   "execution_count": 5,
   "metadata": {},
   "outputs": [
    {
     "data": {
      "text/html": [
       "<div>\n",
       "<style scoped>\n",
       "    .dataframe tbody tr th:only-of-type {\n",
       "        vertical-align: middle;\n",
       "    }\n",
       "\n",
       "    .dataframe tbody tr th {\n",
       "        vertical-align: top;\n",
       "    }\n",
       "\n",
       "    .dataframe thead th {\n",
       "        text-align: right;\n",
       "    }\n",
       "</style>\n",
       "<table border=\"1\" class=\"dataframe\">\n",
       "  <thead>\n",
       "    <tr style=\"text-align: right;\">\n",
       "      <th></th>\n",
       "      <th>korean_title</th>\n",
       "      <th>english_title</th>\n",
       "      <th>year</th>\n",
       "      <th>total_season_num</th>\n",
       "      <th>runtime</th>\n",
       "      <th>genre</th>\n",
       "      <th>age_rating</th>\n",
       "      <th>production_country</th>\n",
       "      <th>total_count</th>\n",
       "      <th>total_rate</th>\n",
       "      <th>...</th>\n",
       "      <th>season_15</th>\n",
       "      <th>season_16</th>\n",
       "      <th>season_17</th>\n",
       "      <th>director</th>\n",
       "      <th>writer</th>\n",
       "      <th>actor</th>\n",
       "      <th>imdb_title</th>\n",
       "      <th>imdb_url</th>\n",
       "      <th>wins</th>\n",
       "      <th>nominations</th>\n",
       "    </tr>\n",
       "  </thead>\n",
       "  <tbody>\n",
       "    <tr>\n",
       "      <th>904</th>\n",
       "      <td>엘리트들, 못다 한 이야기: 나디아 구스만</td>\n",
       "      <td>Elite Short Stories: Nadia Guzmán</td>\n",
       "      <td>2021</td>\n",
       "      <td>1</td>\n",
       "      <td>11</td>\n",
       "      <td>드라마, 로맨스</td>\n",
       "      <td>15</td>\n",
       "      <td>스페인</td>\n",
       "      <td>2100</td>\n",
       "      <td>6.2</td>\n",
       "      <td>...</td>\n",
       "      <td>NaN</td>\n",
       "      <td>NaN</td>\n",
       "      <td>NaN</td>\n",
       "      <td>['Dani de la Orden']</td>\n",
       "      <td>['Carlos Montero']</td>\n",
       "      <td>['Miguel Bernardeau', 'Mina El Hammani', 'Omar...</td>\n",
       "      <td>Elite Short Stories: Nadia Guzmán (TV Mini Ser...</td>\n",
       "      <td>https://www.imdb.com/title/tt14671790/</td>\n",
       "      <td>0</td>\n",
       "      <td>0</td>\n",
       "    </tr>\n",
       "  </tbody>\n",
       "</table>\n",
       "<p>1 rows × 40 columns</p>\n",
       "</div>"
      ],
      "text/plain": [
       "                korean_title                      english_title  year  \\\n",
       "904  엘리트들, 못다 한 이야기: 나디아 구스만  Elite Short Stories: Nadia Guzmán  2021   \n",
       "\n",
       "     total_season_num  runtime     genre age_rating production_country  \\\n",
       "904                 1       11  드라마, 로맨스         15                스페인   \n",
       "\n",
       "     total_count  total_rate  ...  season_15  season_16  season_17  \\\n",
       "904         2100         6.2  ...        NaN        NaN        NaN   \n",
       "\n",
       "                 director              writer  \\\n",
       "904  ['Dani de la Orden']  ['Carlos Montero']   \n",
       "\n",
       "                                                 actor  \\\n",
       "904  ['Miguel Bernardeau', 'Mina El Hammani', 'Omar...   \n",
       "\n",
       "                                            imdb_title  \\\n",
       "904  Elite Short Stories: Nadia Guzmán (TV Mini Ser...   \n",
       "\n",
       "                                   imdb_url wins nominations  \n",
       "904  https://www.imdb.com/title/tt14671790/    0           0  \n",
       "\n",
       "[1 rows x 40 columns]"
      ]
     },
     "execution_count": 5,
     "metadata": {},
     "output_type": "execute_result"
    }
   ],
   "source": [
    "df.tail(1)"
   ]
  },
  {
   "cell_type": "markdown",
   "metadata": {},
   "source": [
    "# 절대 지표"
   ]
  },
  {
   "cell_type": "markdown",
   "metadata": {},
   "source": [
    "## 절대 지표"
   ]
  },
  {
   "cell_type": "code",
   "execution_count": 9,
   "metadata": {},
   "outputs": [],
   "source": [
    "absolute_metrics = pd.DataFrame()\n",
    "absolute_metrics['k_title'] = df['korean_title']\n",
    "absolute_metrics['title'] = df['english_title']\n",
    "absolute_metrics['total_season_num'] = df['total_season_num']\n",
    "absolute_metrics['total_rate'] = df['total_rate']\n",
    "absolute_metrics['total_count'] = df['total_count']\n",
    "absolute_metrics ['wins'] = df['wins']\n",
    "absolute_metrics ['nominations']  = df['nominations']\n",
    "absolute_metrics['genre'] = df['genre']\n",
    "absolute_metrics['production_country'] = df['production_country']\n",
    "absolute_metrics['runtime'] = df['runtime']\n"
   ]
  },
  {
   "cell_type": "code",
   "execution_count": 5,
   "metadata": {},
   "outputs": [
    {
     "data": {
      "text/html": [
       "<div>\n",
       "<style scoped>\n",
       "    .dataframe tbody tr th:only-of-type {\n",
       "        vertical-align: middle;\n",
       "    }\n",
       "\n",
       "    .dataframe tbody tr th {\n",
       "        vertical-align: top;\n",
       "    }\n",
       "\n",
       "    .dataframe thead th {\n",
       "        text-align: right;\n",
       "    }\n",
       "</style>\n",
       "<table border=\"1\" class=\"dataframe\">\n",
       "  <thead>\n",
       "    <tr style=\"text-align: right;\">\n",
       "      <th></th>\n",
       "      <th>k_title</th>\n",
       "      <th>title</th>\n",
       "      <th>total_season_num</th>\n",
       "      <th>total_rate</th>\n",
       "      <th>total_count</th>\n",
       "      <th>wins</th>\n",
       "      <th>nominations</th>\n",
       "      <th>genre</th>\n",
       "      <th>production_country</th>\n",
       "      <th>runtime</th>\n",
       "    </tr>\n",
       "  </thead>\n",
       "  <tbody>\n",
       "    <tr>\n",
       "      <th>0</th>\n",
       "      <td>오징어 게임</td>\n",
       "      <td>Squid Game</td>\n",
       "      <td>1</td>\n",
       "      <td>8.0</td>\n",
       "      <td>549000</td>\n",
       "      <td>43</td>\n",
       "      <td>85</td>\n",
       "      <td>액션, 드라마, 스릴러</td>\n",
       "      <td>대한민국</td>\n",
       "      <td>55</td>\n",
       "    </tr>\n",
       "    <tr>\n",
       "      <th>1</th>\n",
       "      <td>12인의 심판자</td>\n",
       "      <td>The Twelve</td>\n",
       "      <td>1</td>\n",
       "      <td>7.4</td>\n",
       "      <td>6500</td>\n",
       "      <td>8</td>\n",
       "      <td>8</td>\n",
       "      <td>드라마, 스릴러</td>\n",
       "      <td>벨기에</td>\n",
       "      <td>54</td>\n",
       "    </tr>\n",
       "    <tr>\n",
       "      <th>2</th>\n",
       "      <td>희생자 게임</td>\n",
       "      <td>The Victims' Game</td>\n",
       "      <td>1</td>\n",
       "      <td>7.3</td>\n",
       "      <td>1900</td>\n",
       "      <td>1</td>\n",
       "      <td>12</td>\n",
       "      <td>드라마, 범죄, 스릴러</td>\n",
       "      <td>대만</td>\n",
       "      <td>60</td>\n",
       "    </tr>\n",
       "    <tr>\n",
       "      <th>3</th>\n",
       "      <td>스위트 투스: 사슴뿔을 가진 소년</td>\n",
       "      <td>Sweet Tooth</td>\n",
       "      <td>2</td>\n",
       "      <td>7.7</td>\n",
       "      <td>68000</td>\n",
       "      <td>12</td>\n",
       "      <td>26</td>\n",
       "      <td>SF, 드라마, 판타지, 액션</td>\n",
       "      <td>미국</td>\n",
       "      <td>52</td>\n",
       "    </tr>\n",
       "    <tr>\n",
       "      <th>4</th>\n",
       "      <td>스위트홈</td>\n",
       "      <td>Sweet Home</td>\n",
       "      <td>2</td>\n",
       "      <td>7.3</td>\n",
       "      <td>33000</td>\n",
       "      <td>1</td>\n",
       "      <td>3</td>\n",
       "      <td>스릴러, 드라마, 판타지, 공포, SF, 범죄</td>\n",
       "      <td>대한민국</td>\n",
       "      <td>60</td>\n",
       "    </tr>\n",
       "    <tr>\n",
       "      <th>...</th>\n",
       "      <td>...</td>\n",
       "      <td>...</td>\n",
       "      <td>...</td>\n",
       "      <td>...</td>\n",
       "      <td>...</td>\n",
       "      <td>...</td>\n",
       "      <td>...</td>\n",
       "      <td>...</td>\n",
       "      <td>...</td>\n",
       "      <td>...</td>\n",
       "    </tr>\n",
       "    <tr>\n",
       "      <th>900</th>\n",
       "      <td>레일라</td>\n",
       "      <td>Leila</td>\n",
       "      <td>1</td>\n",
       "      <td>5.1</td>\n",
       "      <td>9300</td>\n",
       "      <td>0</td>\n",
       "      <td>0</td>\n",
       "      <td>드라마, 전쟁, SF</td>\n",
       "      <td>인도</td>\n",
       "      <td>46</td>\n",
       "    </tr>\n",
       "    <tr>\n",
       "      <th>901</th>\n",
       "      <td>100만 엔의 여인들</td>\n",
       "      <td>Million Yen Women</td>\n",
       "      <td>1</td>\n",
       "      <td>7.5</td>\n",
       "      <td>2100</td>\n",
       "      <td>0</td>\n",
       "      <td>0</td>\n",
       "      <td>스릴러, 범죄, 드라마, 로맨스</td>\n",
       "      <td>일본</td>\n",
       "      <td>30</td>\n",
       "    </tr>\n",
       "    <tr>\n",
       "      <th>902</th>\n",
       "      <td>킬러 코미디언</td>\n",
       "      <td>Hasmukh</td>\n",
       "      <td>1</td>\n",
       "      <td>5.4</td>\n",
       "      <td>2800</td>\n",
       "      <td>2</td>\n",
       "      <td>1</td>\n",
       "      <td>범죄, 드라마, 스릴러, 코미디</td>\n",
       "      <td>인도</td>\n",
       "      <td>33</td>\n",
       "    </tr>\n",
       "    <tr>\n",
       "      <th>903</th>\n",
       "      <td>달러</td>\n",
       "      <td>Dollar</td>\n",
       "      <td>1</td>\n",
       "      <td>6.6</td>\n",
       "      <td>651</td>\n",
       "      <td>0</td>\n",
       "      <td>0</td>\n",
       "      <td>액션, 드라마, 로맨스</td>\n",
       "      <td>레바논</td>\n",
       "      <td>41</td>\n",
       "    </tr>\n",
       "    <tr>\n",
       "      <th>904</th>\n",
       "      <td>엘리트들, 못다 한 이야기: 나디아 구스만</td>\n",
       "      <td>Elite Short Stories: Nadia Guzmán</td>\n",
       "      <td>1</td>\n",
       "      <td>6.2</td>\n",
       "      <td>2100</td>\n",
       "      <td>0</td>\n",
       "      <td>0</td>\n",
       "      <td>드라마, 로맨스</td>\n",
       "      <td>스페인</td>\n",
       "      <td>11</td>\n",
       "    </tr>\n",
       "  </tbody>\n",
       "</table>\n",
       "<p>905 rows × 10 columns</p>\n",
       "</div>"
      ],
      "text/plain": [
       "                     k_title                              title  \\\n",
       "0                     오징어 게임                         Squid Game   \n",
       "1                   12인의 심판자                         The Twelve   \n",
       "2                     희생자 게임                  The Victims' Game   \n",
       "3         스위트 투스: 사슴뿔을 가진 소년                        Sweet Tooth   \n",
       "4                       스위트홈                         Sweet Home   \n",
       "..                       ...                                ...   \n",
       "900                      레일라                              Leila   \n",
       "901              100만 엔의 여인들                  Million Yen Women   \n",
       "902                  킬러 코미디언                            Hasmukh   \n",
       "903                       달러                             Dollar   \n",
       "904  엘리트들, 못다 한 이야기: 나디아 구스만  Elite Short Stories: Nadia Guzmán   \n",
       "\n",
       "     total_season_num  total_rate  total_count  wins  nominations  \\\n",
       "0                   1         8.0       549000    43           85   \n",
       "1                   1         7.4         6500     8            8   \n",
       "2                   1         7.3         1900     1           12   \n",
       "3                   2         7.7        68000    12           26   \n",
       "4                   2         7.3        33000     1            3   \n",
       "..                ...         ...          ...   ...          ...   \n",
       "900                 1         5.1         9300     0            0   \n",
       "901                 1         7.5         2100     0            0   \n",
       "902                 1         5.4         2800     2            1   \n",
       "903                 1         6.6          651     0            0   \n",
       "904                 1         6.2         2100     0            0   \n",
       "\n",
       "                         genre production_country  runtime  \n",
       "0                 액션, 드라마, 스릴러               대한민국       55  \n",
       "1                     드라마, 스릴러                벨기에       54  \n",
       "2                 드라마, 범죄, 스릴러                 대만       60  \n",
       "3             SF, 드라마, 판타지, 액션                 미국       52  \n",
       "4    스릴러, 드라마, 판타지, 공포, SF, 범죄               대한민국       60  \n",
       "..                         ...                ...      ...  \n",
       "900                드라마, 전쟁, SF                 인도       46  \n",
       "901          스릴러, 범죄, 드라마, 로맨스                 일본       30  \n",
       "902          범죄, 드라마, 스릴러, 코미디                 인도       33  \n",
       "903               액션, 드라마, 로맨스                레바논       41  \n",
       "904                   드라마, 로맨스                스페인       11  \n",
       "\n",
       "[905 rows x 10 columns]"
      ]
     },
     "execution_count": 5,
     "metadata": {},
     "output_type": "execute_result"
    }
   ],
   "source": [
    "absolute_metrics"
   ]
  },
  {
   "cell_type": "markdown",
   "metadata": {},
   "source": [
    "## 절대 지표 계산 함수\n"
   ]
  },
  {
   "cell_type": "markdown",
   "metadata": {},
   "source": [
    "- 절대 지표를 이용해 계산 \n",
    "    - 총 평점이 8 이상이면 10점, 7 이상이면 8점, 6 이상이면 6점, 그 외에는 4점으로 계산.\n",
    "    - 총 평점 참여자 수가 50,000명 이상이면 10점, 10,000명 이상이면 8점, 1,000명 이상이면 6점, 그 외에는 4점으로 계산.\n",
    "    - 수상 및 후보 수가 50개 이상이면 10점, 20개 이상이면 8점, 10개 이상이면 6점, 그 외에는 4점으로 계산.\n",
    "- 총 점 30점에 가까울 수 록 흥행 가능성이 높다고 할 수 있음 \n"
   ]
  },
  {
   "cell_type": "code",
   "execution_count": 6,
   "metadata": {},
   "outputs": [],
   "source": [
    "def calculate_adjusted_absolute_index(row):\n",
    "    #총 평점 절대 지표 계산\n",
    "    if row['total_rate'] >= 8:\n",
    "        rate_points = 10\n",
    "    elif row['total_rate'] >= 7:\n",
    "        rate_points = 8\n",
    "    elif row['total_rate'] >= 6:\n",
    "        rate_points = 6\n",
    "    else:\n",
    "        rate_points = 4\n",
    "    \n",
    "    # 총 평점 참여자수 절대 지표 계산 \n",
    "    if row['total_count'] >= 50000:\n",
    "        count_points = 10\n",
    "    elif row['total_count'] >= 10000:\n",
    "        count_points = 8\n",
    "    elif row['total_count'] >= 1000:\n",
    "        count_points = 6\n",
    "    else:\n",
    "        count_points = 4\n",
    "    \n",
    "    # 수상 및 후보수 절대 지표 계산 \n",
    "    total_awards = row['wins'] + row['nominations']\n",
    "    if total_awards >= 50:\n",
    "        awards_points = 10\n",
    "    elif total_awards >= 20:\n",
    "        awards_points = 8\n",
    "    elif total_awards >= 10:\n",
    "        awards_points = 6\n",
    "    else:\n",
    "        awards_points = 4\n",
    "    \n",
    "    # 절대 지표 계산 총 점\n",
    "    adjusted_absolute_index = rate_points + count_points + awards_points\n",
    "    \n",
    "    return adjusted_absolute_index\n"
   ]
  },
  {
   "cell_type": "markdown",
   "metadata": {},
   "source": [
    "### 절대 지표를 데이터프레임에 추가"
   ]
  },
  {
   "cell_type": "code",
   "execution_count": 7,
   "metadata": {},
   "outputs": [
    {
     "data": {
      "text/html": [
       "<div>\n",
       "<style scoped>\n",
       "    .dataframe tbody tr th:only-of-type {\n",
       "        vertical-align: middle;\n",
       "    }\n",
       "\n",
       "    .dataframe tbody tr th {\n",
       "        vertical-align: top;\n",
       "    }\n",
       "\n",
       "    .dataframe thead th {\n",
       "        text-align: right;\n",
       "    }\n",
       "</style>\n",
       "<table border=\"1\" class=\"dataframe\">\n",
       "  <thead>\n",
       "    <tr style=\"text-align: right;\">\n",
       "      <th></th>\n",
       "      <th>k_title</th>\n",
       "      <th>title</th>\n",
       "      <th>total_season_num</th>\n",
       "      <th>total_rate</th>\n",
       "      <th>total_count</th>\n",
       "      <th>wins</th>\n",
       "      <th>nominations</th>\n",
       "      <th>genre</th>\n",
       "      <th>production_country</th>\n",
       "      <th>runtime</th>\n",
       "      <th>adjusted_absolute_index</th>\n",
       "    </tr>\n",
       "  </thead>\n",
       "  <tbody>\n",
       "    <tr>\n",
       "      <th>0</th>\n",
       "      <td>오징어 게임</td>\n",
       "      <td>Squid Game</td>\n",
       "      <td>1</td>\n",
       "      <td>8.0</td>\n",
       "      <td>549000</td>\n",
       "      <td>43</td>\n",
       "      <td>85</td>\n",
       "      <td>액션, 드라마, 스릴러</td>\n",
       "      <td>대한민국</td>\n",
       "      <td>55</td>\n",
       "      <td>30</td>\n",
       "    </tr>\n",
       "    <tr>\n",
       "      <th>1</th>\n",
       "      <td>12인의 심판자</td>\n",
       "      <td>The Twelve</td>\n",
       "      <td>1</td>\n",
       "      <td>7.4</td>\n",
       "      <td>6500</td>\n",
       "      <td>8</td>\n",
       "      <td>8</td>\n",
       "      <td>드라마, 스릴러</td>\n",
       "      <td>벨기에</td>\n",
       "      <td>54</td>\n",
       "      <td>20</td>\n",
       "    </tr>\n",
       "    <tr>\n",
       "      <th>2</th>\n",
       "      <td>희생자 게임</td>\n",
       "      <td>The Victims' Game</td>\n",
       "      <td>1</td>\n",
       "      <td>7.3</td>\n",
       "      <td>1900</td>\n",
       "      <td>1</td>\n",
       "      <td>12</td>\n",
       "      <td>드라마, 범죄, 스릴러</td>\n",
       "      <td>대만</td>\n",
       "      <td>60</td>\n",
       "      <td>20</td>\n",
       "    </tr>\n",
       "  </tbody>\n",
       "</table>\n",
       "</div>"
      ],
      "text/plain": [
       "    k_title              title  total_season_num  total_rate  total_count  \\\n",
       "0    오징어 게임         Squid Game                 1         8.0       549000   \n",
       "1  12인의 심판자         The Twelve                 1         7.4         6500   \n",
       "2    희생자 게임  The Victims' Game                 1         7.3         1900   \n",
       "\n",
       "   wins  nominations         genre production_country  runtime  \\\n",
       "0    43           85  액션, 드라마, 스릴러               대한민국       55   \n",
       "1     8            8      드라마, 스릴러                벨기에       54   \n",
       "2     1           12  드라마, 범죄, 스릴러                 대만       60   \n",
       "\n",
       "   adjusted_absolute_index  \n",
       "0                       30  \n",
       "1                       20  \n",
       "2                       20  "
      ]
     },
     "execution_count": 7,
     "metadata": {},
     "output_type": "execute_result"
    }
   ],
   "source": [
    "# 절대 지표를 데이터프레임에 추가\n",
    "absolute_metrics['adjusted_absolute_index'] = absolute_metrics.apply(calculate_adjusted_absolute_index, axis=1)\n",
    "absolute_metrics.head(3)"
   ]
  },
  {
   "cell_type": "code",
   "execution_count": 8,
   "metadata": {},
   "outputs": [
    {
     "data": {
      "text/html": [
       "<div>\n",
       "<style scoped>\n",
       "    .dataframe tbody tr th:only-of-type {\n",
       "        vertical-align: middle;\n",
       "    }\n",
       "\n",
       "    .dataframe tbody tr th {\n",
       "        vertical-align: top;\n",
       "    }\n",
       "\n",
       "    .dataframe thead th {\n",
       "        text-align: right;\n",
       "    }\n",
       "</style>\n",
       "<table border=\"1\" class=\"dataframe\">\n",
       "  <thead>\n",
       "    <tr style=\"text-align: right;\">\n",
       "      <th></th>\n",
       "      <th>k_title</th>\n",
       "      <th>title</th>\n",
       "      <th>total_season_num</th>\n",
       "      <th>total_rate</th>\n",
       "      <th>total_count</th>\n",
       "      <th>wins</th>\n",
       "      <th>nominations</th>\n",
       "      <th>genre</th>\n",
       "      <th>production_country</th>\n",
       "      <th>runtime</th>\n",
       "      <th>adjusted_absolute_index</th>\n",
       "    </tr>\n",
       "  </thead>\n",
       "  <tbody>\n",
       "    <tr>\n",
       "      <th>0</th>\n",
       "      <td>오징어 게임</td>\n",
       "      <td>Squid Game</td>\n",
       "      <td>1</td>\n",
       "      <td>8.0</td>\n",
       "      <td>549000</td>\n",
       "      <td>43</td>\n",
       "      <td>85</td>\n",
       "      <td>액션, 드라마, 스릴러</td>\n",
       "      <td>대한민국</td>\n",
       "      <td>55</td>\n",
       "      <td>30</td>\n",
       "    </tr>\n",
       "    <tr>\n",
       "      <th>54</th>\n",
       "      <td>덱스터</td>\n",
       "      <td>Dexter</td>\n",
       "      <td>8</td>\n",
       "      <td>8.6</td>\n",
       "      <td>774000</td>\n",
       "      <td>54</td>\n",
       "      <td>197</td>\n",
       "      <td>범죄, 드라마, 스릴러</td>\n",
       "      <td>미국</td>\n",
       "      <td>53</td>\n",
       "      <td>30</td>\n",
       "    </tr>\n",
       "    <tr>\n",
       "      <th>33</th>\n",
       "      <td>오자크</td>\n",
       "      <td>Ozark</td>\n",
       "      <td>4</td>\n",
       "      <td>8.5</td>\n",
       "      <td>350000</td>\n",
       "      <td>26</td>\n",
       "      <td>201</td>\n",
       "      <td>범죄, 드라마, 스릴러</td>\n",
       "      <td>미국</td>\n",
       "      <td>60</td>\n",
       "      <td>30</td>\n",
       "    </tr>\n",
       "    <tr>\n",
       "      <th>40</th>\n",
       "      <td>애틀란타</td>\n",
       "      <td>Atlanta</td>\n",
       "      <td>4</td>\n",
       "      <td>8.6</td>\n",
       "      <td>89000</td>\n",
       "      <td>62</td>\n",
       "      <td>146</td>\n",
       "      <td>드라마, 코미디, 음악</td>\n",
       "      <td>미국</td>\n",
       "      <td>29</td>\n",
       "      <td>30</td>\n",
       "    </tr>\n",
       "    <tr>\n",
       "      <th>291</th>\n",
       "      <td>그레이스 앤 프랭키</td>\n",
       "      <td>Grace and Frankie</td>\n",
       "      <td>7</td>\n",
       "      <td>8.2</td>\n",
       "      <td>57000</td>\n",
       "      <td>3</td>\n",
       "      <td>62</td>\n",
       "      <td>코미디, 드라마</td>\n",
       "      <td>미국</td>\n",
       "      <td>29</td>\n",
       "      <td>30</td>\n",
       "    </tr>\n",
       "    <tr>\n",
       "      <th>42</th>\n",
       "      <td>베터 콜 사울</td>\n",
       "      <td>Better Call Saul</td>\n",
       "      <td>6</td>\n",
       "      <td>9.0</td>\n",
       "      <td>655000</td>\n",
       "      <td>70</td>\n",
       "      <td>323</td>\n",
       "      <td>범죄, 드라마</td>\n",
       "      <td>미국</td>\n",
       "      <td>50</td>\n",
       "      <td>30</td>\n",
       "    </tr>\n",
       "    <tr>\n",
       "      <th>43</th>\n",
       "      <td>퀸스 갬빗</td>\n",
       "      <td>The Queen's Gambit</td>\n",
       "      <td>1</td>\n",
       "      <td>8.5</td>\n",
       "      <td>561000</td>\n",
       "      <td>58</td>\n",
       "      <td>53</td>\n",
       "      <td>드라마</td>\n",
       "      <td>미국</td>\n",
       "      <td>56</td>\n",
       "      <td>30</td>\n",
       "    </tr>\n",
       "    <tr>\n",
       "      <th>46</th>\n",
       "      <td>블랙 미러</td>\n",
       "      <td>Black Mirror</td>\n",
       "      <td>6</td>\n",
       "      <td>8.7</td>\n",
       "      <td>644000</td>\n",
       "      <td>37</td>\n",
       "      <td>123</td>\n",
       "      <td>SF, 스릴러, 범죄, 드라마</td>\n",
       "      <td>영국</td>\n",
       "      <td>59</td>\n",
       "      <td>30</td>\n",
       "    </tr>\n",
       "    <tr>\n",
       "      <th>47</th>\n",
       "      <td>더 크라운</td>\n",
       "      <td>The Crown</td>\n",
       "      <td>6</td>\n",
       "      <td>8.6</td>\n",
       "      <td>258000</td>\n",
       "      <td>149</td>\n",
       "      <td>391</td>\n",
       "      <td>드라마, 역사</td>\n",
       "      <td>영국</td>\n",
       "      <td>55</td>\n",
       "      <td>30</td>\n",
       "    </tr>\n",
       "    <tr>\n",
       "      <th>159</th>\n",
       "      <td>스타트렉: 딥 스페이스 나인</td>\n",
       "      <td>Star Trek: Deep Space Nine</td>\n",
       "      <td>7</td>\n",
       "      <td>8.1</td>\n",
       "      <td>71000</td>\n",
       "      <td>59</td>\n",
       "      <td>116</td>\n",
       "      <td>SF, 액션, 드라마, 스릴러</td>\n",
       "      <td>미국</td>\n",
       "      <td>47</td>\n",
       "      <td>30</td>\n",
       "    </tr>\n",
       "  </tbody>\n",
       "</table>\n",
       "</div>"
      ],
      "text/plain": [
       "             k_title                       title  total_season_num  \\\n",
       "0             오징어 게임                  Squid Game                 1   \n",
       "54               덱스터                      Dexter                 8   \n",
       "33               오자크                       Ozark                 4   \n",
       "40              애틀란타                     Atlanta                 4   \n",
       "291       그레이스 앤 프랭키           Grace and Frankie                 7   \n",
       "42           베터 콜 사울            Better Call Saul                 6   \n",
       "43             퀸스 갬빗          The Queen's Gambit                 1   \n",
       "46             블랙 미러                Black Mirror                 6   \n",
       "47             더 크라운                   The Crown                 6   \n",
       "159  스타트렉: 딥 스페이스 나인  Star Trek: Deep Space Nine                 7   \n",
       "\n",
       "     total_rate  total_count  wins  nominations             genre  \\\n",
       "0           8.0       549000    43           85      액션, 드라마, 스릴러   \n",
       "54          8.6       774000    54          197      범죄, 드라마, 스릴러   \n",
       "33          8.5       350000    26          201      범죄, 드라마, 스릴러   \n",
       "40          8.6        89000    62          146      드라마, 코미디, 음악   \n",
       "291         8.2        57000     3           62          코미디, 드라마   \n",
       "42          9.0       655000    70          323           범죄, 드라마   \n",
       "43          8.5       561000    58           53               드라마   \n",
       "46          8.7       644000    37          123  SF, 스릴러, 범죄, 드라마   \n",
       "47          8.6       258000   149          391           드라마, 역사   \n",
       "159         8.1        71000    59          116  SF, 액션, 드라마, 스릴러   \n",
       "\n",
       "    production_country  runtime  adjusted_absolute_index  \n",
       "0                 대한민국       55                       30  \n",
       "54                  미국       53                       30  \n",
       "33                  미국       60                       30  \n",
       "40                  미국       29                       30  \n",
       "291                 미국       29                       30  \n",
       "42                  미국       50                       30  \n",
       "43                  미국       56                       30  \n",
       "46                  영국       59                       30  \n",
       "47                  영국       55                       30  \n",
       "159                 미국       47                       30  "
      ]
     },
     "execution_count": 8,
     "metadata": {},
     "output_type": "execute_result"
    }
   ],
   "source": [
    "absolute_metrics.sort_values(by='adjusted_absolute_index',ascending=False).head(10)"
   ]
  },
  {
   "cell_type": "markdown",
   "metadata": {},
   "source": [
    "## 데이터 전처리 및 피쳐 선택"
   ]
  },
  {
   "cell_type": "markdown",
   "metadata": {},
   "source": [
    "### import"
   ]
  },
  {
   "cell_type": "code",
   "execution_count": 21,
   "metadata": {},
   "outputs": [],
   "source": [
    "import pandas as pd\n",
    "import numpy as np\n",
    "from sklearn.model_selection import train_test_split, GridSearchCV #cv 하이퍼 파라미터 튜닝때 사용\n",
    "from sklearn.linear_model import LinearRegression # 회귀 모델 \n",
    "from sklearn.metrics import mean_squared_error, r2_score\n",
    "from sklearn.preprocessing import OneHotEncoder #장르 인코딩\n",
    "from sklearn.preprocessing import MultiLabelBinarizer #장르 분리및 인코딩 \n",
    "from sklearn.model_selection import train_test_split\n",
    "from sklearn.ensemble import RandomForestClassifier\n",
    "from sklearn.metrics import accuracy_score, classification_report\n",
    "from sklearn.ensemble import RandomForestRegressor #피쳐 중요도 분석에 사용함 \n"
   ]
  },
  {
   "cell_type": "markdown",
   "metadata": {},
   "source": [
    "### 피쳐 선택 및 결측 값 처리 "
   ]
  },
  {
   "cell_type": "code",
   "execution_count": 27,
   "metadata": {},
   "outputs": [
    {
     "data": {
      "text/html": [
       "<div>\n",
       "<style scoped>\n",
       "    .dataframe tbody tr th:only-of-type {\n",
       "        vertical-align: middle;\n",
       "    }\n",
       "\n",
       "    .dataframe tbody tr th {\n",
       "        vertical-align: top;\n",
       "    }\n",
       "\n",
       "    .dataframe thead th {\n",
       "        text-align: right;\n",
       "    }\n",
       "</style>\n",
       "<table border=\"1\" class=\"dataframe\">\n",
       "  <thead>\n",
       "    <tr style=\"text-align: right;\">\n",
       "      <th></th>\n",
       "      <th>total_rate</th>\n",
       "      <th>total_count</th>\n",
       "      <th>wins</th>\n",
       "      <th>nominations</th>\n",
       "      <th>runtime</th>\n",
       "      <th>total_season_num</th>\n",
       "      <th>genre</th>\n",
       "    </tr>\n",
       "  </thead>\n",
       "  <tbody>\n",
       "    <tr>\n",
       "      <th>904</th>\n",
       "      <td>6.2</td>\n",
       "      <td>2100</td>\n",
       "      <td>0</td>\n",
       "      <td>0</td>\n",
       "      <td>11</td>\n",
       "      <td>1</td>\n",
       "      <td>드라마, 로맨스</td>\n",
       "    </tr>\n",
       "  </tbody>\n",
       "</table>\n",
       "</div>"
      ],
      "text/plain": [
       "     total_rate  total_count  wins  nominations  runtime  total_season_num  \\\n",
       "904         6.2         2100     0            0       11                 1   \n",
       "\n",
       "        genre  \n",
       "904  드라마, 로맨스  "
      ]
     },
     "execution_count": 27,
     "metadata": {},
     "output_type": "execute_result"
    }
   ],
   "source": [
    "# 데이터 전처리 \n",
    "# 피쳐 선택 \n",
    "features =['total_rate', 'total_count', 'wins', 'nominations', 'runtime', 'total_season_num', 'genre']\n",
    "df_selected = absolute_metrics[features]\n",
    "\n",
    "# 결측값 쳐리 \n",
    "df_selected = df_selected.dropna()\n",
    "df_selected.tail(1)"
   ]
  },
  {
   "cell_type": "markdown",
   "metadata": {},
   "source": [
    "### 피쳐 선택의 이유"
   ]
  },
  {
   "cell_type": "markdown",
   "metadata": {},
   "source": [
    "\n",
    "\n",
    "**total_rate (드라마의 총 평점):**\n",
    "\n",
    "- 드라마의 평점은 시청자와 비평가의 평가를 반영하는 중요한 지표입니다. 높은 평점을 받은 드라마는 후속작에 대한 기대치가 높고, 더 많은 시청자들을 끌어모을 가능성이 큽니다.\n",
    "\n",
    "**total_count (평점을 매긴 사람의 수):**\n",
    "\n",
    "- 평점을 매긴 사람의 수는 드라마의 인기도와 관련이 있습니다. 많은 사람들이 평점을 매긴 드라마는 이미 널리 알려져 있으며, 후속작도 많은 관심을 받을 가능성이 높습니다.\n",
    "\n",
    "**wins + nominations (수상 및 후보 수의 합):**\n",
    "\n",
    "- 드라마가 수상하거나 후보에 오른 횟수는 작품의 질적 우수성을 나타냅니다. 많은 상을 받은 드라마는 후속작에 대한 기대를 높이며, 흥행 가능성을 증가시킵니다.\n",
    "\n",
    "**runtime (에피소드 당 런타임):**\n",
    "\n",
    "- 에피소드 당 런타임은 시청자 경험에 영향을 미치는 요소입니다. 적절한 런타임은 시청자들이 드라마에 더 몰입할 수 있게 하며, 후속작에 대한 기대를 형성할 수 있습니다.\n",
    "\n",
    "**total_season_num (총 시즌 수):**\n",
    "\n",
    "- 드라마의 총 시즌 수는 해당 드라마의 지속적인 인기를 반영합니다. 여러 시즌이 제작된 드라마는 이미 충성도 높은 시청자층을 가지고 있으며, 후속작도 흥행할 가능성이 큽니다.\n",
    "\n",
    "**genre (장르):**\n",
    "\n",
    "- 장르는 시청자의 취향을 반영합니다. 특정 장르가 인기를 끌고 있을 경우, 해당 장르의 후속작도 흥행할 가능성이 높습니다. 원핫 인코딩을 통해 장르를 수치형 데이터로 변환하여 모델에 적용할 수 있습니다."
   ]
  },
  {
   "cell_type": "markdown",
   "metadata": {},
   "source": [
    "### 장르 인코딩 "
   ]
  },
  {
   "cell_type": "code",
   "execution_count": 11,
   "metadata": {},
   "outputs": [],
   "source": [
    "# # 범주형 변수 인코딩 (One-hot encoding)\n",
    "# encoder = OneHotEncoder()\n",
    "# encoded_genre = encoder.fit_transform(df_selected[['genre']]).toarray()\n",
    "# encoded_genre_df = pd.DataFrame(encoded_genre, columns=encoder.get_feature_names_out(['genre']))\n",
    "\n",
    "# # 인코딩된 장르와 원본 데이터프레임을 결합\n",
    "# df_encoded = pd.concat([df_selected.reset_index(drop=True), encoded_genre_df], axis=1)\n",
    "\n",
    "# # 결합 후 원본 장르 컬럼 제거\n",
    "# df_encoded = df_encoded.drop(columns=['genre'])\n",
    "# df_encoded.tail(1)"
   ]
  },
  {
   "cell_type": "code",
   "execution_count": 12,
   "metadata": {},
   "outputs": [],
   "source": [
    "# 장르 컬럼을 개별적으로 분할하여 리스트로 변환\n",
    "df_selected['genre'] = df_selected['genre'].apply(lambda x: x.split(', '))\n",
    "\n",
    "# 멀티라벨 바이너라이저를 사용하여 장르를 개별적으로 인코딩\n",
    "mlb = MultiLabelBinarizer()\n",
    "encoded_genre = mlb.fit_transform(df_selected['genre'])\n",
    "encoded_genre_df = pd.DataFrame(encoded_genre, columns=mlb.classes_)\n",
    "\n",
    "# 원본 데이터프레임과 결합\n",
    "df_encoded = pd.concat([df_selected.reset_index(drop=True), encoded_genre_df], axis=1)\n",
    "df_encoded = df_encoded.drop(columns=['genre'])\n"
   ]
  },
  {
   "cell_type": "code",
   "execution_count": 13,
   "metadata": {},
   "outputs": [
    {
     "data": {
      "text/html": [
       "<div>\n",
       "<style scoped>\n",
       "    .dataframe tbody tr th:only-of-type {\n",
       "        vertical-align: middle;\n",
       "    }\n",
       "\n",
       "    .dataframe tbody tr th {\n",
       "        vertical-align: top;\n",
       "    }\n",
       "\n",
       "    .dataframe thead th {\n",
       "        text-align: right;\n",
       "    }\n",
       "</style>\n",
       "<table border=\"1\" class=\"dataframe\">\n",
       "  <thead>\n",
       "    <tr style=\"text-align: right;\">\n",
       "      <th></th>\n",
       "      <th>total_rate</th>\n",
       "      <th>total_count</th>\n",
       "      <th>wins</th>\n",
       "      <th>nominations</th>\n",
       "      <th>runtime</th>\n",
       "      <th>total_season_num</th>\n",
       "      <th>Made in Europe</th>\n",
       "      <th>SF</th>\n",
       "      <th>가족</th>\n",
       "      <th>공포</th>\n",
       "      <th>...</th>\n",
       "      <th>범죄</th>\n",
       "      <th>서부</th>\n",
       "      <th>스릴러</th>\n",
       "      <th>스포츠</th>\n",
       "      <th>액션</th>\n",
       "      <th>역사</th>\n",
       "      <th>음악</th>\n",
       "      <th>전쟁</th>\n",
       "      <th>코미디</th>\n",
       "      <th>판타지</th>\n",
       "    </tr>\n",
       "  </thead>\n",
       "  <tbody>\n",
       "    <tr>\n",
       "      <th>0</th>\n",
       "      <td>8.0</td>\n",
       "      <td>549000</td>\n",
       "      <td>43</td>\n",
       "      <td>85</td>\n",
       "      <td>55</td>\n",
       "      <td>1</td>\n",
       "      <td>0</td>\n",
       "      <td>0</td>\n",
       "      <td>0</td>\n",
       "      <td>0</td>\n",
       "      <td>...</td>\n",
       "      <td>0</td>\n",
       "      <td>0</td>\n",
       "      <td>1</td>\n",
       "      <td>0</td>\n",
       "      <td>1</td>\n",
       "      <td>0</td>\n",
       "      <td>0</td>\n",
       "      <td>0</td>\n",
       "      <td>0</td>\n",
       "      <td>0</td>\n",
       "    </tr>\n",
       "  </tbody>\n",
       "</table>\n",
       "<p>1 rows × 22 columns</p>\n",
       "</div>"
      ],
      "text/plain": [
       "   total_rate  total_count  wins  nominations  runtime  total_season_num  \\\n",
       "0         8.0       549000    43           85       55                 1   \n",
       "\n",
       "   Made in Europe  SF  가족  공포  ...  범죄  서부  스릴러  스포츠  액션  역사  음악  전쟁  코미디  판타지  \n",
       "0               0   0   0   0  ...   0   0    1    0   1   0   0   0    0    0  \n",
       "\n",
       "[1 rows x 22 columns]"
      ]
     },
     "execution_count": 13,
     "metadata": {},
     "output_type": "execute_result"
    }
   ],
   "source": [
    "df_encoded.head(1)"
   ]
  },
  {
   "cell_type": "markdown",
   "metadata": {},
   "source": [
    "## 참여 수와 흥행 성과에 얼마나 영향을 미치나?"
   ]
  },
  {
   "cell_type": "code",
   "execution_count": 2,
   "metadata": {},
   "outputs": [],
   "source": [
    "import pandas as pd\n",
    "import seaborn as sns\n",
    "import matplotlib.pyplot as plt"
   ]
  },
  {
   "cell_type": "code",
   "execution_count": 17,
   "metadata": {},
   "outputs": [],
   "source": [
    "# 상관 관계 계산 \n",
    "correlation_matrix = df[['total_count', 'total_rate', 'wins', 'nominations']].corr()"
   ]
  },
  {
   "cell_type": "markdown",
   "metadata": {},
   "source": [
    "### 히트맵 시각화 "
   ]
  },
  {
   "cell_type": "code",
   "execution_count": 18,
   "metadata": {},
   "outputs": [
    {
     "data": {
      "image/png": "[encoded data removed]",
      "text/plain": [
       "<Figure size 1000x600 with 2 Axes>"
      ]
     },
     "metadata": {},
     "output_type": "display_data"
    }
   ],
   "source": [
    "plt.figure(figsize=(10, 6))\n",
    "sns.heatmap(correlation_matrix,annot=True, cmap='coolwarm',fmt='.2f' )\n",
    "plt.title('참여자 수 및 기타 지표의 상관 행렬')\n",
    "plt.show()\n"
   ]
  },
  {
   "cell_type": "markdown",
   "metadata": {},
   "source": [
    "### 참여자 수에 따른 분포 분석"
   ]
  },
  {
   "cell_type": "code",
   "execution_count": 22,
   "metadata": {},
   "outputs": [
    {
     "data": {
      "text/plain": [
       "Text(0.5, 1.0, 'Total_Count vs Total_Rated')"
      ]
     },
     "execution_count": 22,
     "metadata": {},
     "output_type": "execute_result"
    },
    {
     "data": {
      "image/png": "[encoded data removed]",
      "text/plain": [
       "<Figure size 1000x600 with 1 Axes>"
      ]
     },
     "metadata": {},
     "output_type": "display_data"
    }
   ],
   "source": [
    "# 참여 수에 따른 드라마의 평점 분포나 수상/후보 수의 분포를 시각화\n",
    "# 참여 수가 어느 정도 이상일 때 흥행 성공 가능성이 높은지 확인\n",
    "plt.figure(figsize=(10, 6))\n",
    "sns.scatterplot(x = 'total_count', y = 'total_rate', data=df)\n",
    "plt.xlabel('Total_Count')\n",
    "plt.ylabel('Total_Rate')\n",
    "plt.title('Total_Count vs Total_Rated')"
   ]
  },
  {
   "cell_type": "markdown",
   "metadata": {},
   "source": [
    "### 군집 분석(K-평균 군집화)\n"
   ]
  },
  {
   "cell_type": "markdown",
   "metadata": {},
   "source": [
    "- 드라마 데이터를 K-평균 군집화하여 분석할 수 있다.\n",
    "- 각 군집의 평균값을 통해 참여 수에 따른 드라마의 평점, 수상 및 후보 수의 관계를 확인할 수 있다."
   ]
  },
  {
   "cell_type": "code",
   "execution_count": 20,
   "metadata": {},
   "outputs": [
    {
     "name": "stderr",
     "output_type": "stream",
     "text": [
      "c:\\Users\\dptmf\\miniconda3\\envs\\conda_ds_study\\lib\\site-packages\\sklearn\\cluster\\_kmeans.py:1036: UserWarning: KMeans is known to have a memory leak on Windows with MKL, when there are less chunks than available threads. You can avoid it by setting the environment variable OMP_NUM_THREADS=4.\n",
      "  warnings.warn(\n"
     ]
    }
   ],
   "source": [
    "from sklearn.cluster import KMeans\n",
    "\n",
    "# K-평균 군집화를 위한 데이터 준비\n",
    "# 필효한 피쳐들을 선택하고 결측값을 제거\n",
    "culstering_features = df[['total_count', 'total_rate', 'wins', 'nominations']].dropna()\n",
    "\n",
    "# 엘보우 방법을 사용하여 최적의 클러스터 수를 찾기 위해 SSE(Sum of Squared Errors)를 계산\n",
    "sse = []\n",
    "k_range = range(1, 11) # 클러스터 수를 1부터 10까지 변경하며 계산\n",
    "for k  in k_range:\n",
    "    kmeans = KMeans(n_clusters = k, random_state=41) #km모델 초기화\n",
    "    kmeans.fit(culstering_features) \n",
    "    sse.append(kmeans.inertia_) # 각 클러스터 수에 대한 SSE 저장\n"
   ]
  },
  {
   "cell_type": "code",
   "execution_count": 23,
   "metadata": {},
   "outputs": [
    {
     "data": {
      "text/plain": [
       "Text(0.5, 1.0, '클러스터 수에 따른 SSE - 곡선이 급격히 꺾이는 지점을 최적의 클러스터 수로 선택')"
      ]
     },
     "execution_count": 23,
     "metadata": {},
     "output_type": "execute_result"
    },
    {
     "data": {
      "image/png": "[encoded data removed]",
      "text/plain": [
       "<Figure size 1000x600 with 1 Axes>"
      ]
     },
     "metadata": {},
     "output_type": "display_data"
    }
   ],
   "source": [
    "# 엘보우 그래프 그리기 (클러스터 수를 시각화)\n",
    "plt.figure(figsize=(10, 6))\n",
    "plt.plot(k_range, sse, marker='o')\n",
    "plt.xlabel('Clusters')\n",
    "plt.ylabel('Sum of Squared Errors(sse)')\n",
    "plt.title('클러스터 수에 따른 SSE - 곡선이 급격히 꺾이는 지점을 최적의 클러스터 수로 선택')"
   ]
  },
  {
   "cell_type": "code",
   "execution_count": null,
   "metadata": {},
   "outputs": [],
   "source": [
    "# K-평균 군집화 \n",
    "#\n",
    "#클러스터 수를 3으로 설정하고 k-평균 군집화 수행\n",
    "kmeans = KMeans(n_clusters=3, random_state=42) # 설정 \n",
    "culstering_features['cluster'] = kmeans.fit_predict(culstering_features) #수행 \n",
    "\n",
    "# 각 군집별로 평균 흥행 지표를 계산\n",
    "cluster_means = culstering_features.groupby('cluster').mean()"
   ]
  },
  {
   "cell_type": "code",
   "execution_count": 25,
   "metadata": {},
   "outputs": [
    {
     "data": {
      "text/html": [
       "<div>\n",
       "<style scoped>\n",
       "    .dataframe tbody tr th:only-of-type {\n",
       "        vertical-align: middle;\n",
       "    }\n",
       "\n",
       "    .dataframe tbody tr th {\n",
       "        vertical-align: top;\n",
       "    }\n",
       "\n",
       "    .dataframe thead th {\n",
       "        text-align: right;\n",
       "    }\n",
       "</style>\n",
       "<table border=\"1\" class=\"dataframe\">\n",
       "  <thead>\n",
       "    <tr style=\"text-align: right;\">\n",
       "      <th></th>\n",
       "      <th>total_count</th>\n",
       "      <th>total_rate</th>\n",
       "      <th>wins</th>\n",
       "      <th>nominations</th>\n",
       "    </tr>\n",
       "    <tr>\n",
       "      <th>cluster</th>\n",
       "      <th></th>\n",
       "      <th></th>\n",
       "      <th></th>\n",
       "      <th></th>\n",
       "    </tr>\n",
       "  </thead>\n",
       "  <tbody>\n",
       "    <tr>\n",
       "      <th>0</th>\n",
       "      <td>4.443929e+05</td>\n",
       "      <td>8.278571</td>\n",
       "      <td>30.428571</td>\n",
       "      <td>96.428571</td>\n",
       "    </tr>\n",
       "    <tr>\n",
       "      <th>1</th>\n",
       "      <td>1.965233e+04</td>\n",
       "      <td>7.093021</td>\n",
       "      <td>2.443936</td>\n",
       "      <td>6.364989</td>\n",
       "    </tr>\n",
       "    <tr>\n",
       "      <th>2</th>\n",
       "      <td>1.533333e+06</td>\n",
       "      <td>8.766667</td>\n",
       "      <td>118.000000</td>\n",
       "      <td>265.000000</td>\n",
       "    </tr>\n",
       "  </tbody>\n",
       "</table>\n",
       "</div>"
      ],
      "text/plain": [
       "          total_count  total_rate        wins  nominations\n",
       "cluster                                                   \n",
       "0        4.443929e+05    8.278571   30.428571    96.428571\n",
       "1        1.965233e+04    7.093021    2.443936     6.364989\n",
       "2        1.533333e+06    8.766667  118.000000   265.000000"
      ]
     },
     "execution_count": 25,
     "metadata": {},
     "output_type": "execute_result"
    }
   ],
   "source": [
    "cluster_means"
   ]
  },
  {
   "cell_type": "markdown",
   "metadata": {},
   "source": [
    "군집 0:\n",
    "\n",
    "참여 수: 444,392  \n",
    "\n",
    "총 평점: 8.28  \n",
    "\n",
    "수상: 30.43  \n",
    "\n",
    "후보: 96.43\n",
    "  \n",
    "\n",
    "군집 1:\n",
    "\n",
    "참여 수: 19,652  \n",
    "\n",
    "총 평점: 7.09  \n",
    "\n",
    "수상: 2.44  \n",
    "\n",
    "후보: 6.36  \n",
    "\n",
    "  \n",
    "\n",
    "군집 2:\n",
    "\n",
    "참여 수: 1,533,333  \n",
    "\n",
    "총 평점: 8.77  \n",
    "\n",
    "수상: 118.00  \n",
    "\n",
    "후보: 265.00  \n",
    "\n",
    "  \n",
    "  \n",
    "이 결과는 참여 수가 많을수록 평점, 수상, 후보 수가 모두 높아지는 경향을 보여줍니다.  \n",
    " 특히 군집 2는 매우 높은 참여 수와 함께 다른 모든 흥행 지표에서도 높은 값을 보입니다."
   ]
  },
  {
   "cell_type": "markdown",
   "metadata": {},
   "source": [
    "## 모델 학습 및 평가"
   ]
  },
  {
   "cell_type": "markdown",
   "metadata": {},
   "source": [
    "### X,y 정의 및 데이터 분할 "
   ]
  },
  {
   "cell_type": "code",
   "execution_count": 14,
   "metadata": {},
   "outputs": [],
   "source": [
    "# 타겟 변수 정의\n",
    "# X(독립 변수- 타겟) = 인코딩한 후의 데이터프레임 // y(종속 변수-피쳐)= 절대 지표(흥행 가능성 점수)\n",
    "X = df_encoded\n",
    "y = absolute_metrics['adjusted_absolute_index'].loc[df_encoded.index]\n",
    "\n",
    "# 데이터 분할 (train, teat) / random_state 재현성 보장 \n",
    "X_train, X_test, y_train, y_test = train_test_split(X, y, test_size=0.2,random_state=42)\n"
   ]
  },
  {
   "cell_type": "markdown",
   "metadata": {},
   "source": [
    "- **평균 제곱 오차 (MSE)**: 예측값과 실제값 사이의 차이를 제곱하여 평균을 낸 값입니다. 값이 작을수록 예측이 실제와 가깝다는 것을 의미합니다.\n",
    "- **결정 계수 (R²)**: 모델의 설명력을 나타내는 지표로, 0과 1 사이의 값을 가집니다. 1에 가까울수록 모델이 데이터를 잘 설명하고 있다는 의미입니다."
   ]
  },
  {
   "cell_type": "markdown",
   "metadata": {},
   "source": [
    "### 피쳐 중요도 분석 (랜덤 포레스트를 사용)"
   ]
  },
  {
   "cell_type": "code",
   "execution_count": 18,
   "metadata": {},
   "outputs": [],
   "source": [
    "# 피처 중요도 분석 (랜덤 포레스트를 사용한 추가 분석)\n",
    "rf_model = RandomForestRegressor(random_state=42)\n",
    "rf_model.fit(X_train, y_train)\n",
    "featur_importances = rf_model.feature_importances_"
   ]
  },
  {
   "cell_type": "code",
   "execution_count": 19,
   "metadata": {},
   "outputs": [],
   "source": [
    "# 피쳐 중요도 출력 \n",
    "feature_names = X.columns\n",
    "featur_importance_df = pd.DataFrame({'feature' : feature_names, 'importance': featur_importances})\n",
    "featur_importance_df = featur_importance_df.sort_values(by='importance', ascending=False)"
   ]
  },
  {
   "cell_type": "code",
   "execution_count": 20,
   "metadata": {},
   "outputs": [
    {
     "data": {
      "text/html": [
       "<div>\n",
       "<style scoped>\n",
       "    .dataframe tbody tr th:only-of-type {\n",
       "        vertical-align: middle;\n",
       "    }\n",
       "\n",
       "    .dataframe tbody tr th {\n",
       "        vertical-align: top;\n",
       "    }\n",
       "\n",
       "    .dataframe thead th {\n",
       "        text-align: right;\n",
       "    }\n",
       "</style>\n",
       "<table border=\"1\" class=\"dataframe\">\n",
       "  <thead>\n",
       "    <tr style=\"text-align: right;\">\n",
       "      <th></th>\n",
       "      <th>feature</th>\n",
       "      <th>importance</th>\n",
       "    </tr>\n",
       "  </thead>\n",
       "  <tbody>\n",
       "    <tr>\n",
       "      <th>3</th>\n",
       "      <td>nominations</td>\n",
       "      <td>0.541434</td>\n",
       "    </tr>\n",
       "    <tr>\n",
       "      <th>0</th>\n",
       "      <td>total_rate</td>\n",
       "      <td>0.235874</td>\n",
       "    </tr>\n",
       "    <tr>\n",
       "      <th>1</th>\n",
       "      <td>total_count</td>\n",
       "      <td>0.205972</td>\n",
       "    </tr>\n",
       "    <tr>\n",
       "      <th>2</th>\n",
       "      <td>wins</td>\n",
       "      <td>0.011707</td>\n",
       "    </tr>\n",
       "    <tr>\n",
       "      <th>4</th>\n",
       "      <td>runtime</td>\n",
       "      <td>0.002182</td>\n",
       "    </tr>\n",
       "    <tr>\n",
       "      <th>5</th>\n",
       "      <td>total_season_num</td>\n",
       "      <td>0.001104</td>\n",
       "    </tr>\n",
       "    <tr>\n",
       "      <th>20</th>\n",
       "      <td>코미디</td>\n",
       "      <td>0.000264</td>\n",
       "    </tr>\n",
       "    <tr>\n",
       "      <th>12</th>\n",
       "      <td>범죄</td>\n",
       "      <td>0.000196</td>\n",
       "    </tr>\n",
       "    <tr>\n",
       "      <th>9</th>\n",
       "      <td>공포</td>\n",
       "      <td>0.000192</td>\n",
       "    </tr>\n",
       "    <tr>\n",
       "      <th>16</th>\n",
       "      <td>액션</td>\n",
       "      <td>0.000170</td>\n",
       "    </tr>\n",
       "    <tr>\n",
       "      <th>21</th>\n",
       "      <td>판타지</td>\n",
       "      <td>0.000161</td>\n",
       "    </tr>\n",
       "    <tr>\n",
       "      <th>14</th>\n",
       "      <td>스릴러</td>\n",
       "      <td>0.000152</td>\n",
       "    </tr>\n",
       "    <tr>\n",
       "      <th>17</th>\n",
       "      <td>역사</td>\n",
       "      <td>0.000124</td>\n",
       "    </tr>\n",
       "    <tr>\n",
       "      <th>11</th>\n",
       "      <td>로맨스</td>\n",
       "      <td>0.000111</td>\n",
       "    </tr>\n",
       "    <tr>\n",
       "      <th>7</th>\n",
       "      <td>SF</td>\n",
       "      <td>0.000106</td>\n",
       "    </tr>\n",
       "    <tr>\n",
       "      <th>6</th>\n",
       "      <td>Made in Europe</td>\n",
       "      <td>0.000095</td>\n",
       "    </tr>\n",
       "    <tr>\n",
       "      <th>19</th>\n",
       "      <td>전쟁</td>\n",
       "      <td>0.000066</td>\n",
       "    </tr>\n",
       "    <tr>\n",
       "      <th>8</th>\n",
       "      <td>가족</td>\n",
       "      <td>0.000065</td>\n",
       "    </tr>\n",
       "    <tr>\n",
       "      <th>18</th>\n",
       "      <td>음악</td>\n",
       "      <td>0.000018</td>\n",
       "    </tr>\n",
       "    <tr>\n",
       "      <th>15</th>\n",
       "      <td>스포츠</td>\n",
       "      <td>0.000006</td>\n",
       "    </tr>\n",
       "    <tr>\n",
       "      <th>10</th>\n",
       "      <td>드라마</td>\n",
       "      <td>0.000000</td>\n",
       "    </tr>\n",
       "    <tr>\n",
       "      <th>13</th>\n",
       "      <td>서부</td>\n",
       "      <td>0.000000</td>\n",
       "    </tr>\n",
       "  </tbody>\n",
       "</table>\n",
       "</div>"
      ],
      "text/plain": [
       "             feature  importance\n",
       "3        nominations    0.541434\n",
       "0         total_rate    0.235874\n",
       "1        total_count    0.205972\n",
       "2               wins    0.011707\n",
       "4            runtime    0.002182\n",
       "5   total_season_num    0.001104\n",
       "20               코미디    0.000264\n",
       "12                범죄    0.000196\n",
       "9                 공포    0.000192\n",
       "16                액션    0.000170\n",
       "21               판타지    0.000161\n",
       "14               스릴러    0.000152\n",
       "17                역사    0.000124\n",
       "11               로맨스    0.000111\n",
       "7                 SF    0.000106\n",
       "6     Made in Europe    0.000095\n",
       "19                전쟁    0.000066\n",
       "8                 가족    0.000065\n",
       "18                음악    0.000018\n",
       "15               스포츠    0.000006\n",
       "10               드라마    0.000000\n",
       "13                서부    0.000000"
      ]
     },
     "execution_count": 20,
     "metadata": {},
     "output_type": "execute_result"
    }
   ],
   "source": [
    "featur_importance_df"
   ]
  },
  {
   "cell_type": "markdown",
   "metadata": {},
   "source": [
    "### 회귀 모델"
   ]
  },
  {
   "cell_type": "code",
   "execution_count": 15,
   "metadata": {},
   "outputs": [
    {
     "data": {
      "text/plain": [
       "LinearRegression()"
      ]
     },
     "execution_count": 15,
     "metadata": {},
     "output_type": "execute_result"
    }
   ],
   "source": [
    "# 회귀 모델 초기화 및 학습\n",
    "model = LinearRegression()\n",
    "model.fit(X_train,y_train)"
   ]
  },
  {
   "cell_type": "code",
   "execution_count": 16,
   "metadata": {},
   "outputs": [],
   "source": [
    "# 예측 및 평가\n",
    "y_pred = model.predict(X_test)\n",
    "mse = mean_squared_error(y_test, y_pred)\n",
    "r2 = r2_score(y_test, y_pred)"
   ]
  },
  {
   "cell_type": "code",
   "execution_count": 17,
   "metadata": {},
   "outputs": [
    {
     "name": "stdout",
     "output_type": "stream",
     "text": [
      "평균 제곱 오차 (MSE): 4.648861832185654\n",
      "결정 계수 (R²): 0.7524617684697396\n"
     ]
    }
   ],
   "source": [
    "# 결과 출력\n",
    "print(f'평균 제곱 오차 (MSE): {mse}')\n",
    "print(f'결정 계수 (R²): {r2}')"
   ]
  },
  {
   "cell_type": "markdown",
   "metadata": {},
   "source": [
    "### 회귀 모델 하이퍼 파라미터 튜닝"
   ]
  },
  {
   "cell_type": "code",
   "execution_count": 24,
   "metadata": {},
   "outputs": [],
   "source": [
    "# 데이터 분할 (훈련 데이터와 테스트 데이터)\n",
    "X_train, X_test, y_train, y_test = train_test_split(X, y, test_size=0.2, random_state=42)\n",
    "\n",
    "# 랜덤 포레스트 회귀 모델 초기화\n",
    "rf_model = RandomForestRegressor(random_state=42)\n",
    "\n",
    "# 하이퍼파라미터 그리드 설정\n",
    "param_grid = {\n",
    "    'n_estimators': [50, 100, 200],\n",
    "    'max_features': ['auto', 'sqrt', 'log2'],\n",
    "    'max_depth': [10, 20, 30, None],\n",
    "    'min_samples_split': [2, 5, 10],\n",
    "    'min_samples_leaf': [1, 2, 4],\n",
    "    'bootstrap': [True, False]\n",
    "}"
   ]
  },
  {
   "cell_type": "code",
   "execution_count": 25,
   "metadata": {},
   "outputs": [
    {
     "name": "stdout",
     "output_type": "stream",
     "text": [
      "Fitting 5 folds for each of 648 candidates, totalling 3240 fits\n"
     ]
    },
    {
     "data": {
      "text/plain": [
       "GridSearchCV(cv=5, estimator=RandomForestRegressor(random_state=42), n_jobs=-1,\n",
       "             param_grid={'bootstrap': [True, False],\n",
       "                         'max_depth': [10, 20, 30, None],\n",
       "                         'max_features': ['auto', 'sqrt', 'log2'],\n",
       "                         'min_samples_leaf': [1, 2, 4],\n",
       "                         'min_samples_split': [2, 5, 10],\n",
       "                         'n_estimators': [50, 100, 200]},\n",
       "             verbose=2)"
      ]
     },
     "execution_count": 25,
     "metadata": {},
     "output_type": "execute_result"
    }
   ],
   "source": [
    "# 그리드 서치를 사용하여 최적의 하이퍼파라미터 찾기\n",
    "grid_search = GridSearchCV(estimator=rf_model, param_grid=param_grid, cv=5,\n",
    "                            n_jobs=-1, verbose=2)\n",
    "grid_search.fit(X_train, y_train)"
   ]
  },
  {
   "cell_type": "code",
   "execution_count": 27,
   "metadata": {},
   "outputs": [],
   "source": [
    "# 최적의 모델 학습 및 평가\n",
    "best_rf_model = grid_search.best_estimator_\n",
    "y_pred = best_rf_model.predict(X_test)\n",
    "mse = mean_squared_error(y_test, y_pred)\n",
    "r2 = r2_score(y_test, y_pred)\n"
   ]
  },
  {
   "cell_type": "code",
   "execution_count": 28,
   "metadata": {},
   "outputs": [
    {
     "name": "stdout",
     "output_type": "stream",
     "text": [
      "평균 제곱 오차 (MSE): 0.19332596685082876\n",
      "결정 계수 (R²): 0.9897059603682322\n",
      "최적 하이퍼파라미터: {'bootstrap': True, 'max_depth': 20, 'max_features': 'auto', 'min_samples_leaf': 1, 'min_samples_split': 2, 'n_estimators': 50}\n"
     ]
    }
   ],
   "source": [
    "print(f'평균 제곱 오차 (MSE): {mse}')\n",
    "print(f'결정 계수 (R²): {r2}')\n",
    "print(f'최적 하이퍼파라미터: {grid_search.best_params_}')"
   ]
  },
  {
   "cell_type": "markdown",
   "metadata": {},
   "source": [
    "## 다양한 모델 사용 및 비교 "
   ]
  },
  {
   "cell_type": "code",
   "execution_count": 37,
   "metadata": {},
   "outputs": [
    {
     "name": "stdout",
     "output_type": "stream",
     "text": [
      "평균 제곱 오차 (MSE): 0.19114917127071807\n",
      "결정 계수 (R²): 0.9898218683361939\n"
     ]
    }
   ],
   "source": [
    "import pandas as pd\n",
    "from sklearn.model_selection import train_test_split\n",
    "from sklearn.preprocessing import StandardScaler, OneHotEncoder\n",
    "from sklearn.compose import ColumnTransformer\n",
    "from sklearn.pipeline import Pipeline\n",
    "from sklearn.ensemble import RandomForestRegressor\n",
    "from sklearn.metrics import mean_squared_error, r2_score\n",
    "from sklearn.model_selection import GridSearchCV, RandomizedSearchCV\n",
    "\n",
    "# 데이터 로드\n",
    "df = pd.read_excel('imdb_final_6.xlsx', sheet_name='Sheet1')\n",
    "\n",
    "# 절대 지표 계산 함수\n",
    "def calculate_adjusted_absolute_index(row):\n",
    "    if row['total_rate'] >= 8:\n",
    "        rate_points = 10\n",
    "    elif row['total_rate'] >= 7:\n",
    "        rate_points = 8\n",
    "    elif row['total_rate'] >= 6:\n",
    "        rate_points = 6\n",
    "    else:\n",
    "        rate_points = 4\n",
    "    \n",
    "    if row['total_count'] >= 50000:\n",
    "        count_points = 10\n",
    "    elif row['total_count'] >= 10000:\n",
    "        count_points = 8\n",
    "    elif row['total_count'] >= 1000:\n",
    "        count_points = 6\n",
    "    else:\n",
    "        count_points = 4\n",
    "    \n",
    "    total_awards = row['wins'] + row['nominations']\n",
    "    if total_awards >= 50:\n",
    "        awards_points = 10\n",
    "    elif total_awards >= 20:\n",
    "        awards_points = 8\n",
    "    elif total_awards >= 10:\n",
    "        awards_points = 6\n",
    "    else:\n",
    "        awards_points = 4\n",
    "    \n",
    "    adjusted_absolute_index = rate_points + count_points + awards_points\n",
    "    \n",
    "    return adjusted_absolute_index\n",
    "\n",
    "# 절대 지표를 데이터프레임에 추가\n",
    "df['adjusted_absolute_index'] = df.apply(calculate_adjusted_absolute_index, axis=1)\n",
    "\n",
    "# 피처와 타겟 변수 정의\n",
    "numeric_features = ['total_rate', 'total_count', 'wins', 'nominations', 'runtime', 'total_season_num']\n",
    "categorical_features = ['genre']\n",
    "\n",
    "df_selected = df[numeric_features + categorical_features].dropna()\n",
    "\n",
    "# 파이프라인 설정\n",
    "numeric_transformer = Pipeline(steps=[\n",
    "    ('scaler', StandardScaler())\n",
    "])\n",
    "\n",
    "categorical_transformer = Pipeline(steps=[\n",
    "    ('onehot', OneHotEncoder(handle_unknown='ignore'))\n",
    "])\n",
    "\n",
    "preprocessor = ColumnTransformer(\n",
    "    transformers=[\n",
    "        ('num', numeric_transformer, numeric_features),\n",
    "        ('cat', categorical_transformer, categorical_features)\n",
    "    ])\n",
    "\n",
    "# 파이프라인을 사용하여 데이터 전처리 및 모델 학습\n",
    "pipeline = Pipeline(steps=[('preprocessor', preprocessor),\n",
    "                           ('model', RandomForestRegressor(random_state=42))])\n",
    "\n",
    "X = df_selected[numeric_features + categorical_features]\n",
    "y = df['adjusted_absolute_index'].loc[X.index]\n",
    "\n",
    "# 데이터 분할\n",
    "X_train, X_test, y_train, y_test = train_test_split(X, y, test_size=0.2, random_state=42)\n",
    "\n",
    "# 모델 학습\n",
    "pipeline.fit(X_train, y_train)\n",
    "\n",
    "# 예측 및 평가\n",
    "y_pred = pipeline.predict(X_test)\n",
    "mse = mean_squared_error(y_test, y_pred)\n",
    "r2 = r2_score(y_test, y_pred)\n",
    "\n",
    "print(f'평균 제곱 오차 (MSE): {mse}')\n",
    "print(f'결정 계수 (R²): {r2}')\n"
   ]
  },
  {
   "cell_type": "code",
   "execution_count": 38,
   "metadata": {},
   "outputs": [
    {
     "name": "stdout",
     "output_type": "stream",
     "text": [
      "Fitting 5 folds for each of 50 candidates, totalling 250 fits\n",
      "평균 제곱 오차 (MSE): 0.18588648707494068\n",
      "결정 계수 (R²): 0.9901020908048218\n",
      "최적 하이퍼파라미터: {'model__n_estimators': 200, 'model__min_samples_split': 2, 'model__min_samples_leaf': 1, 'model__max_features': 'auto', 'model__max_depth': 10, 'model__bootstrap': True}\n"
     ]
    }
   ],
   "source": [
    "# 하이퍼파라미터 그리드 설정\n",
    "param_distributions = {\n",
    "    'model__n_estimators': [50, 100, 200],\n",
    "    'model__max_features': ['auto', 'sqrt', 'log2'],\n",
    "    'model__max_depth': [10, 20, 30, None],\n",
    "    'model__min_samples_split': [2, 5, 10],\n",
    "    'model__min_samples_leaf': [1, 2, 4],\n",
    "    'model__bootstrap': [True, False]\n",
    "}\n",
    "\n",
    "# 랜덤 서치를 사용한 하이퍼파라미터 튜닝\n",
    "random_search = RandomizedSearchCV(pipeline, param_distributions, n_iter=50, cv=5, n_jobs=-1, random_state=42, verbose=2)\n",
    "random_search.fit(X_train, y_train)\n",
    "\n",
    "# 최적의 모델로 예측 및 평가\n",
    "best_model = random_search.best_estimator_\n",
    "y_pred = best_model.predict(X_test)\n",
    "mse = mean_squared_error(y_test, y_pred)\n",
    "r2 = r2_score(y_test, y_pred)\n",
    "\n",
    "print(f'평균 제곱 오차 (MSE): {mse}')\n",
    "print(f'결정 계수 (R²): {r2}')\n",
    "print(f'최적 하이퍼파라미터: {random_search.best_params_}')\n"
   ]
  },
  {
   "cell_type": "code",
   "execution_count": 39,
   "metadata": {},
   "outputs": [
    {
     "name": "stdout",
     "output_type": "stream",
     "text": [
      "RandomForest 평균 결정 계수 (R²): 0.9643355741290043\n",
      "GradientBoosting 평균 결정 계수 (R²): 0.9767416228496545\n",
      "XGBoost 평균 결정 계수 (R²): 0.9684426047039574\n"
     ]
    }
   ],
   "source": [
    "from sklearn.ensemble import GradientBoostingRegressor\n",
    "from xgboost import XGBRegressor\n",
    "from sklearn.model_selection import cross_val_score\n",
    "\n",
    "# 여러 모델 초기화\n",
    "models = {\n",
    "    'RandomForest': RandomForestRegressor(random_state=42),\n",
    "    'GradientBoosting': GradientBoostingRegressor(random_state=42),\n",
    "    'XGBoost': XGBRegressor(random_state=42)\n",
    "}\n",
    "\n",
    "# 모델 비교\n",
    "for name, model in models.items():\n",
    "    pipeline = Pipeline(steps=[('preprocessor', preprocessor),\n",
    "                               ('model', model)])\n",
    "    scores = cross_val_score(pipeline, X, y, cv=5, scoring='r2')\n",
    "    print(f'{name} 평균 결정 계수 (R²): {scores.mean()}')\n"
   ]
  },
  {
   "cell_type": "code",
   "execution_count": null,
   "metadata": {},
   "outputs": [],
   "source": []
  }
 ],
 "metadata": {
  "kernelspec": {
   "display_name": "conda_ds_study",
   "language": "python",
   "name": "python3"
  },
  "language_info": {
   "codemirror_mode": {
    "name": "ipython",
    "version": 3
   },
   "file_extension": ".py",
   "mimetype": "text/x-python",
   "name": "python",
   "nbconvert_exporter": "python",
   "pygments_lexer": "ipython3",
   "version": "3.8.19"
  }
 },
 "nbformat": 4,
 "nbformat_minor": 2
}
