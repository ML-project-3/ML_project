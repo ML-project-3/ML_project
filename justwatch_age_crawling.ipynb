{
 "cells": [
  {
   "cell_type": "code",
   "execution_count": 1,
   "metadata": {},
   "outputs": [],
   "source": [
    "import pandas as pd\n",
    "import numpy as np\n",
    "import time\n",
    "import re\n",
    "import copy\n",
    "import random\n",
    "import os\n",
    "from tqdm import tqdm_notebook\n",
    "from bs4 import BeautifulSoup\n",
    "from selenium import webdriver\n",
    "from selenium.webdriver import ActionChains\n",
    "from selenium.webdriver.common.by import By\n",
    "from selenium.webdriver.common.keys import Keys\n"
   ]
  },
  {
   "cell_type": "code",
   "execution_count": 196,
   "metadata": {},
   "outputs": [],
   "source": [
    "# 프록시 주소를 중간중간 변경하여 로봇에 탐지되는 것을 회피하기 위한 코드\n",
    "# 시스템 프록시 설정 읽기 (예: Windows 환경 변수 사용)\n",
    "\n",
    "proxy = os.environ.get('http_proxy') or os.environ.get('https_proxy')\n",
    "\n",
    "options = webdriver.ChromeOptions()\n",
    "options.add_argument(f'--proxy-server={proxy}')\n",
    "\n",
    "driver = webdriver.Chrome(options=options)\n"
   ]
  },
  {
   "cell_type": "code",
   "execution_count": 2,
   "metadata": {},
   "outputs": [
    {
     "data": {
      "text/html": [
       "<div>\n",
       "<style scoped>\n",
       "    .dataframe tbody tr th:only-of-type {\n",
       "        vertical-align: middle;\n",
       "    }\n",
       "\n",
       "    .dataframe tbody tr th {\n",
       "        vertical-align: top;\n",
       "    }\n",
       "\n",
       "    .dataframe thead th {\n",
       "        text-align: right;\n",
       "    }\n",
       "</style>\n",
       "<table border=\"1\" class=\"dataframe\">\n",
       "  <thead>\n",
       "    <tr style=\"text-align: right;\">\n",
       "      <th></th>\n",
       "      <th>title</th>\n",
       "      <th>english_title</th>\n",
       "      <th>year</th>\n",
       "      <th>total_season_num</th>\n",
       "      <th>runtime</th>\n",
       "      <th>genre</th>\n",
       "      <th>age_rating</th>\n",
       "      <th>production_country</th>\n",
       "      <th>total_rate</th>\n",
       "      <th>total_count</th>\n",
       "      <th>...</th>\n",
       "      <th>season_8</th>\n",
       "      <th>season_9</th>\n",
       "      <th>season_10</th>\n",
       "      <th>season_11</th>\n",
       "      <th>season_12</th>\n",
       "      <th>season_13</th>\n",
       "      <th>season_14</th>\n",
       "      <th>season_15</th>\n",
       "      <th>season_16</th>\n",
       "      <th>season_17</th>\n",
       "    </tr>\n",
       "  </thead>\n",
       "  <tbody>\n",
       "    <tr>\n",
       "      <th>0</th>\n",
       "      <td>Ojingeo Geim</td>\n",
       "      <td>Squid Game</td>\n",
       "      <td>2021</td>\n",
       "      <td>1</td>\n",
       "      <td>55</td>\n",
       "      <td>액션, 드라마, 스릴러</td>\n",
       "      <td>18</td>\n",
       "      <td>대한민국</td>\n",
       "      <td>8.0</td>\n",
       "      <td>549000.0</td>\n",
       "      <td>...</td>\n",
       "      <td>NaN</td>\n",
       "      <td>NaN</td>\n",
       "      <td>NaN</td>\n",
       "      <td>NaN</td>\n",
       "      <td>NaN</td>\n",
       "      <td>NaN</td>\n",
       "      <td>NaN</td>\n",
       "      <td>NaN</td>\n",
       "      <td>NaN</td>\n",
       "      <td>NaN</td>\n",
       "    </tr>\n",
       "    <tr>\n",
       "      <th>1</th>\n",
       "      <td>12인의 심판자</td>\n",
       "      <td>NaN</td>\n",
       "      <td>2019</td>\n",
       "      <td>2</td>\n",
       "      <td>54</td>\n",
       "      <td>드라마, 스릴러</td>\n",
       "      <td>18</td>\n",
       "      <td>벨기에</td>\n",
       "      <td>7.4</td>\n",
       "      <td>6500.0</td>\n",
       "      <td>...</td>\n",
       "      <td>NaN</td>\n",
       "      <td>NaN</td>\n",
       "      <td>NaN</td>\n",
       "      <td>NaN</td>\n",
       "      <td>NaN</td>\n",
       "      <td>NaN</td>\n",
       "      <td>NaN</td>\n",
       "      <td>NaN</td>\n",
       "      <td>NaN</td>\n",
       "      <td>NaN</td>\n",
       "    </tr>\n",
       "    <tr>\n",
       "      <th>2</th>\n",
       "      <td>희생자 게임</td>\n",
       "      <td>The Victims' Game</td>\n",
       "      <td>2020</td>\n",
       "      <td>1</td>\n",
       "      <td>60</td>\n",
       "      <td>드라마, 범죄, 스릴러</td>\n",
       "      <td>18</td>\n",
       "      <td>대만</td>\n",
       "      <td>7.3</td>\n",
       "      <td>1900.0</td>\n",
       "      <td>...</td>\n",
       "      <td>NaN</td>\n",
       "      <td>NaN</td>\n",
       "      <td>NaN</td>\n",
       "      <td>NaN</td>\n",
       "      <td>NaN</td>\n",
       "      <td>NaN</td>\n",
       "      <td>NaN</td>\n",
       "      <td>NaN</td>\n",
       "      <td>NaN</td>\n",
       "      <td>NaN</td>\n",
       "    </tr>\n",
       "    <tr>\n",
       "      <th>3</th>\n",
       "      <td>스위트 투스: 사슴뿔을 가진 소년</td>\n",
       "      <td>Sweet Tooth</td>\n",
       "      <td>2021</td>\n",
       "      <td>2</td>\n",
       "      <td>52</td>\n",
       "      <td>SF, 드라마, 판타지, 액션</td>\n",
       "      <td>15</td>\n",
       "      <td>미국</td>\n",
       "      <td>7.7</td>\n",
       "      <td>68000.0</td>\n",
       "      <td>...</td>\n",
       "      <td>NaN</td>\n",
       "      <td>NaN</td>\n",
       "      <td>NaN</td>\n",
       "      <td>NaN</td>\n",
       "      <td>NaN</td>\n",
       "      <td>NaN</td>\n",
       "      <td>NaN</td>\n",
       "      <td>NaN</td>\n",
       "      <td>NaN</td>\n",
       "      <td>NaN</td>\n",
       "    </tr>\n",
       "    <tr>\n",
       "      <th>4</th>\n",
       "      <td>Sweet Home</td>\n",
       "      <td>Sweet Home</td>\n",
       "      <td>2020</td>\n",
       "      <td>2</td>\n",
       "      <td>60</td>\n",
       "      <td>스릴러, 드라마, 판타지, 공포, SF, 범죄</td>\n",
       "      <td>18</td>\n",
       "      <td>대한민국</td>\n",
       "      <td>7.3</td>\n",
       "      <td>33000.0</td>\n",
       "      <td>...</td>\n",
       "      <td>NaN</td>\n",
       "      <td>NaN</td>\n",
       "      <td>NaN</td>\n",
       "      <td>NaN</td>\n",
       "      <td>NaN</td>\n",
       "      <td>NaN</td>\n",
       "      <td>NaN</td>\n",
       "      <td>NaN</td>\n",
       "      <td>NaN</td>\n",
       "      <td>NaN</td>\n",
       "    </tr>\n",
       "  </tbody>\n",
       "</table>\n",
       "<p>5 rows × 34 columns</p>\n",
       "</div>"
      ],
      "text/plain": [
       "                title      english_title  year  total_season_num  runtime  \\\n",
       "0        Ojingeo Geim         Squid Game  2021                 1       55   \n",
       "1            12인의 심판자                NaN  2019                 2       54   \n",
       "2              희생자 게임  The Victims' Game  2020                 1       60   \n",
       "3  스위트 투스: 사슴뿔을 가진 소년        Sweet Tooth  2021                 2       52   \n",
       "4          Sweet Home         Sweet Home  2020                 2       60   \n",
       "\n",
       "                       genre age_rating production_country  total_rate  \\\n",
       "0               액션, 드라마, 스릴러         18               대한민국         8.0   \n",
       "1                   드라마, 스릴러         18                벨기에         7.4   \n",
       "2               드라마, 범죄, 스릴러         18                 대만         7.3   \n",
       "3           SF, 드라마, 판타지, 액션         15                 미국         7.7   \n",
       "4  스릴러, 드라마, 판타지, 공포, SF, 범죄         18               대한민국         7.3   \n",
       "\n",
       "   total_count  ...  season_8  season_9  season_10  season_11 season_12  \\\n",
       "0     549000.0  ...       NaN       NaN        NaN        NaN       NaN   \n",
       "1       6500.0  ...       NaN       NaN        NaN        NaN       NaN   \n",
       "2       1900.0  ...       NaN       NaN        NaN        NaN       NaN   \n",
       "3      68000.0  ...       NaN       NaN        NaN        NaN       NaN   \n",
       "4      33000.0  ...       NaN       NaN        NaN        NaN       NaN   \n",
       "\n",
       "  season_13 season_14 season_15 season_16 season_17  \n",
       "0       NaN       NaN       NaN       NaN       NaN  \n",
       "1       NaN       NaN       NaN       NaN       NaN  \n",
       "2       NaN       NaN       NaN       NaN       NaN  \n",
       "3       NaN       NaN       NaN       NaN       NaN  \n",
       "4       NaN       NaN       NaN       NaN       NaN  \n",
       "\n",
       "[5 rows x 34 columns]"
      ]
     },
     "execution_count": 2,
     "metadata": {},
     "output_type": "execute_result"
    }
   ],
   "source": [
    "df = pd.read_excel('data/imdb_combine_240611.xlsx', index_col=0)\n",
    "df.head()"
   ]
  },
  {
   "cell_type": "code",
   "execution_count": 4,
   "metadata": {},
   "outputs": [],
   "source": [
    "countries_dict = {\n",
    "    '대한민국': 'Korea',\n",
    "    '벨기에': 'Belgium',\n",
    "    '대만': 'Taiwan',\n",
    "    '미국': 'US',\n",
    "    '덴마크': 'Denmark',\n",
    "    '독일': 'Germany',\n",
    "    '일본': 'Japan',\n",
    "    '태국': 'Thailand',\n",
    "    '캐나다': 'Canada',\n",
    "    '그리스': 'Greece',\n",
    "    '영국': 'United Kingdom',\n",
    "    'China': 'China',\n",
    "    '스페인': 'Spain',\n",
    "    '미국, 영국': 'US, United Kingdom',\n",
    "    '아이슬란드, 덴마크, 핀란드, 스웨덴, 노르웨이, 독일, 프랑스, 영국': 'Iceland, Denmark, Finland, Sweden, Norway, Germany, France, United Kingdom',\n",
    "    '미국, 프랑스': 'US, France',\n",
    "    '호주': 'Australia',\n",
    "    '스웨덴': 'Sweden',\n",
    "    '이탈리아': 'Italy',\n",
    "    '케냐': 'Kenya',\n",
    "    'WEBAPP_COUNTRY_VN': 'Vietnam',\n",
    "    '인도': 'India',\n",
    "    '호주, 미국': 'Australia, US',\n",
    "    '스위스': 'Switzerland',\n",
    "    '필리핀 제도': 'Philippines',\n",
    "    '영국, 미국': 'United Kingdom, US',\n",
    "    '남아프리카공화국': 'South Africa',\n",
    "    '폴란드': 'Poland',\n",
    "    '브라질': 'Brazil',\n",
    "    '미국, 캐나다': 'US, Canada',\n",
    "    '콜롬비아': 'Colombia',\n",
    "    '터키': 'Turkey',\n",
    "    '룩셈부르크': 'Luxembourg',\n",
    "    '핀란드': 'Finland',\n",
    "    '이스라엘': 'Israel',\n",
    "    '프랑스': 'France',\n",
    "    '멕시코': 'Mexico',\n",
    "    '벨기에, 네덜란드': 'Belgium, Netherlands',\n",
    "    '덴마크, 노르웨이': 'Denmark, Norway',\n",
    "    '노르웨이': 'Norway',\n",
    "    '러시아': 'Russia',\n",
    "    '미국, 일본': 'US, Japan',\n",
    "    '영국, 프랑스': 'United Kingdom, France',\n",
    "    '요르단': 'Jordan',\n",
    "    '프랑스, 미국': 'France, US',\n",
    "    '캐나다, 영국': 'Canada, United Kingdom',\n",
    "    '태국, 미국': 'Thailand, US',\n",
    "    '인도네시아': 'Indonesia',\n",
    "    '사우디아라비아': 'Saudi Arabia',\n",
    "    '영국, 인도': 'United Kingdom, India',\n",
    "    'Arjantin': 'Argentina',\n",
    "    '아이슬란드': 'Iceland',\n",
    "    '오스트리아': 'Austria',\n",
    "    '포르투갈': 'Portugal',\n",
    "    '프랑스, 독일, 스페인, 영국': 'France, Germany, Spain, United Kingdom',\n",
    "    '아일랜드, 영국': 'Ireland, United Kingdom',\n",
    "    '캐나다, 프랑스, 독일': 'Canada, France, Germany',\n",
    "    '이스라엘, 노르웨이': 'Israel, Norway',\n",
    "    '대한민국, 미국': 'South Korea, US',\n",
    "    '미국, 대한민국': 'US, South Korea',\n",
    "    '네덜란드': 'Netherlands',\n",
    "    '멕시코, 스페인': 'Mexico, Spain',\n",
    "    '홍콩': 'Hong Kong',\n",
    "    '칠레': 'Chile',\n",
    "    '뉴질랜드, 호주': 'New Zealand, Australia',\n",
    "    '나이지리아': 'Nigeria',\n",
    "    '이집트': 'Egypt',\n",
    "    '일본, 미국': 'Japan, US',\n",
    "    '미국, 멕시코': 'US, Mexico',\n",
    "    '쿠웨이트': 'Kuwait',\n",
    "    '나이지리아, 미국': 'Nigeria, US',\n",
    "    '말레이시아, 대만': 'Malaysia, Taiwan',\n",
    "    '사우디아라비아, 인도': 'Saudi Arabia, India',\n",
    "    '벨기에, 룩셈부르크': 'Belgium, Luxembourg',\n",
    "    '사우디아라비아, 튀니지, 이집트, 모로코, 레바논': 'Saudi Arabia, Tunisia, Egypt, Morocco, Lebanon',\n",
    "    '독일, 오스트리아': 'Germany, Austria',\n",
    "    '체코 공화국, 독일': 'Czech Republic, Germany',\n",
    "    '영국, 스페인': 'United Kingdom, Spain',\n",
    "    '스페인, 브라질': 'Spain, Brazil',\n",
    "    '레바논': 'Lebanon'\n",
    "}"
   ]
  },
  {
   "cell_type": "code",
   "execution_count": 197,
   "metadata": {},
   "outputs": [],
   "source": [
    "driver = webdriver.Chrome()\n",
    "driver.get('https://www.justwatch.com/us/')"
   ]
  },
  {
   "cell_type": "code",
   "execution_count": 6,
   "metadata": {},
   "outputs": [
    {
     "data": {
      "text/plain": [
       "('Squid Game', 2021, '대한민국')"
      ]
     },
     "execution_count": 6,
     "metadata": {},
     "output_type": "execute_result"
    }
   ],
   "source": [
    "df.loc[0]['add_english_title'], df.loc[0]['year']"
   ]
  },
  {
   "cell_type": "code",
   "execution_count": 10,
   "metadata": {},
   "outputs": [],
   "source": [
    "title = df.loc[0]['add_english_title']\n",
    "year = df.loc[0]['year']"
   ]
  },
  {
   "cell_type": "code",
   "execution_count": 53,
   "metadata": {},
   "outputs": [],
   "source": [
    "# 검색창에 검색어 입력\n",
    "driver.find_element(By.CSS_SELECTOR, 'div.navbar__search > div > ion-searchbar > div > input').send_keys(f'{title}')"
   ]
  },
  {
   "cell_type": "code",
   "execution_count": 13,
   "metadata": {},
   "outputs": [],
   "source": [
    "# 검색 실시\n",
    "driver.find_element(By.CSS_SELECTOR, 'div.navbar__search > div > ion-searchbar > div > input').send_keys(Keys.ENTER)"
   ]
  },
  {
   "cell_type": "code",
   "execution_count": null,
   "metadata": {},
   "outputs": [],
   "source": [
    "driver.find_element(By.CSS_SELECTOR, 'div.navbar__search > div > ion-searchbar > div > input').send_keys(Keys.ENTER)"
   ]
  },
  {
   "cell_type": "code",
   "execution_count": 54,
   "metadata": {},
   "outputs": [],
   "source": [
    "driver.find_element(By.CSS_SELECTOR, 'div.navbar__search > div > ion-searchbar > div > input').click()\n",
    "driver.find_element(By.CSS_SELECTOR, 'ion-searchbar > div > button').click()"
   ]
  },
  {
   "cell_type": "code",
   "execution_count": 16,
   "metadata": {},
   "outputs": [
    {
     "data": {
      "text/plain": [
       "'Squid Game'"
      ]
     },
     "execution_count": 16,
     "metadata": {},
     "output_type": "execute_result"
    }
   ],
   "source": [
    "# 첫번째 검색 결과물의 제목\n",
    "driver.find_element(By.CLASS_NAME, 'header-title').text"
   ]
  },
  {
   "cell_type": "code",
   "execution_count": 30,
   "metadata": {},
   "outputs": [],
   "source": [
    "# 첫번째 검색 결과물 클릭\n",
    "driver.find_element(By.CLASS_NAME, 'header-title').click()"
   ]
  },
  {
   "cell_type": "code",
   "execution_count": 17,
   "metadata": {},
   "outputs": [
    {
     "data": {
      "text/plain": [
       "'AGE RATING\\nTV-14'"
      ]
     },
     "execution_count": 17,
     "metadata": {},
     "output_type": "execute_result"
    }
   ],
   "source": [
    "# 연령 정보 추출\n",
    "age = driver.find_elements(By.CLASS_NAME, 'detail-infos')[4].text\n",
    "age"
   ]
  },
  {
   "cell_type": "code",
   "execution_count": 93,
   "metadata": {},
   "outputs": [
    {
     "data": {
      "text/plain": [
       "'1h 0min'"
      ]
     },
     "execution_count": 93,
     "metadata": {},
     "output_type": "execute_result"
    }
   ],
   "source": [
    "df.loc[2,'runtime'].replace('시간', 'h').replace('분', 'min')"
   ]
  },
  {
   "cell_type": "code",
   "execution_count": 94,
   "metadata": {},
   "outputs": [
    {
     "data": {
      "text/plain": [
       "('RUNTIME', '1h 0min')"
      ]
     },
     "execution_count": 94,
     "metadata": {},
     "output_type": "execute_result"
    }
   ],
   "source": [
    "age.split('\\n')[0], age.split('\\n')[1]"
   ]
  },
  {
   "cell_type": "code",
   "execution_count": 35,
   "metadata": {},
   "outputs": [
    {
     "data": {
      "text/plain": [
       "'2021'"
      ]
     },
     "execution_count": 35,
     "metadata": {},
     "output_type": "execute_result"
    }
   ],
   "source": [
    "driver.find_element(By.CLASS_NAME, 'header-year').text[1:5]"
   ]
  },
  {
   "cell_type": "code",
   "execution_count": 6,
   "metadata": {},
   "outputs": [],
   "source": [
    "# 데이터 프레임에 컬럼 준비\n",
    "df['justwatch_us_age'] = None"
   ]
  },
  {
   "cell_type": "code",
   "execution_count": 37,
   "metadata": {},
   "outputs": [
    {
     "data": {
      "text/html": [
       "<div>\n",
       "<style scoped>\n",
       "    .dataframe tbody tr th:only-of-type {\n",
       "        vertical-align: middle;\n",
       "    }\n",
       "\n",
       "    .dataframe tbody tr th {\n",
       "        vertical-align: top;\n",
       "    }\n",
       "\n",
       "    .dataframe thead th {\n",
       "        text-align: right;\n",
       "    }\n",
       "</style>\n",
       "<table border=\"1\" class=\"dataframe\">\n",
       "  <thead>\n",
       "    <tr style=\"text-align: right;\">\n",
       "      <th></th>\n",
       "      <th>title</th>\n",
       "      <th>original_title</th>\n",
       "      <th>year</th>\n",
       "      <th>season_episode</th>\n",
       "      <th>runtime</th>\n",
       "      <th>genre</th>\n",
       "      <th>age_rating</th>\n",
       "      <th>Production country</th>\n",
       "      <th>IMDb_title</th>\n",
       "      <th>IMDb_URL</th>\n",
       "      <th>add_original_title</th>\n",
       "      <th>add_english_title</th>\n",
       "      <th>justwatch_us_age</th>\n",
       "    </tr>\n",
       "  </thead>\n",
       "  <tbody>\n",
       "    <tr>\n",
       "      <th>0</th>\n",
       "      <td>Ojingeo Geim</td>\n",
       "      <td>Squid Game</td>\n",
       "      <td>2021</td>\n",
       "      <td>2</td>\n",
       "      <td>55min</td>\n",
       "      <td>액션, 드라마, 스릴러</td>\n",
       "      <td>19</td>\n",
       "      <td>대한민국</td>\n",
       "      <td>Squid Game (TV Series 2021</td>\n",
       "      <td>https://www.imdb.com/title/tt10919420/</td>\n",
       "      <td>오리지날 타이틀 없음</td>\n",
       "      <td>Squid Game</td>\n",
       "      <td>TV-MA</td>\n",
       "    </tr>\n",
       "    <tr>\n",
       "      <th>1</th>\n",
       "      <td>12인의 심판자</td>\n",
       "      <td>The Twelve</td>\n",
       "      <td>2019</td>\n",
       "      <td>2</td>\n",
       "      <td>54min</td>\n",
       "      <td>드라마, 스릴러</td>\n",
       "      <td>NaN</td>\n",
       "      <td>벨기에</td>\n",
       "      <td>The Twelve (TV Mini Series 2022</td>\n",
       "      <td>https://www.imdb.com/title/tt13589004/</td>\n",
       "      <td>오리지날 타이틀 없음</td>\n",
       "      <td>The Twelve</td>\n",
       "      <td>검색 결과 부정확</td>\n",
       "    </tr>\n",
       "    <tr>\n",
       "      <th>2</th>\n",
       "      <td>희생자 게임</td>\n",
       "      <td>誰是被害者</td>\n",
       "      <td>2020</td>\n",
       "      <td>2</td>\n",
       "      <td>1시간 0분</td>\n",
       "      <td>드라마, 범죄, 스릴러</td>\n",
       "      <td>19</td>\n",
       "      <td>대만</td>\n",
       "      <td>The Victims' Game (TV Series 2020</td>\n",
       "      <td>https://www.imdb.com/title/tt12079212/</td>\n",
       "      <td>誰是被害者</td>\n",
       "      <td>The Victims' Game</td>\n",
       "      <td>TV-MA</td>\n",
       "    </tr>\n",
       "    <tr>\n",
       "      <th>3</th>\n",
       "      <td>스위트 투스: 사슴뿔을 가진 소년</td>\n",
       "      <td>Sweet Tooth</td>\n",
       "      <td>2021</td>\n",
       "      <td>3</td>\n",
       "      <td>52min</td>\n",
       "      <td>SF, 드라마, 판타지, 액션</td>\n",
       "      <td>15</td>\n",
       "      <td>미국</td>\n",
       "      <td>Sweet Tooth (TV Series 2021</td>\n",
       "      <td>https://www.imdb.com/title/tt12809988/</td>\n",
       "      <td>오리지날 타이틀 없음</td>\n",
       "      <td>Sweet Tooth</td>\n",
       "      <td>런타임 다름</td>\n",
       "    </tr>\n",
       "    <tr>\n",
       "      <th>4</th>\n",
       "      <td>Sweet Home</td>\n",
       "      <td>NaN</td>\n",
       "      <td>2020</td>\n",
       "      <td>3</td>\n",
       "      <td>1시간 0분</td>\n",
       "      <td>스릴러, 드라마, 판타지, 공포, SF, 범죄</td>\n",
       "      <td>NaN</td>\n",
       "      <td>대한민국</td>\n",
       "      <td>Sweet Home (TV Series 2020</td>\n",
       "      <td>https://www.imdb.com/title/tt11612120/</td>\n",
       "      <td>오리지날 타이틀 없음</td>\n",
       "      <td>Sweet Home</td>\n",
       "      <td>TV-MA</td>\n",
       "    </tr>\n",
       "  </tbody>\n",
       "</table>\n",
       "</div>"
      ],
      "text/plain": [
       "                title original_title  year  season_episode runtime  \\\n",
       "0        Ojingeo Geim     Squid Game  2021               2   55min   \n",
       "1            12인의 심판자     The Twelve  2019               2   54min   \n",
       "2              희생자 게임          誰是被害者  2020               2  1시간 0분   \n",
       "3  스위트 투스: 사슴뿔을 가진 소년    Sweet Tooth  2021               3   52min   \n",
       "4          Sweet Home            NaN  2020               3  1시간 0분   \n",
       "\n",
       "                       genre age_rating Production country  \\\n",
       "0               액션, 드라마, 스릴러         19               대한민국   \n",
       "1                   드라마, 스릴러        NaN                벨기에   \n",
       "2               드라마, 범죄, 스릴러         19                 대만   \n",
       "3           SF, 드라마, 판타지, 액션         15                 미국   \n",
       "4  스릴러, 드라마, 판타지, 공포, SF, 범죄        NaN               대한민국   \n",
       "\n",
       "                          IMDb_title                                IMDb_URL  \\\n",
       "0         Squid Game (TV Series 2021  https://www.imdb.com/title/tt10919420/   \n",
       "1    The Twelve (TV Mini Series 2022  https://www.imdb.com/title/tt13589004/   \n",
       "2  The Victims' Game (TV Series 2020  https://www.imdb.com/title/tt12079212/   \n",
       "3        Sweet Tooth (TV Series 2021  https://www.imdb.com/title/tt12809988/   \n",
       "4         Sweet Home (TV Series 2020  https://www.imdb.com/title/tt11612120/   \n",
       "\n",
       "  add_original_title  add_english_title justwatch_us_age  \n",
       "0        오리지날 타이틀 없음         Squid Game            TV-MA  \n",
       "1        오리지날 타이틀 없음         The Twelve        검색 결과 부정확  \n",
       "2              誰是被害者  The Victims' Game            TV-MA  \n",
       "3        오리지날 타이틀 없음        Sweet Tooth           런타임 다름  \n",
       "4        오리지날 타이틀 없음         Sweet Home            TV-MA  "
      ]
     },
     "execution_count": 37,
     "metadata": {},
     "output_type": "execute_result"
    }
   ],
   "source": [
    "df.head()"
   ]
  },
  {
   "cell_type": "code",
   "execution_count": null,
   "metadata": {},
   "outputs": [],
   "source": [
    "# justwatch에서 직접 검색하여 크롤링 하기\n",
    "# 검색 결과 첫번째만 확인\n",
    "\n",
    "for idx, row in tqdm_notebook(df.iterrows()):\n",
    "    # 데이터 프레임의 영문 제목과 작품의 공개 연도를 변수에 할당\n",
    "    search_title, search_year = row['add_english_title'], row['year']\n",
    "    time.sleep(2)\n",
    "\n",
    "    # 검색창에 검색어 입력\n",
    "    driver.find_element(By.CSS_SELECTOR, 'div.navbar__search > div > ion-searchbar > div > input').send_keys(f'{search_title}')\n",
    "    # 검색 실시\n",
    "    driver.find_element(By.CSS_SELECTOR, 'div.navbar__search > div > ion-searchbar > div > input').send_keys(Keys.ENTER)\n",
    "    time.sleep(2)\n",
    "\n",
    "    # 첫번째 검색 결과물의 제목\n",
    "    title = driver.find_element(By.CLASS_NAME, 'header-title').text\n",
    "    # 첫번째 검색 결과물의 연도\n",
    "    year = int(driver.find_element(By.CLASS_NAME, 'header-year').text[1:5])\n",
    "\n",
    "    if search_title == title and search_year == year:\n",
    "        # 첫번째 검색 결과물 클릭\n",
    "        driver.find_element(By.CLASS_NAME, 'header-title').click()\n",
    "    else:\n",
    "        df.loc[idx, 'justwatch_us_age'] = '검색 결과 부정확'\n",
    "        driver.find_element(By.CSS_SELECTOR, 'div.navbar__search > div > ion-searchbar > div > input').click()\n",
    "        driver.find_element(By.CSS_SELECTOR, 'ion-searchbar > div > button').click()\n",
    "        continue\n",
    "    \n",
    "    time.sleep(2)\n",
    "\n",
    "    # 연령 정보 추출\n",
    "    drama_info1 = driver.find_elements(By.CLASS_NAME, 'detail-infos')\n",
    "    age_info_tf = False\n",
    "    for elements1 in drama_info1:\n",
    "        if len(elements1.text.split('\\n')) > 1:\n",
    "            info_name1, runtime_info = elements1.text.split('\\n')[0], elements1.text.split('\\n')[1]\n",
    "            if info_name1 == 'RUNTIME' and runtime_info == row['runtime'].replace('시간', 'h').replace('분', 'min'):\n",
    "                age_info_tf = True\n",
    "                break\n",
    "            df.loc[idx, 'justwatch_us_age'] = '런타임 다름'\n",
    "\n",
    "    if age_info_tf:\n",
    "        drama_info2 = driver.find_elements(By.CLASS_NAME, 'detail-infos')\n",
    "        for elements2 in drama_info2:\n",
    "            if len(elements2.text.split('\\n')) > 1:\n",
    "                info_name2, age_info = elements2.text.split('\\n')[0], elements2.text.split('\\n')[1]\n",
    "                if info_name2 == 'AGE RATING':\n",
    "                    df.loc[idx, 'justwatch_us_age'] = age_info\n",
    "                    break\n",
    "                elif info_name2 != 'AGE RATING':\n",
    "                    df.loc[idx, 'justwatch_us_age'] = '연령 정보 없음'\n",
    "                    continue\n",
    "\n",
    "    try:\n",
    "        # 버튼 찾기 (예: id가 'submit_button'인 버튼)\n",
    "        button = driver.find_element(By.CSS_SELECTOR, \"ion-header > ion-toolbar > ion-buttons > ion-button\").click()\n",
    "    except:\n",
    "        pass\n",
    "\n",
    "    driver.find_element(By.CSS_SELECTOR, 'div.navbar__search > div > ion-searchbar > div > input').send_keys(Keys.BACKSPACE * len(search_title))"
   ]
  },
  {
   "cell_type": "code",
   "execution_count": 153,
   "metadata": {},
   "outputs": [
    {
     "data": {
      "text/plain": [
       "'https://www.justwatch.com/us/tv-show/the-kingdom-2021-0'"
      ]
     },
     "execution_count": 153,
     "metadata": {},
     "output_type": "execute_result"
    }
   ],
   "source": [
    "driver.find_elements(By.CLASS_NAME, 'title-list-row__column-header')[2].get_attribute('href')"
   ]
  },
  {
   "cell_type": "code",
   "execution_count": 184,
   "metadata": {},
   "outputs": [],
   "source": [
    "action = ActionChains(driver)"
   ]
  },
  {
   "cell_type": "code",
   "execution_count": null,
   "metadata": {},
   "outputs": [],
   "source": [
    "# justwatch에서 직접 검색하여 크롤링 하기\n",
    "# 검색 결과 전체 리스트 확인\n",
    "\n",
    "for idx, row in tqdm_notebook(df[df['justwatch_us_age'] == '검색 결과 부정확'].iterrows()):\n",
    "    # 데이터 프레임의 영문 제목과 작품의 공개 연도를 변수에 할당\n",
    "    search_title, search_year = row['add_english_title'], row['year']\n",
    "    time.sleep(2)\n",
    "\n",
    "    # 검색창에 검색어 입력\n",
    "    driver.find_element(By.CSS_SELECTOR, 'div.navbar__search > div > ion-searchbar > div > input').send_keys(f'{search_title}')\n",
    "    # 검색 실시\n",
    "    driver.find_element(By.CSS_SELECTOR, 'div.navbar__search > div > ion-searchbar > div > input').send_keys(Keys.ENTER)\n",
    "    time.sleep(3)\n",
    "\n",
    "    # 첫번째 검색 결과물의 제목\n",
    "    title = driver.find_element(By.CLASS_NAME, 'header-title').text\n",
    "    # 첫번째 검색 결과물의 연도\n",
    "    year = int(driver.find_element(By.CLASS_NAME, 'header-year').text[1:5])\n",
    "    t = 0\n",
    "    for item in driver.find_elements(By.CLASS_NAME, 'title-list-row__column-header'):\n",
    "        if len(item.text.split('(')) < 2:\n",
    "            t += 1\n",
    "            continue\n",
    "        else:\n",
    "            title = item.text.split('(')[0]\n",
    "            year = int(item.text.split('(')[1][:-1])\n",
    "            if search_title == title and search_year == year:\n",
    "                driver.get(item.get_attribute('href'))\n",
    "                break\n",
    "    if search_title != title or search_year != year:\n",
    "        df.loc[idx, 'justwatch_us_age'] = '검색 결과 부정확'\n",
    "        driver.find_element(By.CSS_SELECTOR, 'div.navbar__search > div > ion-searchbar > div > input').click()\n",
    "        driver.find_element(By.CSS_SELECTOR, 'ion-searchbar > div > button').click()\n",
    "        continue\n",
    "    \n",
    "    time.sleep(2)\n",
    "\n",
    "    # 연령 정보 추출\n",
    "    drama_info1 = driver.find_elements(By.CLASS_NAME, 'detail-infos')\n",
    "    age_info_tf = False\n",
    "    for elements1 in drama_info1:\n",
    "        if len(elements1.text.split('\\n')) > 1:\n",
    "            info_name1, runtime_info = elements1.text.split('\\n')[0], elements1.text.split('\\n')[1]\n",
    "            if info_name1 == 'RUNTIME' and runtime_info == row['runtime'].replace('시간', 'h').replace('분', 'min'):\n",
    "                age_info_tf = True\n",
    "                break\n",
    "            df.loc[idx, 'justwatch_us_age'] = '런타임 다름'\n",
    "\n",
    "    if age_info_tf:\n",
    "        drama_info2 = driver.find_elements(By.CLASS_NAME, 'detail-infos')\n",
    "        for elements2 in drama_info2:\n",
    "            if len(elements2.text.split('\\n')) > 1:\n",
    "                info_name2, age_info = elements2.text.split('\\n')[0], elements2.text.split('\\n')[1]\n",
    "                if info_name2 == 'AGE RATING':\n",
    "                    df.loc[idx, 'justwatch_us_age'] = age_info\n",
    "                    break\n",
    "                elif info_name2 != 'AGE RATING':\n",
    "                    df.loc[idx, 'justwatch_us_age'] = '연령 정보 없음'\n",
    "                    continue\n",
    "\n",
    "    try:\n",
    "        # 버튼 찾기 (예: id가 'submit_button'인 버튼)\n",
    "        button = driver.find_element(By.CSS_SELECTOR, \"ion-header > ion-toolbar > ion-buttons > ion-button\").click()\n",
    "    except:\n",
    "        pass\n",
    "\n",
    "    driver.find_element(By.CSS_SELECTOR, 'div.navbar__search > div > ion-searchbar > div > input').send_keys(Keys.BACKSPACE * len(search_title))"
   ]
  },
  {
   "cell_type": "code",
   "execution_count": 203,
   "metadata": {},
   "outputs": [],
   "source": [
    "df.to_excel('justwatch_us_age.xlsx')"
   ]
  },
  {
   "cell_type": "code",
   "execution_count": 209,
   "metadata": {},
   "outputs": [],
   "source": [
    "df.to_csv('justwatch_us_age.CSV')"
   ]
  },
  {
   "cell_type": "code",
   "execution_count": null,
   "metadata": {},
   "outputs": [],
   "source": []
  }
 ],
 "metadata": {
  "kernelspec": {
   "display_name": "Python 3 (ipykernel)",
   "language": "python",
   "name": "python3"
  },
  "language_info": {
   "codemirror_mode": {
    "name": "ipython",
    "version": 3
   },
   "file_extension": ".py",
   "mimetype": "text/x-python",
   "name": "python",
   "nbconvert_exporter": "python",
   "pygments_lexer": "ipython3",
   "version": "3.8.19"
  }
 },
 "nbformat": 4,
 "nbformat_minor": 4
}
