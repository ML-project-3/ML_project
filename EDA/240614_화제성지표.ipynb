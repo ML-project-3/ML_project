{
 "cells": [
  {
   "cell_type": "code",
   "execution_count": 1,
   "metadata": {},
   "outputs": [],
   "source": [
    "import pandas as pd\n",
    "import matplotlib.pyplot as plt\n",
    "import seaborn as sns\n"
   ]
  },
  {
   "cell_type": "code",
   "execution_count": 33,
   "metadata": {},
   "outputs": [],
   "source": [
    "path = 'final_3_load.xlsx'"
   ]
  },
  {
   "cell_type": "code",
   "execution_count": 34,
   "metadata": {},
   "outputs": [],
   "source": [
    "df = pd.read_excel(path)"
   ]
  },
  {
   "cell_type": "markdown",
   "metadata": {},
   "source": [
    "---\n",
    "## 지수 "
   ]
  },
  {
   "cell_type": "code",
   "execution_count": 35,
   "metadata": {},
   "outputs": [],
   "source": [
    "box_office_indicator_df = pd.DataFrame()"
   ]
  },
  {
   "cell_type": "code",
   "execution_count": 36,
   "metadata": {},
   "outputs": [],
   "source": [
    "box_office_indicator_df['title'] = df['english_title']\n",
    "box_office_indicator_df['genre'] = df['genre']\n",
    "\n",
    "#전체 참여수\n",
    "box_office_indicator_df[\"overall_Engagement_score\"] = df['user_review']+ df['critic_review']\n",
    "\n",
    "# 긍정,부정 무시하고 사용자 관심수 -> 장르를 가지고 시각화 해보기 \n",
    "box_office_indicator_df['user_interest_num'] = df['user_review'] + df['watchlist']\n",
    "\n",
    "# 전체 시즌 기준 비평가 영향력 지수\n",
    "box_office_indicator_df['critic_influence_index'] = df['critic_review'] / df['imdb_season_num']\n",
    "\n",
    "# 기대 지수 - 사용자 리뷰수와 비평가 리뷰수를 가지고 관심을 나타낸다 -> 기대지수라 할 수 있나?\n",
    "box_office_indicator_df['Anticpation_index'] = df['user_review'] + df['critic_review']\n",
    "\n"
   ]
  },
  {
   "cell_type": "code",
   "execution_count": 37,
   "metadata": {},
   "outputs": [
    {
     "data": {
      "text/html": [
       "<div>\n",
       "<style scoped>\n",
       "    .dataframe tbody tr th:only-of-type {\n",
       "        vertical-align: middle;\n",
       "    }\n",
       "\n",
       "    .dataframe tbody tr th {\n",
       "        vertical-align: top;\n",
       "    }\n",
       "\n",
       "    .dataframe thead th {\n",
       "        text-align: right;\n",
       "    }\n",
       "</style>\n",
       "<table border=\"1\" class=\"dataframe\">\n",
       "  <thead>\n",
       "    <tr style=\"text-align: right;\">\n",
       "      <th></th>\n",
       "      <th>title</th>\n",
       "      <th>genre</th>\n",
       "      <th>overall_Engagement_score</th>\n",
       "      <th>user_interest_num</th>\n",
       "      <th>critic_influence_index</th>\n",
       "      <th>Anticpation_index</th>\n",
       "    </tr>\n",
       "  </thead>\n",
       "  <tbody>\n",
       "    <tr>\n",
       "      <th>907</th>\n",
       "      <td>Dollar</td>\n",
       "      <td>액션, 드라마, 로맨스</td>\n",
       "      <td>32</td>\n",
       "      <td>32</td>\n",
       "      <td>0.0</td>\n",
       "      <td>32</td>\n",
       "    </tr>\n",
       "    <tr>\n",
       "      <th>908</th>\n",
       "      <td>Elite Short Stories: Nadia Guzmán</td>\n",
       "      <td>드라마, 로맨스</td>\n",
       "      <td>9</td>\n",
       "      <td>1406</td>\n",
       "      <td>3.0</td>\n",
       "      <td>9</td>\n",
       "    </tr>\n",
       "  </tbody>\n",
       "</table>\n",
       "</div>"
      ],
      "text/plain": [
       "                                 title         genre  \\\n",
       "907                             Dollar  액션, 드라마, 로맨스   \n",
       "908  Elite Short Stories: Nadia Guzmán      드라마, 로맨스   \n",
       "\n",
       "     overall_Engagement_score  user_interest_num  critic_influence_index  \\\n",
       "907                        32                 32                     0.0   \n",
       "908                         9               1406                     3.0   \n",
       "\n",
       "     Anticpation_index  \n",
       "907                 32  \n",
       "908                  9  "
      ]
     },
     "execution_count": 37,
     "metadata": {},
     "output_type": "execute_result"
    }
   ],
   "source": [
    "box_office_indicator_df.tail(2)"
   ]
  },
  {
   "cell_type": "markdown",
   "metadata": {},
   "source": [
    "---"
   ]
  },
  {
   "cell_type": "code",
   "execution_count": 38,
   "metadata": {},
   "outputs": [],
   "source": [
    "# 각 장르의 앞뒤 공백을 제거하고 분리\n",
    "genres = box_office_indicator_df['genre'].str.split(',').apply(lambda x: [g.strip() for g in x] if isinstance(x, list) else x).explode()\n"
   ]
  },
  {
   "cell_type": "code",
   "execution_count": 39,
   "metadata": {},
   "outputs": [
    {
     "data": {
      "text/html": [
       "<div>\n",
       "<style scoped>\n",
       "    .dataframe tbody tr th:only-of-type {\n",
       "        vertical-align: middle;\n",
       "    }\n",
       "\n",
       "    .dataframe tbody tr th {\n",
       "        vertical-align: top;\n",
       "    }\n",
       "\n",
       "    .dataframe thead th {\n",
       "        text-align: right;\n",
       "    }\n",
       "</style>\n",
       "<table border=\"1\" class=\"dataframe\">\n",
       "  <thead>\n",
       "    <tr style=\"text-align: right;\">\n",
       "      <th></th>\n",
       "      <th>title</th>\n",
       "      <th>genre</th>\n",
       "      <th>overall_Engagement_score</th>\n",
       "      <th>user_interest_num</th>\n",
       "      <th>critic_influence_index</th>\n",
       "      <th>Anticpation_index</th>\n",
       "    </tr>\n",
       "  </thead>\n",
       "  <tbody>\n",
       "    <tr>\n",
       "      <th>0</th>\n",
       "      <td>Squid Game</td>\n",
       "      <td>액션</td>\n",
       "      <td>2709</td>\n",
       "      <td>252600</td>\n",
       "      <td>109.0</td>\n",
       "      <td>2709</td>\n",
       "    </tr>\n",
       "    <tr>\n",
       "      <th>0</th>\n",
       "      <td>Squid Game</td>\n",
       "      <td>드라마</td>\n",
       "      <td>2709</td>\n",
       "      <td>252600</td>\n",
       "      <td>109.0</td>\n",
       "      <td>2709</td>\n",
       "    </tr>\n",
       "    <tr>\n",
       "      <th>0</th>\n",
       "      <td>Squid Game</td>\n",
       "      <td>스릴러</td>\n",
       "      <td>2709</td>\n",
       "      <td>252600</td>\n",
       "      <td>109.0</td>\n",
       "      <td>2709</td>\n",
       "    </tr>\n",
       "    <tr>\n",
       "      <th>1</th>\n",
       "      <td>The Twelve</td>\n",
       "      <td>드라마</td>\n",
       "      <td>96</td>\n",
       "      <td>9889</td>\n",
       "      <td>3.5</td>\n",
       "      <td>96</td>\n",
       "    </tr>\n",
       "    <tr>\n",
       "      <th>1</th>\n",
       "      <td>The Twelve</td>\n",
       "      <td>스릴러</td>\n",
       "      <td>96</td>\n",
       "      <td>9889</td>\n",
       "      <td>3.5</td>\n",
       "      <td>96</td>\n",
       "    </tr>\n",
       "    <tr>\n",
       "      <th>...</th>\n",
       "      <td>...</td>\n",
       "      <td>...</td>\n",
       "      <td>...</td>\n",
       "      <td>...</td>\n",
       "      <td>...</td>\n",
       "      <td>...</td>\n",
       "    </tr>\n",
       "    <tr>\n",
       "      <th>907</th>\n",
       "      <td>Dollar</td>\n",
       "      <td>액션</td>\n",
       "      <td>32</td>\n",
       "      <td>32</td>\n",
       "      <td>0.0</td>\n",
       "      <td>32</td>\n",
       "    </tr>\n",
       "    <tr>\n",
       "      <th>907</th>\n",
       "      <td>Dollar</td>\n",
       "      <td>드라마</td>\n",
       "      <td>32</td>\n",
       "      <td>32</td>\n",
       "      <td>0.0</td>\n",
       "      <td>32</td>\n",
       "    </tr>\n",
       "    <tr>\n",
       "      <th>907</th>\n",
       "      <td>Dollar</td>\n",
       "      <td>로맨스</td>\n",
       "      <td>32</td>\n",
       "      <td>32</td>\n",
       "      <td>0.0</td>\n",
       "      <td>32</td>\n",
       "    </tr>\n",
       "    <tr>\n",
       "      <th>908</th>\n",
       "      <td>Elite Short Stories: Nadia Guzmán</td>\n",
       "      <td>드라마</td>\n",
       "      <td>9</td>\n",
       "      <td>1406</td>\n",
       "      <td>3.0</td>\n",
       "      <td>9</td>\n",
       "    </tr>\n",
       "    <tr>\n",
       "      <th>908</th>\n",
       "      <td>Elite Short Stories: Nadia Guzmán</td>\n",
       "      <td>로맨스</td>\n",
       "      <td>9</td>\n",
       "      <td>1406</td>\n",
       "      <td>3.0</td>\n",
       "      <td>9</td>\n",
       "    </tr>\n",
       "  </tbody>\n",
       "</table>\n",
       "<p>2755 rows × 6 columns</p>\n",
       "</div>"
      ],
      "text/plain": [
       "                                 title genre  overall_Engagement_score  \\\n",
       "0                           Squid Game    액션                      2709   \n",
       "0                           Squid Game   드라마                      2709   \n",
       "0                           Squid Game   스릴러                      2709   \n",
       "1                           The Twelve   드라마                        96   \n",
       "1                           The Twelve   스릴러                        96   \n",
       "..                                 ...   ...                       ...   \n",
       "907                             Dollar    액션                        32   \n",
       "907                             Dollar   드라마                        32   \n",
       "907                             Dollar   로맨스                        32   \n",
       "908  Elite Short Stories: Nadia Guzmán   드라마                         9   \n",
       "908  Elite Short Stories: Nadia Guzmán   로맨스                         9   \n",
       "\n",
       "     user_interest_num  critic_influence_index  Anticpation_index  \n",
       "0               252600                   109.0               2709  \n",
       "0               252600                   109.0               2709  \n",
       "0               252600                   109.0               2709  \n",
       "1                 9889                     3.5                 96  \n",
       "1                 9889                     3.5                 96  \n",
       "..                 ...                     ...                ...  \n",
       "907                 32                     0.0                 32  \n",
       "907                 32                     0.0                 32  \n",
       "907                 32                     0.0                 32  \n",
       "908               1406                     3.0                  9  \n",
       "908               1406                     3.0                  9  \n",
       "\n",
       "[2755 rows x 6 columns]"
      ]
     },
     "execution_count": 39,
     "metadata": {},
     "output_type": "execute_result"
    }
   ],
   "source": [
    "# 장르 분할 및 확장\n",
    "box_office_indicator_df['genre'] = box_office_indicator_df['genre'].str.split(',').apply(lambda x: [g.strip() for g in x] if isinstance(x, list) else x)\n",
    "expanded_df = box_office_indicator_df.explode('genre')\n",
    "\n",
    "expanded_df"
   ]
  },
  {
   "cell_type": "markdown",
   "metadata": {},
   "source": [
    "---\n",
    "## 장르별 사용자 관심 수\n"
   ]
  },
  {
   "cell_type": "code",
   "execution_count": 40,
   "metadata": {},
   "outputs": [
    {
     "name": "stdout",
     "output_type": "stream",
     "text": [
      "                count           mean            std     min       25%  \\\n",
      "genre                                                                   \n",
      "Made in Europe   20.0  105382.900000  188746.274315  4136.0  15617.25   \n",
      "SF              182.0   69804.483516  145981.944040     2.0   5144.00   \n",
      "가족               39.0   17703.487179   31558.822145     1.0   1279.50   \n",
      "공포               75.0   70354.440000  169136.407545     6.0   4350.50   \n",
      "드라마             909.0   40817.000000  105929.058227     1.0   2505.00   \n",
      "로맨스             218.0   25244.633028   74558.286738     1.0   2026.50   \n",
      "범죄              268.0   51881.231343  131277.391852     2.0   3105.75   \n",
      "서부                5.0   44272.400000   45508.046836     4.0   3038.00   \n",
      "스릴러             355.0   50733.253521  129392.924457     1.0   3644.50   \n",
      "스포츠              12.0   21440.833333   54280.289064     1.0   1053.75   \n",
      "액션              153.0   66530.601307  131114.134622     7.0   5402.00   \n",
      "역사               53.0   50447.943396  120303.211219  1410.0   4051.00   \n",
      "음악               19.0   17440.789474   40749.614524     5.0   2599.00   \n",
      "전쟁               29.0   65945.931034  146710.205188  1504.0   3708.00   \n",
      "코미디             291.0   23710.900344   54451.789255     1.0   1818.00   \n",
      "판타지             127.0   49650.874016  121699.977505     1.0   3598.50   \n",
      "\n",
      "                    50%       75%        max  \n",
      "genre                                         \n",
      "Made in Europe  28657.5  70163.50   761400.0  \n",
      "SF              19099.5  54815.50  1018800.0  \n",
      "가족               5395.0  12658.00   122800.0  \n",
      "공포              20159.0  57285.00  1018800.0  \n",
      "드라마              7007.0  29260.00  1172900.0  \n",
      "로맨스              5142.5  16760.50   761400.0  \n",
      "범죄               8944.0  32605.00  1172900.0  \n",
      "서부              48638.0  59216.00   110466.0  \n",
      "스릴러             10128.0  38825.50  1172900.0  \n",
      "스포츠              4831.5   9266.25   192400.0  \n",
      "액션              19275.0  62912.00   982600.0  \n",
      "역사              11050.0  32117.00   761400.0  \n",
      "음악               5395.0  11079.50   180202.0  \n",
      "전쟁              12049.0  59387.00   761400.0  \n",
      "코미디              5354.0  20081.00   520859.0  \n",
      "판타지              9956.0  36918.00  1018800.0  \n"
     ]
    }
   ],
   "source": [
    "# 장르별로 그룹화하여 사용자 관심 수의 기술 통계 계산\n",
    "genre_user_interest_stats = expanded_df.groupby('genre')['user_interest_num'].describe()\n",
    "\n",
    "# 기술 통계 출력\n",
    "print(genre_user_interest_stats)\n"
   ]
  },
  {
   "cell_type": "code",
   "execution_count": 41,
   "metadata": {},
   "outputs": [
    {
     "data": {
      "image/png": "[encoded data removed]",
      "text/plain": [
       "<Figure size 1500x800 with 1 Axes>"
      ]
     },
     "metadata": {},
     "output_type": "display_data"
    }
   ],
   "source": [
    "# 시각화\n",
    "plt.figure(figsize=(15, 8))\n",
    "\n",
    "# 1. 막대 그래프\n",
    "\n",
    "genre_avg_interest = expanded_df.groupby('genre')['user_interest_num'].mean().sort_values()\n",
    "plt.barh(genre_avg_interest.index, genre_avg_interest.values, color='skyblue')\n",
    "plt.xlabel('Average User Interest Number')\n",
    "plt.title('Average User Interest Number by Genre')\n",
    "\n",
    "plt.show()"
   ]
  },
  {
   "cell_type": "markdown",
   "metadata": {},
   "source": [
    "---\n",
    "## 비평가 영향력 지수"
   ]
  },
  {
   "cell_type": "code",
   "execution_count": 49,
   "metadata": {},
   "outputs": [
    {
     "data": {
      "text/plain": [
       "array([109.        ,   3.5       ,   0.        ,  43.        ,\n",
       "        18.5       ,  28.        ,   6.        ,  32.45454545,\n",
       "        12.11111111,  66.        ,   6.33333333,  60.66666667,\n",
       "         8.5       ,  35.        ,  11.14285714,  57.5       ,\n",
       "        10.        ,  13.        , 106.25      ,  15.25      ,\n",
       "         7.5       ,  15.33333333,  34.        ,  32.        ,\n",
       "        57.        ,  36.        ,   5.        ,   5.57142857,\n",
       "        22.        ,  24.5       ,   8.        ,  11.75      ,\n",
       "        23.83333333, 138.        ,  63.        ,  26.        ,\n",
       "        33.16666667,  23.14285714,  13.83333333,  25.2       ,\n",
       "        37.        ,  20.        ,  30.125     ,  33.        ,\n",
       "        85.        ,   0.41176471,   4.85714286,   8.2       ,\n",
       "        58.66666667,  51.        ,  68.        ,  16.75      ,\n",
       "       100.        ,  27.        ,   7.8       ,  49.        ,\n",
       "        26.66666667,  10.33333333,  36.4       ,  30.33333333,\n",
       "        96.        ,   7.33333333,   2.        ,  24.        ,\n",
       "        21.        ,   5.16666667,  25.33333333,  52.        ,\n",
       "        17.        ,  25.66666667,  23.5       ,   4.5       ,\n",
       "         3.        ,  18.        ,   4.4       ,   4.        ,\n",
       "        12.33333333,  45.5       ,   7.        ,  13.33333333,\n",
       "         7.57142857,  44.        ,  13.5       ,  16.57142857,\n",
       "        54.        ,   3.66666667,   1.88888889,  12.        ,\n",
       "        22.5       ,  19.5       ,  23.        ,  25.5       ,\n",
       "         1.        ,  14.        ,   0.75      ,  39.        ,\n",
       "        17.5       ,   9.14285714,   0.33333333,  29.5       ,\n",
       "         8.33333333,  48.        ,  45.        ,   1.5       ,\n",
       "         2.5       ,   9.57142857,  55.        ,  59.        ,\n",
       "         8.71428571,  11.        ,  19.        ,  12.5       ,\n",
       "        11.33333333,   0.8       ,  25.25      ,   5.66666667,\n",
       "        46.5       ,   9.5       ,   3.71428571,  56.        ,\n",
       "        38.        ,  15.        ,  31.33333333,   3.4       ,\n",
       "        23.66666667,  27.66666667,  40.        ,   5.33333333,\n",
       "        16.        ,   1.8       ,  42.        ,   9.        ,\n",
       "        58.        ,  50.        ,  18.66666667,  71.        ,\n",
       "        27.25      ,   9.4       ,   0.83333333,   6.5       ,\n",
       "        29.        ,   4.66666667,  77.        ,   0.5       ,\n",
       "         6.42857143,  37.5       , 101.        ,  31.        ,\n",
       "         2.75      ,  13.42857143,  12.66666667,   2.6       ,\n",
       "        10.5       ,   7.66666667,  69.        ,   9.33333333,\n",
       "         2.66666667,  20.5       ,  15.5       ,  67.        ,\n",
       "         5.25      ,   6.4       ,  25.        ,   2.25      ,\n",
       "        30.        ,   5.5       ,  14.5       ,  11.5       ,\n",
       "         1.25      ,  47.        ,  11.66666667,   0.25      ,\n",
       "         3.33333333,   6.66666667])"
      ]
     },
     "execution_count": 49,
     "metadata": {},
     "output_type": "execute_result"
    }
   ],
   "source": [
    "#  비평가 리뷰 수를 시즌 수로 나누어 비평가 영향력 지수를 계산\n",
    "expanded_df['critic_influence_index'].unique()"
   ]
  },
  {
   "cell_type": "code",
   "execution_count": 46,
   "metadata": {},
   "outputs": [
    {
     "data": {
      "image/png": "[encoded data removed]",
      "text/plain": [
       "<Figure size 1200x600 with 1 Axes>"
      ]
     },
     "metadata": {},
     "output_type": "display_data"
    }
   ],
   "source": [
    "#비평가 영향력 지수가 어떻게 분포되어 있는지 확인\n",
    "plt.figure(figsize=(12,6))\n",
    "plt.hist(expanded_df['critic_influence_index'], bins=30, color='lightblue', edgecolor='black')\n",
    "plt.xlabel('Critic Influence Index')\n",
    "plt.ylabel('Frequency') # 빈도\n",
    "plt.title('비평가 영향력 지수가 어떻게 분포되어 있는지 확인')\n",
    "plt.show()"
   ]
  },
  {
   "cell_type": "code",
   "execution_count": 50,
   "metadata": {},
   "outputs": [
    {
     "data": {
      "image/png": "[encoded data removed]",
      "text/plain": [
       "<Figure size 1200x800 with 1 Axes>"
      ]
     },
     "metadata": {},
     "output_type": "display_data"
    }
   ],
   "source": [
    "# 각 장르별로 비평가 영향력 지수의 평균을 계산\n",
    "genre_avg_critic_influence = expanded_df.groupby('genre')['critic_influence_index'].mean().sort_values()\n",
    "\n",
    "plt.figure(figsize=(12, 8))\n",
    "plt.barh(genre_avg_critic_influence.index, genre_avg_critic_influence.values, color='salmon')\n",
    "plt.xlabel('Average Critic Influence Index')\n",
    "plt.title('어떤 장르가 비평가들로부터 더 많은 영향을 받았는지 확인')\n",
    "plt.show()"
   ]
  },
  {
   "cell_type": "code",
   "execution_count": null,
   "metadata": {},
   "outputs": [],
   "source": []
  },
  {
   "cell_type": "code",
   "execution_count": null,
   "metadata": {},
   "outputs": [],
   "source": []
  },
  {
   "cell_type": "code",
   "execution_count": null,
   "metadata": {},
   "outputs": [],
   "source": []
  },
  {
   "cell_type": "code",
   "execution_count": null,
   "metadata": {},
   "outputs": [],
   "source": []
  },
  {
   "cell_type": "code",
   "execution_count": null,
   "metadata": {},
   "outputs": [],
   "source": []
  },
  {
   "cell_type": "code",
   "execution_count": null,
   "metadata": {},
   "outputs": [],
   "source": []
  },
  {
   "cell_type": "code",
   "execution_count": null,
   "metadata": {},
   "outputs": [],
   "source": []
  },
  {
   "cell_type": "code",
   "execution_count": null,
   "metadata": {},
   "outputs": [],
   "source": []
  },
  {
   "cell_type": "code",
   "execution_count": null,
   "metadata": {},
   "outputs": [],
   "source": []
  }
 ],
 "metadata": {
  "kernelspec": {
   "display_name": "conda_ds_study",
   "language": "python",
   "name": "python3"
  },
  "language_info": {
   "codemirror_mode": {
    "name": "ipython",
    "version": 3
   },
   "file_extension": ".py",
   "mimetype": "text/x-python",
   "name": "python",
   "nbconvert_exporter": "python",
   "pygments_lexer": "ipython3",
   "version": "3.8.19"
  }
 },
 "nbformat": 4,
 "nbformat_minor": 2
}
