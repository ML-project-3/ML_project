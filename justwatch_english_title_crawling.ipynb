{
 "cells": [
  {
   "cell_type": "code",
   "execution_count": 148,
   "metadata": {},
   "outputs": [],
   "source": [
    "import pandas as pd\n",
    "import numpy as np\n",
    "import time\n",
    "import re\n",
    "import copy\n",
    "import random\n",
    "import os\n",
    "from tqdm import tqdm_notebook\n",
    "from bs4 import BeautifulSoup\n",
    "from selenium import webdriver\n",
    "from selenium.webdriver import ActionChains\n",
    "from selenium.webdriver.common.by import By\n",
    "from selenium.webdriver.common.keys import Keys\n"
   ]
  },
  {
   "cell_type": "code",
   "execution_count": 326,
   "metadata": {},
   "outputs": [],
   "source": [
    "# 프록시 주소를 중간중간 변경하여 로봇에 탐지되는 것을 회피하기 위한 코드\n",
    "# 시스템 프록시 설정 읽기 (예: Windows 환경 변수 사용)\n",
    "\n",
    "proxy = os.environ.get('http_proxy') or os.environ.get('https_proxy')\n",
    "\n",
    "options = webdriver.ChromeOptions()\n",
    "options.add_argument(f'--proxy-server={proxy}')\n",
    "\n",
    "driver = webdriver.Chrome(options=options)"
   ]
  },
  {
   "cell_type": "code",
   "execution_count": 286,
   "metadata": {},
   "outputs": [
    {
     "data": {
      "text/html": [
       "<div>\n",
       "<style scoped>\n",
       "    .dataframe tbody tr th:only-of-type {\n",
       "        vertical-align: middle;\n",
       "    }\n",
       "\n",
       "    .dataframe tbody tr th {\n",
       "        vertical-align: top;\n",
       "    }\n",
       "\n",
       "    .dataframe thead th {\n",
       "        text-align: right;\n",
       "    }\n",
       "</style>\n",
       "<table border=\"1\" class=\"dataframe\">\n",
       "  <thead>\n",
       "    <tr style=\"text-align: right;\">\n",
       "      <th></th>\n",
       "      <th>title</th>\n",
       "      <th>original_title</th>\n",
       "      <th>year</th>\n",
       "      <th>season_episode</th>\n",
       "      <th>runtime</th>\n",
       "      <th>genre</th>\n",
       "      <th>age_rating</th>\n",
       "      <th>Production country</th>\n",
       "      <th>IMDb_title</th>\n",
       "      <th>IMDb_URL</th>\n",
       "    </tr>\n",
       "  </thead>\n",
       "  <tbody>\n",
       "    <tr>\n",
       "      <th>0</th>\n",
       "      <td>Ojingeo Geim</td>\n",
       "      <td>Squid Game</td>\n",
       "      <td>2021</td>\n",
       "      <td>2</td>\n",
       "      <td>55min</td>\n",
       "      <td>액션, 드라마, 스릴러</td>\n",
       "      <td>19</td>\n",
       "      <td>대한민국</td>\n",
       "      <td>Squid Game (TV Series 2021</td>\n",
       "      <td>https://www.imdb.com/title/tt10919420/</td>\n",
       "    </tr>\n",
       "    <tr>\n",
       "      <th>1</th>\n",
       "      <td>12인의 심판자</td>\n",
       "      <td>The Twelve</td>\n",
       "      <td>2019</td>\n",
       "      <td>2</td>\n",
       "      <td>54min</td>\n",
       "      <td>드라마, 스릴러</td>\n",
       "      <td>NaN</td>\n",
       "      <td>벨기에</td>\n",
       "      <td>The Twelve (TV Mini Series 2022</td>\n",
       "      <td>https://www.imdb.com/title/tt13589004/</td>\n",
       "    </tr>\n",
       "    <tr>\n",
       "      <th>2</th>\n",
       "      <td>희생자 게임</td>\n",
       "      <td>誰是被害者</td>\n",
       "      <td>2020</td>\n",
       "      <td>2</td>\n",
       "      <td>1시간 0분</td>\n",
       "      <td>드라마, 범죄, 스릴러</td>\n",
       "      <td>19</td>\n",
       "      <td>대만</td>\n",
       "      <td>The Victims' Game (TV Series 2020</td>\n",
       "      <td>https://www.imdb.com/title/tt12079212/</td>\n",
       "    </tr>\n",
       "    <tr>\n",
       "      <th>3</th>\n",
       "      <td>스위트 투스: 사슴뿔을 가진 소년</td>\n",
       "      <td>Sweet Tooth</td>\n",
       "      <td>2021</td>\n",
       "      <td>3</td>\n",
       "      <td>52min</td>\n",
       "      <td>SF, 드라마, 판타지, 액션</td>\n",
       "      <td>15</td>\n",
       "      <td>미국</td>\n",
       "      <td>Sweet Tooth (TV Series 2021</td>\n",
       "      <td>https://www.imdb.com/title/tt12809988/</td>\n",
       "    </tr>\n",
       "    <tr>\n",
       "      <th>4</th>\n",
       "      <td>Sweet Home</td>\n",
       "      <td>NaN</td>\n",
       "      <td>2020</td>\n",
       "      <td>3</td>\n",
       "      <td>1시간 0분</td>\n",
       "      <td>스릴러, 드라마, 판타지, 공포, SF, 범죄</td>\n",
       "      <td>NaN</td>\n",
       "      <td>대한민국</td>\n",
       "      <td>Sweet Home (TV Series 2020</td>\n",
       "      <td>https://www.imdb.com/title/tt11612120/</td>\n",
       "    </tr>\n",
       "  </tbody>\n",
       "</table>\n",
       "</div>"
      ],
      "text/plain": [
       "                title original_title  year  season_episode runtime  \\\n",
       "0        Ojingeo Geim     Squid Game  2021               2   55min   \n",
       "1            12인의 심판자     The Twelve  2019               2   54min   \n",
       "2              희생자 게임          誰是被害者  2020               2  1시간 0분   \n",
       "3  스위트 투스: 사슴뿔을 가진 소년    Sweet Tooth  2021               3   52min   \n",
       "4          Sweet Home            NaN  2020               3  1시간 0분   \n",
       "\n",
       "                       genre age_rating Production country  \\\n",
       "0               액션, 드라마, 스릴러         19               대한민국   \n",
       "1                   드라마, 스릴러        NaN                벨기에   \n",
       "2               드라마, 범죄, 스릴러         19                 대만   \n",
       "3           SF, 드라마, 판타지, 액션         15                 미국   \n",
       "4  스릴러, 드라마, 판타지, 공포, SF, 범죄        NaN               대한민국   \n",
       "\n",
       "                          IMDb_title                                IMDb_URL  \n",
       "0         Squid Game (TV Series 2021  https://www.imdb.com/title/tt10919420/  \n",
       "1    The Twelve (TV Mini Series 2022  https://www.imdb.com/title/tt13589004/  \n",
       "2  The Victims' Game (TV Series 2020  https://www.imdb.com/title/tt12079212/  \n",
       "3        Sweet Tooth (TV Series 2021  https://www.imdb.com/title/tt12809988/  \n",
       "4         Sweet Home (TV Series 2020  https://www.imdb.com/title/tt11612120/  "
      ]
     },
     "execution_count": 286,
     "metadata": {},
     "output_type": "execute_result"
    }
   ],
   "source": [
    "df = pd.read_excel('data/justwatch_first.xlsx', index_col=0)\n",
    "df.head()"
   ]
  },
  {
   "cell_type": "code",
   "execution_count": 3,
   "metadata": {},
   "outputs": [
    {
     "data": {
      "text/plain": [
       "array(['대한민국', '벨기에', '대만', '미국', '덴마크', '독일', '일본', '태국', '캐나다', '그리스',\n",
       "       '영국', 'China', '스페인', '미국, 영국',\n",
       "       '아이슬란드, 덴마크, 핀란드, 스웨덴, 노르웨이, 독일, 프랑스, 영국', '미국, 프랑스', '호주', '스웨덴',\n",
       "       '이탈리아', '케냐', 'WEBAPP_COUNTRY_VN', '인도', '호주, 미국', '스위스', '필리핀 제도',\n",
       "       '영국, 미국', '남아프리카공화국', '폴란드', '브라질', '미국, 캐나다', '콜롬비아', '터키',\n",
       "       '룩셈부르크', '핀란드', '이스라엘', '프랑스', '멕시코', '벨기에, 네덜란드', '덴마크, 노르웨이',\n",
       "       '노르웨이', '러시아', '미국, 일본', '영국, 프랑스', '요르단', '프랑스, 미국', '캐나다, 영국',\n",
       "       '태국, 미국', '인도네시아', '사우디아라비아', '영국, 인도', 'Arjantin', '아이슬란드',\n",
       "       '오스트리아', '포르투갈', '프랑스, 독일, 스페인, 영국', '아일랜드, 영국', '캐나다, 프랑스, 독일',\n",
       "       '이스라엘, 노르웨이', '대한민국, 미국', '미국, 대한민국', '네덜란드', '멕시코, 스페인', '홍콩',\n",
       "       '칠레', '뉴질랜드, 호주', '나이지리아', '이집트', '일본, 미국', '미국, 멕시코', '쿠웨이트',\n",
       "       '나이지리아, 미국', '말레이시아, 대만', '사우디아라비아, 인도', '벨기에, 룩셈부르크',\n",
       "       '사우디아라비아, 튀니지, 이집트, 모로코, 레바논', '독일, 오스트리아', '체코 공화국, 독일',\n",
       "       '영국, 스페인', nan, '스페인, 브라질', '레바논'], dtype=object)"
      ]
     },
     "execution_count": 3,
     "metadata": {},
     "output_type": "execute_result"
    }
   ],
   "source": [
    "df['Production country'].unique()"
   ]
  },
  {
   "cell_type": "code",
   "execution_count": 4,
   "metadata": {},
   "outputs": [],
   "source": [
    "countries_dict = {\n",
    "    '대한민국': 'Korea',\n",
    "    '벨기에': 'Belgium',\n",
    "    '대만': 'Taiwan',\n",
    "    '미국': 'US',\n",
    "    '덴마크': 'Denmark',\n",
    "    '독일': 'Germany',\n",
    "    '일본': 'Japan',\n",
    "    '태국': 'Thailand',\n",
    "    '캐나다': 'Canada',\n",
    "    '그리스': 'Greece',\n",
    "    '영국': 'United Kingdom',\n",
    "    'China': 'China',\n",
    "    '스페인': 'Spain',\n",
    "    '미국, 영국': 'US, United Kingdom',\n",
    "    '아이슬란드, 덴마크, 핀란드, 스웨덴, 노르웨이, 독일, 프랑스, 영국': 'Iceland, Denmark, Finland, Sweden, Norway, Germany, France, United Kingdom',\n",
    "    '미국, 프랑스': 'US, France',\n",
    "    '호주': 'Australia',\n",
    "    '스웨덴': 'Sweden',\n",
    "    '이탈리아': 'Italy',\n",
    "    '케냐': 'Kenya',\n",
    "    'WEBAPP_COUNTRY_VN': 'Vietnam',\n",
    "    '인도': 'India',\n",
    "    '호주, 미국': 'Australia, US',\n",
    "    '스위스': 'Switzerland',\n",
    "    '필리핀 제도': 'Philippines',\n",
    "    '영국, 미국': 'United Kingdom, US',\n",
    "    '남아프리카공화국': 'South Africa',\n",
    "    '폴란드': 'Poland',\n",
    "    '브라질': 'Brazil',\n",
    "    '미국, 캐나다': 'US, Canada',\n",
    "    '콜롬비아': 'Colombia',\n",
    "    '터키': 'Turkey',\n",
    "    '룩셈부르크': 'Luxembourg',\n",
    "    '핀란드': 'Finland',\n",
    "    '이스라엘': 'Israel',\n",
    "    '프랑스': 'France',\n",
    "    '멕시코': 'Mexico',\n",
    "    '벨기에, 네덜란드': 'Belgium, Netherlands',\n",
    "    '덴마크, 노르웨이': 'Denmark, Norway',\n",
    "    '노르웨이': 'Norway',\n",
    "    '러시아': 'Russia',\n",
    "    '미국, 일본': 'US, Japan',\n",
    "    '영국, 프랑스': 'United Kingdom, France',\n",
    "    '요르단': 'Jordan',\n",
    "    '프랑스, 미국': 'France, US',\n",
    "    '캐나다, 영국': 'Canada, United Kingdom',\n",
    "    '태국, 미국': 'Thailand, US',\n",
    "    '인도네시아': 'Indonesia',\n",
    "    '사우디아라비아': 'Saudi Arabia',\n",
    "    '영국, 인도': 'United Kingdom, India',\n",
    "    'Arjantin': 'Argentina',\n",
    "    '아이슬란드': 'Iceland',\n",
    "    '오스트리아': 'Austria',\n",
    "    '포르투갈': 'Portugal',\n",
    "    '프랑스, 독일, 스페인, 영국': 'France, Germany, Spain, United Kingdom',\n",
    "    '아일랜드, 영국': 'Ireland, United Kingdom',\n",
    "    '캐나다, 프랑스, 독일': 'Canada, France, Germany',\n",
    "    '이스라엘, 노르웨이': 'Israel, Norway',\n",
    "    '대한민국, 미국': 'South Korea, US',\n",
    "    '미국, 대한민국': 'US, South Korea',\n",
    "    '네덜란드': 'Netherlands',\n",
    "    '멕시코, 스페인': 'Mexico, Spain',\n",
    "    '홍콩': 'Hong Kong',\n",
    "    '칠레': 'Chile',\n",
    "    '뉴질랜드, 호주': 'New Zealand, Australia',\n",
    "    '나이지리아': 'Nigeria',\n",
    "    '이집트': 'Egypt',\n",
    "    '일본, 미국': 'Japan, US',\n",
    "    '미국, 멕시코': 'US, Mexico',\n",
    "    '쿠웨이트': 'Kuwait',\n",
    "    '나이지리아, 미국': 'Nigeria, US',\n",
    "    '말레이시아, 대만': 'Malaysia, Taiwan',\n",
    "    '사우디아라비아, 인도': 'Saudi Arabia, India',\n",
    "    '벨기에, 룩셈부르크': 'Belgium, Luxembourg',\n",
    "    '사우디아라비아, 튀니지, 이집트, 모로코, 레바논': 'Saudi Arabia, Tunisia, Egypt, Morocco, Lebanon',\n",
    "    '독일, 오스트리아': 'Germany, Austria',\n",
    "    '체코 공화국, 독일': 'Czech Republic, Germany',\n",
    "    '영국, 스페인': 'United Kingdom, Spain',\n",
    "    '스페인, 브라질': 'Spain, Brazil',\n",
    "    '레바논': 'Lebanon'\n",
    "}"
   ]
  },
  {
   "cell_type": "code",
   "execution_count": 327,
   "metadata": {},
   "outputs": [],
   "source": [
    "driver = webdriver.Chrome()\n",
    "driver.get('https://www.google.com/')"
   ]
  },
  {
   "cell_type": "code",
   "execution_count": null,
   "metadata": {},
   "outputs": [
    {
     "data": {
      "text/plain": [
       "('Ojingeo Geim', 2021, '대한민국')"
      ]
     },
     "execution_count": 27,
     "metadata": {},
     "output_type": "execute_result"
    }
   ],
   "source": [
    "df.loc[0]['title'], df.loc[0]['year'], df.loc[0]['Production country']"
   ]
  },
  {
   "cell_type": "code",
   "execution_count": null,
   "metadata": {},
   "outputs": [],
   "source": [
    "title = df.loc[0]['title']\n",
    "year = df.loc[0]['year']\n",
    "country = countries_dict[df.loc[0]['Production country']]"
   ]
  },
  {
   "cell_type": "code",
   "execution_count": null,
   "metadata": {},
   "outputs": [],
   "source": [
    "driver.find_element(By.CSS_SELECTOR, '#APjFqb').send_keys(f'{title}({year}) {country} TV show IMDb')"
   ]
  },
  {
   "cell_type": "code",
   "execution_count": null,
   "metadata": {},
   "outputs": [],
   "source": [
    "driver.find_element(By.CSS_SELECTOR, '#APjFqb').send_keys(Keys.ENTER)"
   ]
  },
  {
   "cell_type": "code",
   "execution_count": null,
   "metadata": {},
   "outputs": [
    {
     "data": {
      "text/plain": [
       "'https://www.imdb.com/title/tt10919420/'"
      ]
     },
     "execution_count": 57,
     "metadata": {},
     "output_type": "execute_result"
    }
   ],
   "source": [
    "driver.find_element(By.CSS_SELECTOR, '#rso > div:nth-child(1) > div > div > div > div.kb0PBd.cvP2Ce.A9Y9g.jGGQ5e > div > div > span > a').get_attribute('href')"
   ]
  },
  {
   "cell_type": "code",
   "execution_count": null,
   "metadata": {},
   "outputs": [
    {
     "data": {
      "text/plain": [
       "'https://www.imdb.com/title/tt23581746/'"
      ]
     },
     "execution_count": 75,
     "metadata": {},
     "output_type": "execute_result"
    }
   ],
   "source": [
    "driver.find_element(By.CSS_SELECTOR, 'a[jsname=UWckNb]').get_attribute('href')\n"
   ]
  },
  {
   "cell_type": "code",
   "execution_count": null,
   "metadata": {},
   "outputs": [
    {
     "data": {
      "text/plain": [
       "'The Flash (TV Series 2014–2023) - IMDb'"
      ]
     },
     "execution_count": 80,
     "metadata": {},
     "output_type": "execute_result"
    }
   ],
   "source": [
    "driver.find_element(By.CSS_SELECTOR, 'span > a > h3').text\n",
    "#rso > div:nth-child(1) > div > div > div > div > div > div > div > div.yuRUbf > div > span > a > h3"
   ]
  },
  {
   "cell_type": "code",
   "execution_count": 46,
   "metadata": {},
   "outputs": [],
   "source": [
    "english_title = []\n",
    "original_title = []"
   ]
  },
  {
   "cell_type": "code",
   "execution_count": 46,
   "metadata": {},
   "outputs": [],
   "source": [
    "null_index = df[df['original_title'].isna()].index"
   ]
  },
  {
   "cell_type": "code",
   "execution_count": null,
   "metadata": {},
   "outputs": [],
   "source": [
    "# 구글에서 justwatch 페이지 가져오기\n",
    "\n",
    "for idx, row in tqdm_notebook(df.iterrows()):\n",
    "    if idx not in null_index:\n",
    "        title = row['original_title']\n",
    "    else:\n",
    "        title = row['title']\n",
    "    year = row['year']\n",
    "    country = countries_dict[row['Production country']]\n",
    "\n",
    "    driver.find_element(By.CSS_SELECTOR, '#APjFqb').send_keys(f'{title}({year}) {country} TV show justwatch')\n",
    "    driver.find_element(By.CSS_SELECTOR, '#APjFqb').send_keys(Keys.ENTER)\n",
    "\n",
    "    time.sleep(1)\n",
    "\n",
    "    if 'justwatch' in driver.find_element(By.CSS_SELECTOR, 'a[jsname=UWckNb]').get_attribute('href'):\n",
    "        driver.find_element(By.CSS_SELECTOR, 'div > div > span > a > h3').click()\n",
    "    else:\n",
    "        original_title.append('검색 결과 부정확')\n",
    "        english_title.append('검색 결과 부정확')\n",
    "        driver.find_element(By.CSS_SELECTOR, '#tsf > div:nth-child(1) > div.A8SBwf > div.RNNXgb > div > div.dRYYxd > div.BKRPef > div > span > svg > path').click()\n",
    "        continue\n",
    "    \n",
    "    time.sleep(1)\n",
    "\n",
    "    # justwatch에서 'too many request' 오류가 날 경우를 대비해 except문 추가\n",
    "    try:\n",
    "        if year == int(driver.find_element(By.CSS_SELECTOR, 'div.title-block > div > span').text[1:5]):\n",
    "            english_title.append(driver.find_element(By.CSS_SELECTOR, 'div.title-block > div > h1').text)\n",
    "            try:\n",
    "                original_title.append(driver.find_element(By.CSS_SELECTOR, 'div.title-block > h3').text.split(': ', 1)[1])\n",
    "            except:\n",
    "                original_title.append('오리지날 타이틀 없음')\n",
    "        else:\n",
    "            original_title.append('검색 결과 부정확')\n",
    "            english_title.append('검색 결과 부정확')\n",
    "    except:\n",
    "        original_title.append('검색 결과 부정확')\n",
    "        english_title.append('검색 결과 부정확')\n",
    "\n",
    "    driver.back()\n",
    "    time.sleep(1)\n",
    "    driver.find_element(By.CSS_SELECTOR, '#tsf > div:nth-child(1) > div.A8SBwf > div.RNNXgb > div > div.dRYYxd > div.BKRPef > div > span > svg > path').click()"
   ]
  },
  {
   "cell_type": "code",
   "execution_count": 287,
   "metadata": {},
   "outputs": [],
   "source": [
    "df['add_original_title'] = original_title\n",
    "df['add_english_title'] = english_title"
   ]
  },
  {
   "cell_type": "code",
   "execution_count": null,
   "metadata": {},
   "outputs": [],
   "source": [
    "# 'too many request'로 거부되어 누락된 정보 재입력\n",
    "\n",
    "for idx, row in tqdm_notebook(df[df['add_english_title'] == '검색 결과 부정확'].iterrows()):\n",
    "    if idx not in null_index:\n",
    "        title = row['original_title']\n",
    "    else:\n",
    "        title = row['title']\n",
    "    year = row['year']\n",
    "    country = countries_dict[row['Production country']]\n",
    "\n",
    "    driver.find_element(By.CSS_SELECTOR, '#APjFqb').send_keys(f'{title}({year}) {country} TV show justwatch')\n",
    "    driver.find_element(By.CSS_SELECTOR, '#APjFqb').send_keys(Keys.ENTER)\n",
    "\n",
    "    time.sleep(1)\n",
    "\n",
    "    if 'justwatch' in driver.find_element(By.CSS_SELECTOR, 'a[jsname=UWckNb]').get_attribute('href'):\n",
    "        driver.find_element(By.CSS_SELECTOR, 'div > div > span > a > h3').click()\n",
    "    else:\n",
    "        df.loc[idx,'add_original_title'] = '검색 결과 부정확'\n",
    "        df.loc[idx,'add_english_title'] = '검색 결과 부정확'\n",
    "        driver.find_element(By.CSS_SELECTOR, '#tsf > div:nth-child(1) > div.A8SBwf > div.RNNXgb > div > div.dRYYxd > div.BKRPef > div > span > svg > path').click()\n",
    "        continue\n",
    "    \n",
    "    time.sleep(1)\n",
    "\n",
    "    # justwatch에서 'too many request' 오류가 날 경우를 대비해 except문 추가\n",
    "    try:\n",
    "        if year == int(driver.find_element(By.CSS_SELECTOR, 'div.title-block > div > span').text[1:5]):\n",
    "            df.loc[idx,'add_english_title'] = driver.find_element(By.CSS_SELECTOR, 'div.title-block > div > h1').text\n",
    "            try:\n",
    "                df.loc[idx,'add_original_title'] = driver.find_element(By.CSS_SELECTOR, 'div.title-block > h3').text.split(': ', 1)[1]\n",
    "            except:\n",
    "                df.loc[idx,'add_original_title'] = '오리지날 타이틀 없음'\n",
    "        else:\n",
    "            df.loc[idx,'add_original_title'] = '검색 결과 부정확'\n",
    "            df.loc[idx,'add_english_title'] = '검색 결과 부정확'\n",
    "    except:\n",
    "        df.loc[idx,'add_original_title'] = '검색 결과 부정확'\n",
    "        df.loc[idx,'add_english_title'] = '검색 결과 부정확'\n",
    "\n",
    "    driver.back()\n",
    "    time.sleep(1)\n",
    "    driver.find_element(By.CSS_SELECTOR, '#tsf > div:nth-child(1) > div.A8SBwf > div.RNNXgb > div > div.dRYYxd > div.BKRPef > div > span > svg > path').click()"
   ]
  },
  {
   "cell_type": "code",
   "execution_count": 289,
   "metadata": {},
   "outputs": [],
   "source": [
    "df.to_excel('add_eng_title.xlsx')"
   ]
  }
 ],
 "metadata": {
  "kernelspec": {
   "display_name": "Python 3 (ipykernel)",
   "language": "python",
   "name": "python3"
  },
  "language_info": {
   "codemirror_mode": {
    "name": "ipython",
    "version": 3
   },
   "file_extension": ".py",
   "mimetype": "text/x-python",
   "name": "python",
   "nbconvert_exporter": "python",
   "pygments_lexer": "ipython3",
   "version": "3.8.19"
  }
 },
 "nbformat": 4,
 "nbformat_minor": 4
}
