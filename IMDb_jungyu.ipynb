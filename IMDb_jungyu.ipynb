{
 "cells": [
  {
   "cell_type": "code",
   "execution_count": 65,
   "id": "a57c31e8-54fb-45af-a9bd-381e2bde3d98",
   "metadata": {},
   "outputs": [],
   "source": [
    "# 모듈 불러오기\n",
    "import pandas as pd\n",
    "import numpy as np\n",
    "import time\n",
    "import re\n",
    "from bs4 import BeautifulSoup\n",
    "from selenium import webdriver\n",
    "from selenium.webdriver import ActionChains\n",
    "from selenium.webdriver.common.by import By\n",
    "from selenium.webdriver.common.keys import Keys"
   ]
  },
  {
   "cell_type": "code",
   "execution_count": 4,
   "id": "6cce066c",
   "metadata": {},
   "outputs": [
    {
     "data": {
      "text/html": [
       "<div>\n",
       "<style scoped>\n",
       "    .dataframe tbody tr th:only-of-type {\n",
       "        vertical-align: middle;\n",
       "    }\n",
       "\n",
       "    .dataframe tbody tr th {\n",
       "        vertical-align: top;\n",
       "    }\n",
       "\n",
       "    .dataframe thead th {\n",
       "        text-align: right;\n",
       "    }\n",
       "</style>\n",
       "<table border=\"1\" class=\"dataframe\">\n",
       "  <thead>\n",
       "    <tr style=\"text-align: right;\">\n",
       "      <th></th>\n",
       "      <th>Unnamed: 0</th>\n",
       "      <th>title</th>\n",
       "      <th>original_title</th>\n",
       "      <th>year</th>\n",
       "      <th>season_episode</th>\n",
       "      <th>runtime</th>\n",
       "      <th>genre</th>\n",
       "      <th>age_rating</th>\n",
       "      <th>Production country</th>\n",
       "    </tr>\n",
       "  </thead>\n",
       "  <tbody>\n",
       "    <tr>\n",
       "      <th>1085</th>\n",
       "      <td>1085</td>\n",
       "      <td>달러</td>\n",
       "      <td>Dollar</td>\n",
       "      <td>2019</td>\n",
       "      <td>1</td>\n",
       "      <td>41min</td>\n",
       "      <td>액션, 드라마, 로맨스</td>\n",
       "      <td>15</td>\n",
       "      <td>레바논</td>\n",
       "    </tr>\n",
       "    <tr>\n",
       "      <th>1086</th>\n",
       "      <td>1086</td>\n",
       "      <td>러브 나우</td>\n",
       "      <td>真愛趁現在</td>\n",
       "      <td>2012</td>\n",
       "      <td>1</td>\n",
       "      <td>45min</td>\n",
       "      <td>드라마, 코미디</td>\n",
       "      <td>15</td>\n",
       "      <td>대만</td>\n",
       "    </tr>\n",
       "    <tr>\n",
       "      <th>1087</th>\n",
       "      <td>1087</td>\n",
       "      <td>탕탕 라이브</td>\n",
       "      <td>糖糖Online</td>\n",
       "      <td>2019</td>\n",
       "      <td>1</td>\n",
       "      <td>24min</td>\n",
       "      <td>드라마</td>\n",
       "      <td>15+</td>\n",
       "      <td>대만</td>\n",
       "    </tr>\n",
       "    <tr>\n",
       "      <th>1088</th>\n",
       "      <td>1088</td>\n",
       "      <td>대송궁사</td>\n",
       "      <td>大宋宫词</td>\n",
       "      <td>2021</td>\n",
       "      <td>1</td>\n",
       "      <td>45min</td>\n",
       "      <td>드라마</td>\n",
       "      <td>15+</td>\n",
       "      <td>China</td>\n",
       "    </tr>\n",
       "    <tr>\n",
       "      <th>1089</th>\n",
       "      <td>1089</td>\n",
       "      <td>엘리트들, 못다 한 이야기: 나디아 구스만</td>\n",
       "      <td>Elite Histórias Breves: Nadia Guzmán</td>\n",
       "      <td>2021</td>\n",
       "      <td>1</td>\n",
       "      <td>11min</td>\n",
       "      <td>드라마, 로맨스</td>\n",
       "      <td>NaN</td>\n",
       "      <td>스페인</td>\n",
       "    </tr>\n",
       "  </tbody>\n",
       "</table>\n",
       "</div>"
      ],
      "text/plain": [
       "      Unnamed: 0                    title  \\\n",
       "1085        1085                       달러   \n",
       "1086        1086                    러브 나우   \n",
       "1087        1087                   탕탕 라이브   \n",
       "1088        1088                     대송궁사   \n",
       "1089        1089  엘리트들, 못다 한 이야기: 나디아 구스만   \n",
       "\n",
       "                            original_title  year  season_episode runtime  \\\n",
       "1085                                Dollar  2019               1   41min   \n",
       "1086                                 真愛趁現在  2012               1   45min   \n",
       "1087                              糖糖Online  2019               1   24min   \n",
       "1088                                  大宋宫词  2021               1   45min   \n",
       "1089  Elite Histórias Breves: Nadia Guzmán  2021               1   11min   \n",
       "\n",
       "             genre age_rating Production country  \n",
       "1085  액션, 드라마, 로맨스         15                레바논  \n",
       "1086      드라마, 코미디         15                 대만  \n",
       "1087           드라마        15+                 대만  \n",
       "1088           드라마        15+              China  \n",
       "1089      드라마, 로맨스        NaN                스페인  "
      ]
     },
     "execution_count": 4,
     "metadata": {},
     "output_type": "execute_result"
    }
   ],
   "source": [
    "jw_df = pd.read_excel('data/justwatch.xlsx')\n",
    "jw_df.tail()"
   ]
  },
  {
   "cell_type": "code",
   "execution_count": 5,
   "id": "f6d83fc2-0410-4c35-8b69-4c6da1d4717e",
   "metadata": {},
   "outputs": [],
   "source": [
    "# IMDb 접속\n",
    "driver = webdriver.Chrome()\n",
    "driver.get('https://www.imdb.com/?ref_=nv_home')"
   ]
  },
  {
   "cell_type": "code",
   "execution_count": 8,
   "id": "ad5c7d52",
   "metadata": {},
   "outputs": [
    {
     "data": {
      "text/html": [
       "<div>\n",
       "<style scoped>\n",
       "    .dataframe tbody tr th:only-of-type {\n",
       "        vertical-align: middle;\n",
       "    }\n",
       "\n",
       "    .dataframe tbody tr th {\n",
       "        vertical-align: top;\n",
       "    }\n",
       "\n",
       "    .dataframe thead th {\n",
       "        text-align: right;\n",
       "    }\n",
       "</style>\n",
       "<table border=\"1\" class=\"dataframe\">\n",
       "  <thead>\n",
       "    <tr style=\"text-align: right;\">\n",
       "      <th></th>\n",
       "      <th>Unnamed: 0</th>\n",
       "      <th>title</th>\n",
       "      <th>original_title</th>\n",
       "      <th>year</th>\n",
       "      <th>season_episode</th>\n",
       "      <th>runtime</th>\n",
       "      <th>genre</th>\n",
       "      <th>age_rating</th>\n",
       "      <th>Production country</th>\n",
       "    </tr>\n",
       "  </thead>\n",
       "  <tbody>\n",
       "    <tr>\n",
       "      <th>0</th>\n",
       "      <td>0</td>\n",
       "      <td>Ojingeo Geim</td>\n",
       "      <td>Squid Game</td>\n",
       "      <td>2021</td>\n",
       "      <td>2</td>\n",
       "      <td>55min</td>\n",
       "      <td>액션, 드라마, 스릴러</td>\n",
       "      <td>19</td>\n",
       "      <td>대한민국</td>\n",
       "    </tr>\n",
       "    <tr>\n",
       "      <th>1</th>\n",
       "      <td>1</td>\n",
       "      <td>12인의 심판자</td>\n",
       "      <td>The Twelve</td>\n",
       "      <td>2019</td>\n",
       "      <td>2</td>\n",
       "      <td>54min</td>\n",
       "      <td>드라마, 스릴러</td>\n",
       "      <td>NaN</td>\n",
       "      <td>벨기에</td>\n",
       "    </tr>\n",
       "    <tr>\n",
       "      <th>2</th>\n",
       "      <td>2</td>\n",
       "      <td>희생자 게임</td>\n",
       "      <td>誰是被害者</td>\n",
       "      <td>2020</td>\n",
       "      <td>2</td>\n",
       "      <td>1시간 0분</td>\n",
       "      <td>드라마, 범죄, 스릴러</td>\n",
       "      <td>19</td>\n",
       "      <td>대만</td>\n",
       "    </tr>\n",
       "    <tr>\n",
       "      <th>3</th>\n",
       "      <td>3</td>\n",
       "      <td>스위트 투스: 사슴뿔을 가진 소년</td>\n",
       "      <td>Sweet Tooth</td>\n",
       "      <td>2021</td>\n",
       "      <td>3</td>\n",
       "      <td>52min</td>\n",
       "      <td>SF, 드라마, 판타지, 액션</td>\n",
       "      <td>15</td>\n",
       "      <td>미국</td>\n",
       "    </tr>\n",
       "    <tr>\n",
       "      <th>4</th>\n",
       "      <td>4</td>\n",
       "      <td>Sweet Home</td>\n",
       "      <td>NaN</td>\n",
       "      <td>2020</td>\n",
       "      <td>3</td>\n",
       "      <td>1시간 0분</td>\n",
       "      <td>스릴러, 드라마, 판타지, 공포, SF, 범죄</td>\n",
       "      <td>NaN</td>\n",
       "      <td>대한민국</td>\n",
       "    </tr>\n",
       "  </tbody>\n",
       "</table>\n",
       "</div>"
      ],
      "text/plain": [
       "   Unnamed: 0               title original_title  year  season_episode  \\\n",
       "0           0        Ojingeo Geim     Squid Game  2021               2   \n",
       "1           1            12인의 심판자     The Twelve  2019               2   \n",
       "2           2              희생자 게임          誰是被害者  2020               2   \n",
       "3           3  스위트 투스: 사슴뿔을 가진 소년    Sweet Tooth  2021               3   \n",
       "4           4          Sweet Home            NaN  2020               3   \n",
       "\n",
       "  runtime                      genre age_rating Production country  \n",
       "0   55min               액션, 드라마, 스릴러         19               대한민국  \n",
       "1   54min                   드라마, 스릴러        NaN                벨기에  \n",
       "2  1시간 0분               드라마, 범죄, 스릴러         19                 대만  \n",
       "3   52min           SF, 드라마, 판타지, 액션         15                 미국  \n",
       "4  1시간 0분  스릴러, 드라마, 판타지, 공포, SF, 범죄        NaN               대한민국  "
      ]
     },
     "execution_count": 8,
     "metadata": {},
     "output_type": "execute_result"
    }
   ],
   "source": [
    "jw_df.head()"
   ]
  },
  {
   "cell_type": "code",
   "execution_count": 11,
   "id": "b1da3ea4-c011-41b7-83c9-0d8973ac34b9",
   "metadata": {},
   "outputs": [
    {
     "data": {
      "text/plain": [
       "'Squid Game'"
      ]
     },
     "execution_count": 11,
     "metadata": {},
     "output_type": "execute_result"
    }
   ],
   "source": [
    "keyword = jw_df.iloc[0]['original_title']\n",
    "keyword"
   ]
  },
  {
   "cell_type": "code",
   "execution_count": 14,
   "id": "c40a5bff-054b-4897-b0d2-045e3125c39c",
   "metadata": {},
   "outputs": [],
   "source": [
    "# 작품명 입력 후 검색\n",
    "\n",
    "driver.find_element(By.CSS_SELECTOR, '#suggestion-search').send_keys(keyword)\n",
    "time.sleep(1)\n",
    "driver.find_element(By.CSS_SELECTOR, '#suggestion-search-button').click()"
   ]
  },
  {
   "cell_type": "code",
   "execution_count": 218,
   "id": "5bca79d6-768e-42ca-a04e-5f2667e09ee7",
   "metadata": {},
   "outputs": [
    {
     "data": {
      "text/plain": [
       "[<selenium.webdriver.remote.webelement.WebElement (session=\"a045bcd237138791b4a5aa2db706a613\", element=\"f.AA812FBFB1473CB109115A66D1757B2F.d.34F91869FEECE3F378D51D62EF3337EA.e.165626\")>,\n",
       " <selenium.webdriver.remote.webelement.WebElement (session=\"a045bcd237138791b4a5aa2db706a613\", element=\"f.AA812FBFB1473CB109115A66D1757B2F.d.34F91869FEECE3F378D51D62EF3337EA.e.165561\")>,\n",
       " <selenium.webdriver.remote.webelement.WebElement (session=\"a045bcd237138791b4a5aa2db706a613\", element=\"f.AA812FBFB1473CB109115A66D1757B2F.d.34F91869FEECE3F378D51D62EF3337EA.e.165627\")>,\n",
       " <selenium.webdriver.remote.webelement.WebElement (session=\"a045bcd237138791b4a5aa2db706a613\", element=\"f.AA812FBFB1473CB109115A66D1757B2F.d.34F91869FEECE3F378D51D62EF3337EA.e.165628\")>,\n",
       " <selenium.webdriver.remote.webelement.WebElement (session=\"a045bcd237138791b4a5aa2db706a613\", element=\"f.AA812FBFB1473CB109115A66D1757B2F.d.34F91869FEECE3F378D51D62EF3337EA.e.165629\")>]"
      ]
     },
     "execution_count": 218,
     "metadata": {},
     "output_type": "execute_result"
    }
   ],
   "source": [
    "title_list = driver.find_elements(By.CSS_SELECTOR, 'section:nth-child(4) > div.sc-ffc93fc1-2.ditJlF > ul > li')\n",
    "title_list"
   ]
  },
  {
   "cell_type": "code",
   "execution_count": 219,
   "id": "dcb4658a",
   "metadata": {},
   "outputs": [
    {
     "data": {
      "text/plain": [
       "['오징어 게임', '2021– TV Series', 'Lee Jung-jae, Park Hae-soo']"
      ]
     },
     "execution_count": 219,
     "metadata": {},
     "output_type": "execute_result"
    }
   ],
   "source": [
    "title_list[0].text.split('\\n')"
   ]
  },
  {
   "cell_type": "code",
   "execution_count": 220,
   "id": "0f20fdab",
   "metadata": {},
   "outputs": [
    {
     "data": {
      "text/plain": [
       "'2021'"
      ]
     },
     "execution_count": 220,
     "metadata": {},
     "output_type": "execute_result"
    }
   ],
   "source": [
    "title_list[0].text.split('\\n')[1][:4]"
   ]
  },
  {
   "cell_type": "code",
   "execution_count": 28,
   "id": "c54edb3a-d2c1-4988-ab5d-1edeeb4dcc67",
   "metadata": {},
   "outputs": [
    {
     "data": {
      "text/plain": [
       "2021"
      ]
     },
     "execution_count": 28,
     "metadata": {},
     "output_type": "execute_result"
    }
   ],
   "source": [
    "jw_df.iloc[0]['year']"
   ]
  },
  {
   "cell_type": "code",
   "execution_count": 132,
   "id": "3b4a8b4f-6dcf-4213-b507-5f6e8170515e",
   "metadata": {},
   "outputs": [],
   "source": [
    "# 타이틀 클릭 버튼들 출력\n",
    "\n",
    "driver.find_elements(By.CSS_SELECTOR, '#__next > main > div.ipc-page-content-container.ipc-page-content-container--full.sc-8cf8f1-0.cGPWeC > div.ipc-page-content-container.ipc-page-content-container--center > section > div > div.ipc-page-grid__item.ipc-page-grid__item--span-2 > section:nth-child(4) > div.sc-ffc93fc1-2.ditJlF > ul > li > div.ipc-metadata-list-summary-item__c > div > a')[0].click()"
   ]
  },
  {
   "cell_type": "code",
   "execution_count": 137,
   "id": "ba670765-c34e-4325-8491-67b473086dab",
   "metadata": {},
   "outputs": [
    {
     "data": {
      "text/plain": [
       "'8.0'"
      ]
     },
     "execution_count": 137,
     "metadata": {},
     "output_type": "execute_result"
    }
   ],
   "source": [
    "# 평점\n",
    "\n",
    "driver.find_element(By.CSS_SELECTOR, 'span.sc-bde20123-1.cMEQkK').text"
   ]
  },
  {
   "cell_type": "code",
   "execution_count": 139,
   "id": "dce38b60-787e-4709-90c5-35eceee8a3fe",
   "metadata": {},
   "outputs": [
    {
     "data": {
      "text/plain": [
       "'548K'"
      ]
     },
     "execution_count": 139,
     "metadata": {},
     "output_type": "execute_result"
    }
   ],
   "source": [
    "# 평점 투표 인원수\n",
    "\n",
    "driver.find_element(By.CSS_SELECTOR, 'div.sc-bde20123-3.gPVQxL').text"
   ]
  },
  {
   "cell_type": "code",
   "execution_count": 140,
   "id": "63d85957",
   "metadata": {},
   "outputs": [
    {
     "data": {
      "text/plain": [
       "'356'"
      ]
     },
     "execution_count": 140,
     "metadata": {},
     "output_type": "execute_result"
    }
   ],
   "source": [
    "# IMDb의 인기도\n",
    "\n",
    "driver.find_element(By.CSS_SELECTOR, 'div.sc-5f7fb5b4-1.fTREEx').text"
   ]
  },
  {
   "cell_type": "code",
   "execution_count": 156,
   "id": "5165136c",
   "metadata": {},
   "outputs": [
    {
     "data": {
      "text/plain": [
       "['25만', ' 사용자가 추가']"
      ]
     },
     "execution_count": 156,
     "metadata": {},
     "output_type": "execute_result"
    }
   ],
   "source": [
    "# watchlist 수\n",
    "\n",
    "driver.find_element(By.CSS_SELECTOR, 'div.sc-b23676b3-3.bRgISf').text.split('명의')"
   ]
  },
  {
   "cell_type": "code",
   "execution_count": 159,
   "id": "a4f2fcdf",
   "metadata": {},
   "outputs": [
    {
     "data": {
      "text/plain": [
       "'2.6K'"
      ]
     },
     "execution_count": 159,
     "metadata": {},
     "output_type": "execute_result"
    }
   ],
   "source": [
    "# 유저 리뷰 수\n",
    "\n",
    "driver.find_element(By.CSS_SELECTOR, 'li:nth-child(1) > a > span > span.score').text"
   ]
  },
  {
   "cell_type": "code",
   "execution_count": 160,
   "id": "f8a4492c",
   "metadata": {},
   "outputs": [
    {
     "data": {
      "text/plain": [
       "'109'"
      ]
     },
     "execution_count": 160,
     "metadata": {},
     "output_type": "execute_result"
    }
   ],
   "source": [
    "# 비평가 리뷰 수\n",
    "\n",
    "driver.find_element(By.CSS_SELECTOR, 'li:nth-child(2) > a > span > span.score').text"
   ]
  },
  {
   "cell_type": "code",
   "execution_count": 162,
   "id": "81cd9a7f",
   "metadata": {},
   "outputs": [],
   "source": [
    "# 전체 제작진 페이지로 이동\n",
    "\n",
    "driver.find_element(By.CSS_SELECTOR, '#__next > main > div > section.ipc-page-background.ipc-page-background--base.sc-c41b9732-0.NeSef > section > div:nth-child(5) > section > section > div.sc-491663c0-4.yjUiO > div.sc-491663c0-6.lnlBxO > div.sc-491663c0-10.rbXFE > section > div.sc-b7c53eda-3.vXcqY > div > ul > li > a.ipc-metadata-list-item__label.ipc-metadata-list-item__label--link').click()"
   ]
  },
  {
   "cell_type": "code",
   "execution_count": 208,
   "id": "5b16c3f9",
   "metadata": {},
   "outputs": [
    {
     "name": "stdout",
     "output_type": "stream",
     "text": [
      "감독 수 : 9\n",
      "Tom Verica\n",
      "Tricia Brock\n",
      "Sheree Folkson\n",
      "Alrick Riley\n",
      "Julie Anne Robinson\n",
      "Cheryl Dunye\n",
      "Alex Pillai\n",
      "Andrew Ahn\n",
      "Bille Woodruff\n"
     ]
    }
   ],
   "source": [
    "# 감독 (감독이 다수인 경우도 있음, 에피소드 별로 다른 경우도 있어 중복된 결과가 나올 수 있음)\n",
    "# 예시) 브리저튼\n",
    "\n",
    "print('감독 수 :', len(driver.find_elements(By.CSS_SELECTOR, '#fullcredits_content > table:nth-child(2) > tbody > tr > td.name > a')))\n",
    "\n",
    "for n in range(len(driver.find_elements(By.CSS_SELECTOR, '#fullcredits_content > table:nth-child(2) > tbody > tr > td.name > a'))):\n",
    "    print(driver.find_elements(By.CSS_SELECTOR, '#fullcredits_content > table:nth-child(2) > tbody > tr > td.name > a')[n].text)\n",
    "      "
   ]
  },
  {
   "cell_type": "code",
   "execution_count": 209,
   "id": "28ec33f6",
   "metadata": {},
   "outputs": [
    {
     "name": "stdout",
     "output_type": "stream",
     "text": [
      "작가 수 : 24\n",
      "Julia Quinn\n",
      "Chris Van Dusen\n",
      "Chris Van Dusen\n",
      "Chris Van Dusen\n",
      "Geetika Lizardi\n",
      "Geetika Lizardi\n",
      "Geetika Lizardi\n",
      "Jess Brownell\n",
      "Jess Brownell\n",
      "Abby McDonald\n",
      "Abby McDonald\n",
      "Joy C. Mitchell\n",
      "Joy C. Mitchell\n",
      "Daniel Robinson\n",
      "Sarah L. Thompson\n",
      "Leila Cohan\n",
      "Sarah Dollard\n",
      "Janet Lin\n",
      "Jay Ross\n",
      "Oliver Goldstick\n",
      "Lou-Lou Igbokwe\n",
      "Lauren Gamble\n",
      "Azia Squire\n",
      "Eli Wilson Pelton\n"
     ]
    }
   ],
   "source": [
    "# 작가 (작가가 다수인 경우도 있음, 에피소드 별로 다른 경우도 있어 중복된 결과가 나올 수 있음)\n",
    "# 예시) 브리저튼\n",
    "\n",
    "print('작가 수 :', len(driver.find_elements(By.CSS_SELECTOR, '#fullcredits_content > table:nth-child(4) > tbody > tr > td.name > a')))\n",
    "\n",
    "for n in range(len(driver.find_elements(By.CSS_SELECTOR, '#fullcredits_content > table:nth-child(4) > tbody > tr > td.name > a'))):\n",
    "    print(driver.find_elements(By.CSS_SELECTOR, '#fullcredits_content > table:nth-child(4) > tbody > tr > td.name > a')[n].text)"
   ]
  },
  {
   "cell_type": "code",
   "execution_count": 204,
   "id": "0459a4b9",
   "metadata": {},
   "outputs": [
    {
     "name": "stdout",
     "output_type": "stream",
     "text": [
      "Lee Jung-jae\n",
      "Park Hae-soo\n",
      "Yasushi Iwaki\n",
      "Hoyeon\n",
      "Oh Yeong-su\n",
      "Wi Ha-joon\n",
      "Heo Sung-tae\n",
      "Anupam Tripathi\n",
      "Greg Chun\n",
      "Stephen Fu\n"
     ]
    }
   ],
   "source": [
    "# 배우 \n",
    "#fullcredits_content > table.cast_list > tbody > tr:nth-child(4) > td:nth-child(2) > a  첫번째 tr의 짝수별로 배우 이름이 한 명씩 들어가 있음\n",
    "\n",
    "for n in range(1, 11):\n",
    "    print(driver.find_elements(By.CSS_SELECTOR, f'#fullcredits_content > table.cast_list > tbody > tr:nth-child({n*2}) > td:nth-child(2) > a')[0].text)"
   ]
  },
  {
   "cell_type": "code",
   "execution_count": 210,
   "id": "60d0e1da",
   "metadata": {},
   "outputs": [],
   "source": [
    "# 뒤로 가기\n",
    "\n",
    "driver.back()"
   ]
  },
  {
   "cell_type": "code",
   "execution_count": 211,
   "id": "0722c30d",
   "metadata": {},
   "outputs": [],
   "source": [
    "# 에피소드 페이지로 이동\n",
    "\n",
    "driver.find_element(By.CSS_SELECTOR, '#__next > main > div > section.ipc-page-background.ipc-page-background--base.sc-c41b9732-0.NeSef > div > section > div > div.sc-978e9339-1.ihWZgK.ipc-page-grid__item.ipc-page-grid__item--span-2 > section:nth-child(7) > div.ipc-title.ipc-title--base.ipc-title--section-title.ipc-title--on-textPrimary > a').click()"
   ]
  },
  {
   "cell_type": "code",
   "execution_count": 212,
   "id": "333940d5",
   "metadata": {},
   "outputs": [
    {
     "data": {
      "text/plain": [
       "[<selenium.webdriver.remote.webelement.WebElement (session=\"a045bcd237138791b4a5aa2db706a613\", element=\"f.AA812FBFB1473CB109115A66D1757B2F.d.99994185A95077BCED5059B69F19D00E.e.151077\")>,\n",
       " <selenium.webdriver.remote.webelement.WebElement (session=\"a045bcd237138791b4a5aa2db706a613\", element=\"f.AA812FBFB1473CB109115A66D1757B2F.d.99994185A95077BCED5059B69F19D00E.e.151146\")>,\n",
       " <selenium.webdriver.remote.webelement.WebElement (session=\"a045bcd237138791b4a5aa2db706a613\", element=\"f.AA812FBFB1473CB109115A66D1757B2F.d.99994185A95077BCED5059B69F19D00E.e.151215\")>,\n",
       " <selenium.webdriver.remote.webelement.WebElement (session=\"a045bcd237138791b4a5aa2db706a613\", element=\"f.AA812FBFB1473CB109115A66D1757B2F.d.99994185A95077BCED5059B69F19D00E.e.151284\")>,\n",
       " <selenium.webdriver.remote.webelement.WebElement (session=\"a045bcd237138791b4a5aa2db706a613\", element=\"f.AA812FBFB1473CB109115A66D1757B2F.d.99994185A95077BCED5059B69F19D00E.e.151353\")>,\n",
       " <selenium.webdriver.remote.webelement.WebElement (session=\"a045bcd237138791b4a5aa2db706a613\", element=\"f.AA812FBFB1473CB109115A66D1757B2F.d.99994185A95077BCED5059B69F19D00E.e.151422\")>,\n",
       " <selenium.webdriver.remote.webelement.WebElement (session=\"a045bcd237138791b4a5aa2db706a613\", element=\"f.AA812FBFB1473CB109115A66D1757B2F.d.99994185A95077BCED5059B69F19D00E.e.151491\")>,\n",
       " <selenium.webdriver.remote.webelement.WebElement (session=\"a045bcd237138791b4a5aa2db706a613\", element=\"f.AA812FBFB1473CB109115A66D1757B2F.d.99994185A95077BCED5059B69F19D00E.e.151560\")>,\n",
       " <selenium.webdriver.remote.webelement.WebElement (session=\"a045bcd237138791b4a5aa2db706a613\", element=\"f.AA812FBFB1473CB109115A66D1757B2F.d.99994185A95077BCED5059B69F19D00E.e.151629\")>]"
      ]
     },
     "execution_count": 212,
     "metadata": {},
     "output_type": "execute_result"
    }
   ],
   "source": [
    "# 에피소드 리스트\n",
    "\n",
    "driver.find_elements(By.CSS_SELECTOR, '#__next > main > div > section > div > section > div > div.sc-978e9339-1.ihWZgK.ipc-page-grid__item.ipc-page-grid__item--span-2 > section:nth-child(2) > section.sc-33cc047c-0.guTCiW > article')"
   ]
  },
  {
   "cell_type": "code",
   "execution_count": null,
   "id": "c26e345a",
   "metadata": {},
   "outputs": [],
   "source": [
    "# 넥스트 시즌 버튼\n",
    "#  #next-season-btn"
   ]
  }
 ],
 "metadata": {
  "kernelspec": {
   "display_name": "Python 3 (ipykernel)",
   "language": "python",
   "name": "python3"
  },
  "language_info": {
   "codemirror_mode": {
    "name": "ipython",
    "version": 3
   },
   "file_extension": ".py",
   "mimetype": "text/x-python",
   "name": "python",
   "nbconvert_exporter": "python",
   "pygments_lexer": "ipython3",
   "version": "3.8.19"
  }
 },
 "nbformat": 4,
 "nbformat_minor": 5
}
