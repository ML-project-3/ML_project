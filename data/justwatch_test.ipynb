{
 "cells": [
  {
   "cell_type": "code",
   "execution_count": 12,
   "metadata": {},
   "outputs": [],
   "source": [
    "# import\n",
    "import pandas as pd\n",
    "import numpy as np\n",
    "\n",
    "from selenium import webdriver\n",
    "from selenium.webdriver.common.by import By\n",
    "from selenium.webdriver import ActionChains\n",
    "from selenium.common.exceptions import NoSuchElementException\n",
    "\n",
    "import time\n",
    "from tqdm import tqdm_notebook\n",
    "\n",
    "from bs4 import BeautifulSoup"
   ]
  },
  {
   "cell_type": "code",
   "execution_count": 13,
   "metadata": {},
   "outputs": [
    {
     "name": "stderr",
     "output_type": "stream",
     "text": [
      "C:\\Users\\rbfl7\\AppData\\Local\\Temp\\ipykernel_30976\\2990245862.py:46: TqdmDeprecationWarning: This function will be removed in tqdm==5.0.0\n",
      "Please use `tqdm.notebook.tqdm` instead of `tqdm.tqdm_notebook`\n",
      "  for i in tqdm_notebook(range(2, len(soup.select('.title-list-grid')[0]) + 1)):\n"
     ]
    },
    {
     "data": {
      "application/vnd.jupyter.widget-view+json": {
       "model_id": "f17e3382501b4f038039382f2503a93d",
       "version_major": 2,
       "version_minor": 0
      },
      "text/plain": [
       "  0%|          | 0/721 [00:00<?, ?it/s]"
      ]
     },
     "metadata": {},
     "output_type": "display_data"
    }
   ],
   "source": [
    "# 홈페이지를 selenium으로 열기\n",
    "driver = webdriver.Chrome()\n",
    "driver.get('https://www.justwatch.com/kr/%EB%8F%99%EC%98%81%EC%83%81%EC%84%9C%EB%B9%84%EC%8A%A4/netflix/TV-%ED%94%84%EB%A1%9C%EA%B7%B8%EB%9E%A8?genres=drm&release_year_from=2020&release_year_until=2023&sort_by=release_year')\n",
    "\n",
    "\n",
    "# 팝업창 닫기\n",
    "try:\n",
    "    driver.find_element(By.CSS_SELECTOR, '#uc-center-container > div.sc-eBMEME.hasieq > div > div > div > button.sc-dcJsrY.gDlDbR').click()\n",
    "except NoSuchElementException:\n",
    "    pass\n",
    "\n",
    "time.sleep(1)\n",
    "\n",
    "# 현재 페이지 높이 가져오기\n",
    "last_height = driver.execute_script(\"return document.body.scrollHeight\")\n",
    "\n",
    "while True:\n",
    "    # 페이지 끝까지 스크롤\n",
    "    driver.execute_script(\"window.scrollTo(0, document.body.scrollHeight);\")\n",
    "    \n",
    "    # 새로운 콘텐츠가 로드되기를 기다림\n",
    "    time.sleep(2)\n",
    "    \n",
    "    # 새로운 페이지 높이 가져오기\n",
    "    new_height = driver.execute_script(\"return document.body.scrollHeight\")\n",
    "    \n",
    "    # 새로운 높이가 이전 높이와 같으면, 더 이상 로드할 콘텐츠가 없다는 의미\n",
    "    if new_height == last_height:\n",
    "        break\n",
    "    \n",
    "    last_height = new_height\n",
    "\n",
    "# 현재 페이지 내의 정보를 저장\n",
    "raw = driver.page_source\n",
    "\n",
    "# BeautifulSoup을 이용하여 html 파싱\n",
    "soup = BeautifulSoup(raw, 'html.parser')\n",
    "\n",
    "driver.close()\n",
    "\n",
    "# url_list 만들기\n",
    "base_url = 'https://www.justwatch.com'\n",
    "url_list = []\n",
    "\n",
    "# 타이틀 리스트 내의 URL을 추출\n",
    "for i in tqdm_notebook(range(2, len(soup.select('.title-list-grid')[0]) + 1)):\n",
    "    tmp = soup.select_one('#base > div.title-list.title-list--CLS-block > div:nth-child(2) > div > div > div:nth-child(1) > div > div:nth-child(' + str(i) + ') > a')\n",
    "    if tmp:\n",
    "        tmp_url = tmp.get('href')\n",
    "        if tmp_url:\n",
    "            url = base_url + tmp_url\n",
    "            url_list.append(url)"
   ]
  },
  {
   "cell_type": "code",
   "execution_count": 14,
   "metadata": {},
   "outputs": [
    {
     "data": {
      "text/plain": [
       "722"
      ]
     },
     "execution_count": 14,
     "metadata": {},
     "output_type": "execute_result"
    }
   ],
   "source": [
    "# 개수 확인\n",
    "len(soup.select('.title-list-grid')[0])"
   ]
  },
  {
   "cell_type": "code",
   "execution_count": 15,
   "metadata": {},
   "outputs": [
    {
     "data": {
      "text/plain": [
       "721"
      ]
     },
     "execution_count": 15,
     "metadata": {},
     "output_type": "execute_result"
    }
   ],
   "source": [
    "# 개수 확인\n",
    "len(url_list)"
   ]
  },
  {
   "cell_type": "code",
   "execution_count": 16,
   "metadata": {},
   "outputs": [],
   "source": [
    "# 테스트\n",
    "movie_list = []\n",
    "\n",
    "for x in url_list:\n",
    "    driver = webdriver.Chrome()\n",
    "    driver.get(x)\n",
    "    \n",
    "    # 팝업창 닫기\n",
    "    try:\n",
    "        driver.find_element(By.CSS_SELECTOR, '#uc-center-container > div.sc-eBMEME.hasieq > div > div > div > button.sc-dcJsrY.gDlDbR').click()\n",
    "    except NoSuchElementException:\n",
    "        pass\n",
    "\n",
    "    time.sleep(2)\n",
    "\n",
    "    raw = driver.page_source\n",
    "    soup = BeautifulSoup(raw, 'html.parser')\n",
    "\n",
    "    # 'detail-infos' 클래스의 모든 'div' 태그를 찾습니다.\n",
    "    detail_infos = soup.find_all('div', class_='detail-infos')\n",
    "\n",
    "    # 중복을 제거하기 위해 집합(set)을 사용합니다.\n",
    "    unique_detail_infos = list({str(info): info for info in detail_infos}.values())\n",
    "\n",
    "    # 정보를 저장할 변수 초기화\n",
    "    play_time_div = None\n",
    "    genre_div = None\n",
    "    rating_div = None\n",
    "    country_div = None\n",
    "    director_div = None\n",
    "\n",
    "    # 필요한 정보를 가진 'div' 태그를 각각 찾습니다.\n",
    "    for info in unique_detail_infos:\n",
    "        heading = info.find('h3', class_='detail-infos__subheading')\n",
    "        if heading:\n",
    "            if '재생 시간' in heading.text:\n",
    "                play_time_div = info.find('div', class_='detail-infos__value')\n",
    "            elif '장르' in heading.text:\n",
    "                genre_div = info.find('div', class_='detail-infos__value')\n",
    "            elif '연령 등급' in heading.text:\n",
    "                rating_div = info.find('div', class_='detail-infos__value')\n",
    "            elif 'Production country' in heading.text:\n",
    "                country_div = info.find('div', class_='detail-infos__value')\n",
    "            elif '감독' in heading.text:\n",
    "                director_div = info.find('div', class_='detail-infos__value')\n",
    "\n",
    "    # 정보를 텍스트로 가져옵니다.\n",
    "    play_time = play_time_div.text.strip() if play_time_div else None\n",
    "    genre = genre_div.text.strip() if genre_div and genre_div.text.strip() else None\n",
    "    rating = rating_div.text.strip() if rating_div else None\n",
    "    country = country_div.text.strip() if country_div else None\n",
    "    director = director_div.text.strip() if director_div else None\n",
    "\n",
    "    # 추가 정보 추출\n",
    "    title_block = soup.find('div', class_='title-block')\n",
    "    korean_title_element = title_block.find('h1')\n",
    "    original_title_element = title_block.find('h3')\n",
    "    seasons_element = soup.find('h2', class_='subheading')\n",
    "\n",
    "    korean_title = korean_title_element.text.strip() if korean_title_element else None\n",
    "    original_title = original_title_element.text[5:].strip() if original_title_element else None\n",
    "    seasons = seasons_element.text.strip() if seasons_element else None\n",
    "\n",
    "    # 영화 데이터 저장\n",
    "    movie_data = {\n",
    "        \"한글 이름\": korean_title,\n",
    "        \"원제\": original_title,\n",
    "        \"시즌 수\": seasons,\n",
    "        \"재생 시간\": play_time,\n",
    "        \"장르\": genre,\n",
    "        \"연령 등급\": rating,\n",
    "        \"Production country\": country,\n",
    "        \"감독\": director\n",
    "    }\n",
    "    \n",
    "    movie_list.append(movie_data)\n",
    "\n",
    "# DataFrame 생성\n",
    "jw_df = pd.DataFrame(movie_list)\n",
    "\n",
    "# 드라이버 종료\n",
    "driver.quit()"
   ]
  },
  {
   "cell_type": "code",
   "execution_count": 17,
   "metadata": {},
   "outputs": [],
   "source": [
    "# 저장\n",
    "jw_df.to_csv('../data/justwatch.csv', sep=\",\", encoding=\"utf-8\")\n",
    "\n",
    "jw_df.to_excel('../data/justwatch.xlsx')"
   ]
  },
  {
   "cell_type": "code",
   "execution_count": null,
   "metadata": {},
   "outputs": [],
   "source": []
  },
  {
   "cell_type": "code",
   "execution_count": null,
   "metadata": {},
   "outputs": [],
   "source": []
  }
 ],
 "metadata": {
  "kernelspec": {
   "display_name": "ds_study",
   "language": "python",
   "name": "python3"
  },
  "language_info": {
   "codemirror_mode": {
    "name": "ipython",
    "version": 3
   },
   "file_extension": ".py",
   "mimetype": "text/x-python",
   "name": "python",
   "nbconvert_exporter": "python",
   "pygments_lexer": "ipython3",
   "version": "3.8.18"
  }
 },
 "nbformat": 4,
 "nbformat_minor": 2
}
