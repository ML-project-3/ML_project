{
 "cells": [
  {
   "cell_type": "code",
   "execution_count": 87,
   "metadata": {},
   "outputs": [],
   "source": [
    "# import\n",
    "import pandas as pd\n",
    "import numpy as np\n",
    "import matplotlib.pyplot as plt\n",
    "import seaborn as sns\n",
    "import platform\n",
    "import plotly.graph_objects as go\n",
    "from matplotlib import font_manager,rc\n",
    "\n",
    "get_ipython().run_line_magic('matplotlib','inline')\n",
    "# %matplotlib inline\n",
    "\n",
    "path = 'C:/Windows/Fonts/malgun.ttf'\n",
    "\n",
    "if platform.system() == 'Darwin':\n",
    "    rc('font',family='Arial Unicode MS')\n",
    "elif platform.system() == 'Windows':\n",
    "    font_name = font_manager.FontProperties(fname=path).get_name()\n",
    "    rc('font',family=font_name)\n",
    "else:\n",
    "    print('Unknown system, sorry~')\n",
    "\n",
    "from sklearn.decomposition import PCA\n",
    "\n",
    "from sklearn.preprocessing import MultiLabelBinarizer, StandardScaler\n",
    "\n",
    "from sklearn.pipeline import Pipeline\n",
    "from sklearn.metrics import silhouette_score\n",
    "from sklearn.cluster import KMeans\n",
    "import matplotlib.pyplot as plt"
   ]
  },
  {
   "cell_type": "code",
   "execution_count": 88,
   "metadata": {},
   "outputs": [],
   "source": [
    "plt.rcParams['font.family'] = 'Malgun Gothic'\n",
    "plt.rcParams['axes.unicode_minus'] = False\n",
    "# 한국어 설정\n",
    "from matplotlib import font_manager, rc\n",
    "rc(\"font\",family ='Malgun Gothic')\n",
    "%matplotlib inline"
   ]
  },
  {
   "cell_type": "code",
   "execution_count": 89,
   "metadata": {},
   "outputs": [
    {
     "name": "stdout",
     "output_type": "stream",
     "text": [
      "<class 'pandas.core.frame.DataFrame'>\n",
      "Index: 905 entries, 0 to 904\n",
      "Data columns (total 40 columns):\n",
      " #   Column              Non-Null Count  Dtype  \n",
      "---  ------              --------------  -----  \n",
      " 0   korean_title        905 non-null    object \n",
      " 1   english_title       905 non-null    object \n",
      " 2   year                905 non-null    int64  \n",
      " 3   total_season_num    905 non-null    int64  \n",
      " 4   runtime             905 non-null    int64  \n",
      " 5   genre               905 non-null    object \n",
      " 6   age_rating          905 non-null    object \n",
      " 7   production_country  905 non-null    object \n",
      " 8   total_count         905 non-null    int64  \n",
      " 9   total_rate          905 non-null    float64\n",
      " 10  watchlist           905 non-null    int64  \n",
      " 11  popularity          905 non-null    int64  \n",
      " 12  user_review         905 non-null    int64  \n",
      " 13  critic_review       905 non-null    int64  \n",
      " 14  production          821 non-null    object \n",
      " 15  distributor         897 non-null    object \n",
      " 16  season_1            905 non-null    object \n",
      " 17  season_2            266 non-null    object \n",
      " 18  season_3            136 non-null    object \n",
      " 19  season_4            79 non-null     object \n",
      " 20  season_5            49 non-null     object \n",
      " 21  season_6            35 non-null     object \n",
      " 22  season_7            21 non-null     object \n",
      " 23  season_8            8 non-null      object \n",
      " 24  season_9            4 non-null      object \n",
      " 25  season_10           2 non-null      object \n",
      " 26  season_11           1 non-null      object \n",
      " 27  season_12           0 non-null      float64\n",
      " 28  season_13           0 non-null      float64\n",
      " 29  season_14           0 non-null      float64\n",
      " 30  season_15           0 non-null      float64\n",
      " 31  season_16           0 non-null      float64\n",
      " 32  season_17           0 non-null      float64\n",
      " 33  director            881 non-null    object \n",
      " 34  writer              878 non-null    object \n",
      " 35  actor               905 non-null    object \n",
      " 36  imdb_title          905 non-null    object \n",
      " 37  imdb_url            905 non-null    object \n",
      " 38  wins                905 non-null    int64  \n",
      " 39  nominations         905 non-null    int64  \n",
      "dtypes: float64(7), int64(10), object(23)\n",
      "memory usage: 289.9+ KB\n"
     ]
    }
   ],
   "source": [
    "# 엑셀 파일을 읽어옵니다.\n",
    "df = pd.read_excel('../data/file/imdb_final_6.xlsx', index_col=0)\n",
    "df.info()"
   ]
  },
  {
   "cell_type": "code",
   "execution_count": 90,
   "metadata": {},
   "outputs": [],
   "source": [
    "df = df[df['total_season_num']>=2]"
   ]
  },
  {
   "cell_type": "code",
   "execution_count": 91,
   "metadata": {},
   "outputs": [],
   "source": [
    "# 문자열을 리스트로 변환하는 함수\n",
    "def parseStringToList(string):\n",
    "    if pd.isna(string):  # NaN 값인 경우 빈 리스트 반환\n",
    "        return None\n",
    "    # 문자열에서 각 요소를 구분하는 쉼표로 분할\n",
    "    elements = string.split(', ')\n",
    "    # 각 요소에서 양쪽의 작은따옴표 제거\n",
    "    elements = [element.strip(\"['\").strip(\"']\") for element in elements]\n",
    "    return elements\n",
    "# 'production','distributor' 컬럼의 값을 변환\n",
    "df['production'] = df['production'].apply(parseStringToList)\n",
    "df['distributor'] = df['distributor'].apply(parseStringToList)"
   ]
  },
  {
   "cell_type": "code",
   "execution_count": 92,
   "metadata": {},
   "outputs": [],
   "source": [
    "import ast\n",
    "\n",
    "# 문자열을 딕셔너리로 변환하는 함수\n",
    "def preprocess_data(data_str):\n",
    "    try:\n",
    "        data_dict = ast.literal_eval(data_str)\n",
    "        if not data_dict:  # 빈 딕셔너리인 경우\n",
    "            return None\n",
    "        else:\n",
    "            return data_dict\n",
    "    except (ValueError, SyntaxError):\n",
    "        return None  # 오류 발생 시 None 반환\n",
    "    \n",
    "# # season_으로 시작하는 컬럼에 대해서만 변환 적용\n",
    "# for column in df_im.columns:\n",
    "#     if column.startswith('season_'):\n",
    "#         df_im[column] = df_im[column].apply(preprocess_data)\n",
    "\n",
    "df['season_1'] = df['season_1'].apply(preprocess_data)"
   ]
  },
  {
   "cell_type": "code",
   "execution_count": 93,
   "metadata": {},
   "outputs": [],
   "source": [
    "# season_1에 대한 평균 계산\n",
    "season_1 = df['season_1']\n",
    "\n",
    "# 평균 rating 계산\n",
    "avg_rating_season_1 = season_1.apply(\n",
    "    lambda x: np.mean([ep[0] for ep in x.values()]) if x else None\n",
    ")\n",
    "\n",
    "# 평균 views 계산\n",
    "avg_views_season_1 = season_1.apply(\n",
    "    lambda x: np.mean([ep[1] for ep in x.values()]) if x else None\n",
    ")"
   ]
  },
  {
   "cell_type": "code",
   "execution_count": 94,
   "metadata": {},
   "outputs": [],
   "source": [
    "# df_im에 s1_avg_rating, s1_avg_views 컬럼 추가\n",
    "df['s1_avg_rating'] = avg_rating_season_1\n",
    "df['s1_avg_views'] = avg_views_season_1"
   ]
  },
  {
   "cell_type": "code",
   "execution_count": 95,
   "metadata": {},
   "outputs": [],
   "source": [
    "# 시청 지속율(관심유지도) 계산 함수\n",
    "def calculate_retention_rate(season_data):\n",
    "    episode_views = [ep[1] for ep in season_data.values() if isinstance(ep, (list, tuple))]\n",
    "    if len(episode_views) > 1:\n",
    "        initial_viewers = episode_views[0]\n",
    "        final_viewers = episode_views[-1]\n",
    "        retention_rate = (final_viewers / initial_viewers) * 100\n",
    "    else:\n",
    "        retention_rate = 100  # If there's only one episode, retention is 100%\n",
    "    return retention_rate\n",
    "\n",
    "# 시즌 1의 시청 지속율 계산\n",
    "df['s1_retention_rate'] = df['season_1'].apply(calculate_retention_rate)"
   ]
  },
  {
   "cell_type": "code",
   "execution_count": 96,
   "metadata": {},
   "outputs": [
    {
     "name": "stdout",
     "output_type": "stream",
     "text": [
      "                                                     season_1  \\\n",
      "Unnamed: 0                                                      \n",
      "3           {'S1.E1': [7.9, 2500, 'Fri, Jun 4, 2021'], 'S1...   \n",
      "4           {'S1.E1': [7.1, 1100, 'Fri, Dec 18, 2020'], 'S...   \n",
      "6           {'S1.E1': [8.6, 4800, 'Mon, Jul 12, 2021'], 'S...   \n",
      "7           {'S1.E1': [9.2, 30000, 'Tue, Oct 8, 2019'], 'S...   \n",
      "8           {'S1.E1': [8.0, 770, 'Sun, Jan 8, 2012'], 'S1....   \n",
      "...                                                       ...   \n",
      "868         {'S1.E1': [7.6, 304, 'Fri, Aug 10, 2018'], 'S1...   \n",
      "869         {'S1.E1': [6.7, 141, 'Fri, Mar 20, 2020'], 'S1...   \n",
      "881         {'S1.E1': [6.5, 349, 'Fri, Sep 22, 2017'], 'S1...   \n",
      "882         {'S1.E1': [7.0, 66, 'Sat, Nov 30, 2019'], 'S1....   \n",
      "884         {'S1.E1': [7.0, 110, 'Fri, Feb 21, 2020'], 'S1...   \n",
      "\n",
      "                date_of_first     date_of_second       date_of_last  term  \n",
      "Unnamed: 0                                                                 \n",
      "3            Fri, Jun 4, 2021   Fri, Jun 4, 2021   Fri, Jun 4, 2021     0  \n",
      "4           Fri, Dec 18, 2020  Fri, Dec 18, 2020  Fri, Dec 18, 2020     0  \n",
      "6           Mon, Jul 12, 2021   Mon, Oct 2, 2017  Mon, Mar 26, 2018     2  \n",
      "7            Tue, Oct 8, 2019   Sun, Nov 7, 2010   Sun, Dec 5, 2010     2  \n",
      "8            Sun, Jan 8, 2012           Jan 2012  Sun, Nov 28, 2010     2  \n",
      "...                       ...                ...                ...   ...  \n",
      "868         Fri, Aug 10, 2018  Fri, Aug 10, 2018  Fri, Aug 10, 2018     0  \n",
      "869         Fri, Mar 20, 2020  Fri, Mar 20, 2020  Fri, Mar 20, 2020     0  \n",
      "881         Fri, Sep 22, 2017  Fri, Oct 14, 2016  Fri, Oct 14, 2016     2  \n",
      "882         Sat, Nov 30, 2019   Wed, Oct 2, 2019   Thu, Oct 3, 2019     2  \n",
      "884         Fri, Feb 21, 2020  Fri, Feb 21, 2020  Fri, Feb 21, 2020     0  \n",
      "\n",
      "[266 rows x 5 columns]\n"
     ]
    }
   ],
   "source": [
    "# 'date_of_first' 컬럼 추가\n",
    "df['date_of_first'] = [next(iter(data_dict.values()))[2] for data_dict in df['season_1']]\n",
    "# 'date_of_second' 컬럼 추가\n",
    "df['date_of_second'] = [list(data_dict.values())[1][2] if len(data_dict) > 1 else None for data_dict in df['season_1']]\n",
    "# 'date_of_last' 컬럼 추가\n",
    "df['date_of_last'] = [list(data_dict.values())[-1][2] for data_dict in df['season_1']]\n",
    "# 'term' 컬럼 추가\n",
    "df['term'] = df.apply(lambda row: 0 if row['date_of_last'] == row['date_of_first'] else (1 if row['date_of_first'] == row['date_of_second'] else 2), axis=1)\n",
    "\n",
    "# 결과 확인\n",
    "print(df[['season_1', 'date_of_first', 'date_of_second', 'date_of_last', 'term']])"
   ]
  },
  {
   "cell_type": "code",
   "execution_count": 97,
   "metadata": {},
   "outputs": [],
   "source": [
    "# 이 컬럼은 여기서 사용하지 않을 예정이라 잠시 뺌\n",
    "del df['date_of_first']\n",
    "del df['date_of_second']\n",
    "del df['date_of_last']\n",
    "\n",
    "del df['season_1']"
   ]
  },
  {
   "cell_type": "code",
   "execution_count": 98,
   "metadata": {},
   "outputs": [],
   "source": [
    "# 이 컬럼은 여기서 사용하지 않을 예정이라 잠시 뺌\n",
    "del df['season_2']\n",
    "del df['season_3']\n",
    "del df['season_4']\n",
    "del df['season_5']\n",
    "del df['season_6']\n",
    "del df['season_7']\n",
    "del df['season_8']\n",
    "del df['season_9']\n",
    "del df['season_10']\n",
    "del df['season_11']\n",
    "del df['season_12']\n",
    "del df['season_13']\n",
    "del df['season_14']\n",
    "del df['season_15']\n",
    "del df['season_16']\n",
    "del df['season_17']"
   ]
  },
  {
   "cell_type": "code",
   "execution_count": 99,
   "metadata": {},
   "outputs": [],
   "source": [
    "# 이 컬럼은 여기서 사용하지 않을 예정이라 잠시 뺌\n",
    "del df['year']  # 차라리 term을 넣기\n",
    "\n",
    "del df['production']\n",
    "del df['distributor']\n",
    "del df['director']\n",
    "del df['writer']\n",
    "del df['actor']"
   ]
  },
  {
   "cell_type": "code",
   "execution_count": 100,
   "metadata": {},
   "outputs": [],
   "source": [
    "# 드라마의 전반적인 인기\n",
    "del df['total_season_num']\n",
    "del df['total_count']\n",
    "del df['total_rate']\n",
    "del df['watchlist']\n",
    "del df['popularity']\n",
    "\n",
    "del df['user_review']\n",
    "del df['critic_review']\n",
    "del df['wins']\n",
    "del df['nominations']\n",
    "\n",
    "del df['imdb_title']\n",
    "del df['imdb_url']"
   ]
  },
  {
   "cell_type": "code",
   "execution_count": 101,
   "metadata": {},
   "outputs": [],
   "source": [
    "# 장르 인코딩 못함\n",
    "del df['genre']"
   ]
  },
  {
   "cell_type": "code",
   "execution_count": 102,
   "metadata": {},
   "outputs": [],
   "source": [
    "# production_country 컬럼의 데이터를 처리하는 함수 정의\n",
    "def process_countries(countries):\n",
    "    # 쉼표를 기준으로 분리하고 첫 번째 나라 선택\n",
    "    countries_list = countries.split(',')\n",
    "    first_country = countries_list[0].strip()\n",
    "    return first_country\n",
    "\n",
    "# apply 함수를 사용하여 모든 행에 적용\n",
    "df['production_country'] = df['production_country'].apply(process_countries)"
   ]
  },
  {
   "cell_type": "code",
   "execution_count": 103,
   "metadata": {},
   "outputs": [
    {
     "name": "stdout",
     "output_type": "stream",
     "text": [
      "           production_country  production_country_encoded\n",
      "Unnamed: 0                                               \n",
      "3                          미국                  239.363693\n",
      "4                        대한민국                  288.718790\n",
      "6                          미국                  239.363693\n",
      "7                          미국                  239.363693\n",
      "8                         덴마크                  293.163207\n",
      "...                       ...                         ...\n",
      "868                       멕시코                  400.559548\n",
      "869                        인도                  383.532936\n",
      "881                        미국                  239.363693\n",
      "882                       프랑스                  382.088135\n",
      "884                        미국                  239.363693\n",
      "\n",
      "[266 rows x 2 columns]\n"
     ]
    }
   ],
   "source": [
    "import category_encoders as ce\n",
    "\n",
    "# TargetEncoder 객체 생성 및 fit_transform으로 변환 (count 사용)\n",
    "target_encoder = ce.TargetEncoder(cols=['production_country'], handle_unknown='count')\n",
    "df_im_encoded = target_encoder.fit_transform(df['production_country'], df.index)\n",
    "\n",
    "# 인코딩된 값을 기존 데이터프레임에 추가\n",
    "df['production_country_encoded'] = df_im_encoded\n",
    "\n",
    "print(df[['production_country','production_country_encoded']])"
   ]
  },
  {
   "cell_type": "code",
   "execution_count": 104,
   "metadata": {},
   "outputs": [],
   "source": [
    "del df['production_country']"
   ]
  },
  {
   "cell_type": "code",
   "execution_count": 105,
   "metadata": {},
   "outputs": [],
   "source": [
    "df['age_rating'] = df['age_rating'].replace('ALL', 0).astype(int)"
   ]
  },
  {
   "cell_type": "code",
   "execution_count": 106,
   "metadata": {},
   "outputs": [
    {
     "name": "stdout",
     "output_type": "stream",
     "text": [
      "<class 'pandas.core.frame.DataFrame'>\n",
      "Index: 266 entries, 3 to 884\n",
      "Data columns (total 9 columns):\n",
      " #   Column                      Non-Null Count  Dtype  \n",
      "---  ------                      --------------  -----  \n",
      " 0   korean_title                266 non-null    object \n",
      " 1   english_title               266 non-null    object \n",
      " 2   runtime                     266 non-null    int64  \n",
      " 3   age_rating                  266 non-null    int32  \n",
      " 4   s1_avg_rating               266 non-null    float64\n",
      " 5   s1_avg_views                266 non-null    float64\n",
      " 6   s1_retention_rate           266 non-null    float64\n",
      " 7   term                        266 non-null    int64  \n",
      " 8   production_country_encoded  266 non-null    float64\n",
      "dtypes: float64(4), int32(1), int64(2), object(2)\n",
      "memory usage: 19.7+ KB\n"
     ]
    }
   ],
   "source": [
    "df.info()"
   ]
  },
  {
   "cell_type": "code",
   "execution_count": 107,
   "metadata": {},
   "outputs": [
    {
     "data": {
      "image/png": "[encoded data removed]",
      "text/plain": [
       "<Figure size 640x480 with 1 Axes>"
      ]
     },
     "metadata": {},
     "output_type": "display_data"
    }
   ],
   "source": [
    "# total_rate 대한 histogram\n",
    "plt.hist(df['s1_avg_rating'])\n",
    "plt.show()"
   ]
  },
  {
   "cell_type": "code",
   "execution_count": 108,
   "metadata": {},
   "outputs": [
    {
     "data": {
      "image/png": "[encoded data removed]",
      "text/plain": [
       "<Figure size 640x480 with 1 Axes>"
      ]
     },
     "metadata": {},
     "output_type": "display_data"
    }
   ],
   "source": [
    "# total_rate 대한 histogram\n",
    "plt.hist(df['s1_avg_views'])\n",
    "plt.show()"
   ]
  },
  {
   "cell_type": "code",
   "execution_count": 109,
   "metadata": {},
   "outputs": [
    {
     "data": {
      "text/html": [
       "<div>\n",
       "<style scoped>\n",
       "    .dataframe tbody tr th:only-of-type {\n",
       "        vertical-align: middle;\n",
       "    }\n",
       "\n",
       "    .dataframe tbody tr th {\n",
       "        vertical-align: top;\n",
       "    }\n",
       "\n",
       "    .dataframe thead th {\n",
       "        text-align: right;\n",
       "    }\n",
       "</style>\n",
       "<table border=\"1\" class=\"dataframe\">\n",
       "  <thead>\n",
       "    <tr style=\"text-align: right;\">\n",
       "      <th></th>\n",
       "      <th>korean_title</th>\n",
       "      <th>english_title</th>\n",
       "      <th>runtime</th>\n",
       "      <th>age_rating</th>\n",
       "      <th>s1_avg_rating</th>\n",
       "      <th>s1_avg_views</th>\n",
       "      <th>s1_retention_rate</th>\n",
       "      <th>term</th>\n",
       "      <th>production_country_encoded</th>\n",
       "    </tr>\n",
       "    <tr>\n",
       "      <th>Unnamed: 0</th>\n",
       "      <th></th>\n",
       "      <th></th>\n",
       "      <th></th>\n",
       "      <th></th>\n",
       "      <th></th>\n",
       "      <th></th>\n",
       "      <th></th>\n",
       "      <th></th>\n",
       "      <th></th>\n",
       "    </tr>\n",
       "  </thead>\n",
       "  <tbody>\n",
       "    <tr>\n",
       "      <th>46</th>\n",
       "      <td>블랙 미러</td>\n",
       "      <td>Black Mirror</td>\n",
       "      <td>59</td>\n",
       "      <td>19</td>\n",
       "      <td>8.033333</td>\n",
       "      <td>63666.666667</td>\n",
       "      <td>103.174603</td>\n",
       "      <td>2</td>\n",
       "      <td>284.956487</td>\n",
       "    </tr>\n",
       "    <tr>\n",
       "      <th>17</th>\n",
       "      <td>브레이킹 배드</td>\n",
       "      <td>Breaking Bad</td>\n",
       "      <td>47</td>\n",
       "      <td>19</td>\n",
       "      <td>8.700000</td>\n",
       "      <td>33000.000000</td>\n",
       "      <td>68.181818</td>\n",
       "      <td>2</td>\n",
       "      <td>239.363693</td>\n",
       "    </tr>\n",
       "    <tr>\n",
       "      <th>24</th>\n",
       "      <td>기묘한 이야기</td>\n",
       "      <td>Stranger Things</td>\n",
       "      <td>61</td>\n",
       "      <td>15</td>\n",
       "      <td>8.787500</td>\n",
       "      <td>24125.000000</td>\n",
       "      <td>100.000000</td>\n",
       "      <td>0</td>\n",
       "      <td>239.363693</td>\n",
       "    </tr>\n",
       "    <tr>\n",
       "      <th>31</th>\n",
       "      <td>위쳐</td>\n",
       "      <td>The Witcher</td>\n",
       "      <td>57</td>\n",
       "      <td>19</td>\n",
       "      <td>8.275000</td>\n",
       "      <td>21000.000000</td>\n",
       "      <td>84.615385</td>\n",
       "      <td>0</td>\n",
       "      <td>239.363693</td>\n",
       "    </tr>\n",
       "    <tr>\n",
       "      <th>7</th>\n",
       "      <td>워킹 데드</td>\n",
       "      <td>The Walking Dead</td>\n",
       "      <td>46</td>\n",
       "      <td>19</td>\n",
       "      <td>8.533333</td>\n",
       "      <td>19500.000000</td>\n",
       "      <td>60.000000</td>\n",
       "      <td>2</td>\n",
       "      <td>239.363693</td>\n",
       "    </tr>\n",
       "    <tr>\n",
       "      <th>...</th>\n",
       "      <td>...</td>\n",
       "      <td>...</td>\n",
       "      <td>...</td>\n",
       "      <td>...</td>\n",
       "      <td>...</td>\n",
       "      <td>...</td>\n",
       "      <td>...</td>\n",
       "      <td>...</td>\n",
       "      <td>...</td>\n",
       "    </tr>\n",
       "    <tr>\n",
       "      <th>195</th>\n",
       "      <td>청춘시대</td>\n",
       "      <td>Hello, My Twenties!</td>\n",
       "      <td>63</td>\n",
       "      <td>15</td>\n",
       "      <td>8.200000</td>\n",
       "      <td>18.416667</td>\n",
       "      <td>46.875000</td>\n",
       "      <td>2</td>\n",
       "      <td>288.718790</td>\n",
       "    </tr>\n",
       "    <tr>\n",
       "      <th>286</th>\n",
       "      <td>보좌관: 세상을 움직이는 사람들</td>\n",
       "      <td>Chief of Staff</td>\n",
       "      <td>66</td>\n",
       "      <td>15</td>\n",
       "      <td>8.600000</td>\n",
       "      <td>16.400000</td>\n",
       "      <td>66.666667</td>\n",
       "      <td>2</td>\n",
       "      <td>288.718790</td>\n",
       "    </tr>\n",
       "    <tr>\n",
       "      <th>152</th>\n",
       "      <td>미씽: 그들이 있었다</td>\n",
       "      <td>Missing: The Other Side</td>\n",
       "      <td>64</td>\n",
       "      <td>15</td>\n",
       "      <td>8.341667</td>\n",
       "      <td>15.833333</td>\n",
       "      <td>66.666667</td>\n",
       "      <td>2</td>\n",
       "      <td>288.718790</td>\n",
       "    </tr>\n",
       "    <tr>\n",
       "      <th>386</th>\n",
       "      <td>캔 유 히어 미?</td>\n",
       "      <td>Can You Hear Me?</td>\n",
       "      <td>22</td>\n",
       "      <td>19</td>\n",
       "      <td>8.000000</td>\n",
       "      <td>15.700000</td>\n",
       "      <td>37.500000</td>\n",
       "      <td>2</td>\n",
       "      <td>332.857316</td>\n",
       "    </tr>\n",
       "    <tr>\n",
       "      <th>117</th>\n",
       "      <td>수업중입니다</td>\n",
       "      <td>Love Class</td>\n",
       "      <td>24</td>\n",
       "      <td>15</td>\n",
       "      <td>7.550000</td>\n",
       "      <td>12.333333</td>\n",
       "      <td>85.714286</td>\n",
       "      <td>2</td>\n",
       "      <td>288.718790</td>\n",
       "    </tr>\n",
       "  </tbody>\n",
       "</table>\n",
       "<p>266 rows × 9 columns</p>\n",
       "</div>"
      ],
      "text/plain": [
       "                 korean_title            english_title  runtime  age_rating  \\\n",
       "Unnamed: 0                                                                    \n",
       "46                      블랙 미러             Black Mirror       59          19   \n",
       "17                    브레이킹 배드             Breaking Bad       47          19   \n",
       "24                    기묘한 이야기          Stranger Things       61          15   \n",
       "31                         위쳐              The Witcher       57          19   \n",
       "7                       워킹 데드         The Walking Dead       46          19   \n",
       "...                       ...                      ...      ...         ...   \n",
       "195                      청춘시대      Hello, My Twenties!       63          15   \n",
       "286         보좌관: 세상을 움직이는 사람들           Chief of Staff       66          15   \n",
       "152               미씽: 그들이 있었다  Missing: The Other Side       64          15   \n",
       "386                 캔 유 히어 미?         Can You Hear Me?       22          19   \n",
       "117                    수업중입니다               Love Class       24          15   \n",
       "\n",
       "            s1_avg_rating  s1_avg_views  s1_retention_rate  term  \\\n",
       "Unnamed: 0                                                         \n",
       "46               8.033333  63666.666667         103.174603     2   \n",
       "17               8.700000  33000.000000          68.181818     2   \n",
       "24               8.787500  24125.000000         100.000000     0   \n",
       "31               8.275000  21000.000000          84.615385     0   \n",
       "7                8.533333  19500.000000          60.000000     2   \n",
       "...                   ...           ...                ...   ...   \n",
       "195              8.200000     18.416667          46.875000     2   \n",
       "286              8.600000     16.400000          66.666667     2   \n",
       "152              8.341667     15.833333          66.666667     2   \n",
       "386              8.000000     15.700000          37.500000     2   \n",
       "117              7.550000     12.333333          85.714286     2   \n",
       "\n",
       "            production_country_encoded  \n",
       "Unnamed: 0                              \n",
       "46                          284.956487  \n",
       "17                          239.363693  \n",
       "24                          239.363693  \n",
       "31                          239.363693  \n",
       "7                           239.363693  \n",
       "...                                ...  \n",
       "195                         288.718790  \n",
       "286                         288.718790  \n",
       "152                         288.718790  \n",
       "386                         332.857316  \n",
       "117                         288.718790  \n",
       "\n",
       "[266 rows x 9 columns]"
      ]
     },
     "execution_count": 109,
     "metadata": {},
     "output_type": "execute_result"
    }
   ],
   "source": [
    "df.sort_values(by='s1_avg_views',\t   # 또는 바로 ['기준 컬럼']\n",
    "\t\t\tascending=False)"
   ]
  },
  {
   "cell_type": "markdown",
   "metadata": {},
   "source": [
    "### 하위권은 확실히 우리나라 드라마 -> watcha랑 적절히 섞을것"
   ]
  },
  {
   "cell_type": "markdown",
   "metadata": {},
   "source": [
    "---"
   ]
  },
  {
   "cell_type": "markdown",
   "metadata": {},
   "source": [
    "# PCA"
   ]
  },
  {
   "cell_type": "code",
   "execution_count": 110,
   "metadata": {},
   "outputs": [
    {
     "data": {
      "image/png": "[encoded data removed]",
      "text/plain": [
       "<Figure size 800x600 with 1 Axes>"
      ]
     },
     "metadata": {},
     "output_type": "display_data"
    }
   ],
   "source": [
    "# PCA를 위한 데이터 준비\n",
    "metrics_df = pd.DataFrame()\n",
    "\n",
    "metrics_df['runtime'] = df['runtime']\n",
    "metrics_df['age_rating'] = df['age_rating']\n",
    "metrics_df['s1_avg_rating'] = df['s1_avg_rating']\n",
    "metrics_df['s1_avg_views'] = df['s1_avg_views']\n",
    "metrics_df['s1_retention_rate'] = df['s1_retention_rate']\n",
    "metrics_df['term'] = df['term']\n",
    "metrics_df['production_country_encoded'] = df['production_country_encoded']\n",
    "\n",
    "# 데이터 표준화\n",
    "scaler = StandardScaler()\n",
    "metrics_df_scaled = scaler.fit_transform(metrics_df)\n",
    "\n",
    "# PCA 수행\n",
    "pca = PCA()\n",
    "pca.fit(metrics_df_scaled)\n",
    "\n",
    "# Scree Plot 그리기\n",
    "plt.figure(figsize=(8, 6))\n",
    "plt.plot(range(1, len(pca.explained_variance_ratio_) + 1), pca.explained_variance_ratio_, marker='o', linestyle='--')\n",
    "plt.title('Scree Plot')\n",
    "plt.xlabel('Number of Principal Components')\n",
    "plt.ylabel('Explained Variance Ratio')\n",
    "plt.xticks(range(1, len(pca.explained_variance_ratio_) + 1))\n",
    "plt.grid(True)\n",
    "plt.show()"
   ]
  },
  {
   "cell_type": "code",
   "execution_count": 111,
   "metadata": {},
   "outputs": [],
   "source": [
    "# NumPy 배열을 데이터프레임으로 변환\n",
    "metrics_df_scaled_df = pd.DataFrame(metrics_df_scaled, columns=metrics_df.columns)"
   ]
  },
  {
   "cell_type": "code",
   "execution_count": 112,
   "metadata": {},
   "outputs": [
    {
     "name": "stdout",
     "output_type": "stream",
     "text": [
      "Explained variance ratio for each principal component:\n",
      "Principal Component 1: 0.2602\n",
      "Principal Component 2: 0.1783\n",
      "Principal Component 3: 0.1451\n",
      "Principal Component 4: 0.1258\n",
      "Principal Component 5: 0.1094\n",
      "Principal Component 6: 0.0937\n",
      "Principal Component 7: 0.0875\n"
     ]
    }
   ],
   "source": [
    "# 설명된 분산 비율 출력\n",
    "explained_variance_ratio = pca.explained_variance_ratio_\n",
    "print(\"Explained variance ratio for each principal component:\")\n",
    "for i, var_ratio in enumerate(explained_variance_ratio, start=1):\n",
    "    print(f\"Principal Component {i}: {var_ratio:.4f}\")"
   ]
  },
  {
   "cell_type": "code",
   "execution_count": 113,
   "metadata": {},
   "outputs": [
    {
     "data": {
      "image/png": "[encoded data removed]",
      "text/plain": [
       "<Figure size 1000x600 with 1 Axes>"
      ]
     },
     "metadata": {},
     "output_type": "display_data"
    }
   ],
   "source": [
    "# 주성분 번호\n",
    "components = range(1, len(explained_variance_ratio) + 1)\n",
    "\n",
    "# 누적 설명된 분산 비율 계산\n",
    "cumulative_variance_ratio = [sum(explained_variance_ratio[:i+1]) for i in range(len(explained_variance_ratio))]\n",
    "\n",
    "# 팔꿈치 그래프 그리기\n",
    "plt.figure(figsize=(10, 6))\n",
    "plt.plot(components, explained_variance_ratio, marker='o', linestyle='-', color='b', label='Explained Variance Ratio')\n",
    "plt.plot(components, cumulative_variance_ratio, marker='s', linestyle='--', color='r', label='Cumulative Explained Variance Ratio')\n",
    "plt.title('Scree Plot')\n",
    "plt.xlabel('Principal Component')\n",
    "plt.ylabel('Explained Variance Ratio')\n",
    "plt.xticks(components)\n",
    "plt.legend()\n",
    "plt.grid(True)\n",
    "plt.show()"
   ]
  },
  {
   "cell_type": "code",
   "execution_count": null,
   "metadata": {},
   "outputs": [],
   "source": []
  },
  {
   "cell_type": "code",
   "execution_count": null,
   "metadata": {},
   "outputs": [],
   "source": []
  }
 ],
 "metadata": {
  "kernelspec": {
   "display_name": "ds_study",
   "language": "python",
   "name": "python3"
  },
  "language_info": {
   "codemirror_mode": {
    "name": "ipython",
    "version": 3
   },
   "file_extension": ".py",
   "mimetype": "text/x-python",
   "name": "python",
   "nbconvert_exporter": "python",
   "pygments_lexer": "ipython3",
   "version": "3.8.18"
  }
 },
 "nbformat": 4,
 "nbformat_minor": 2
}
