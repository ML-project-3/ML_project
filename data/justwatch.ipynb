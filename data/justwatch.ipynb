{
 "cells": [
  {
   "cell_type": "code",
   "execution_count": 1,
   "metadata": {},
   "outputs": [],
   "source": [
    "# import\n",
    "import pandas as pd\n",
    "import numpy as np\n",
    "\n",
    "from selenium import webdriver\n",
    "from selenium.webdriver.common.by import By\n",
    "from selenium.webdriver import ActionChains\n",
    "from selenium.common.exceptions import NoSuchElementException\n",
    "\n",
    "import time\n",
    "from tqdm import tqdm_notebook\n",
    "\n",
    "from bs4 import BeautifulSoup"
   ]
  },
  {
   "cell_type": "code",
   "execution_count": 2,
   "metadata": {},
   "outputs": [
    {
     "name": "stderr",
     "output_type": "stream",
     "text": [
      "C:\\Users\\rbfl7\\AppData\\Local\\Temp\\ipykernel_21540\\4057033386.py:46: TqdmDeprecationWarning: This function will be removed in tqdm==5.0.0\n",
      "Please use `tqdm.notebook.tqdm` instead of `tqdm.tqdm_notebook`\n",
      "  for i in tqdm_notebook(range(2, len(soup.select('.title-list-grid')[0]) + 1)):\n"
     ]
    },
    {
     "data": {
      "application/vnd.jupyter.widget-view+json": {
       "model_id": "bddd42688bcc4756a2a9afa68c33f58f",
       "version_major": 2,
       "version_minor": 0
      },
      "text/plain": [
       "  0%|          | 0/1090 [00:00<?, ?it/s]"
      ]
     },
     "metadata": {},
     "output_type": "display_data"
    }
   ],
   "source": [
    "# 홈페이지를 selenium으로 열기\n",
    "driver = webdriver.Chrome()\n",
    "driver.get('https://www.justwatch.com/kr/%EB%8F%99%EC%98%81%EC%83%81%EC%84%9C%EB%B9%84%EC%8A%A4/netflix/TV-%ED%94%84%EB%A1%9C%EA%B7%B8%EB%9E%A8?genres=drm&exclude_genres=ani,doc,rly&release_year_until=2023')\n",
    "\n",
    "\n",
    "# 팝업창 닫기\n",
    "try:\n",
    "    driver.find_element(By.CSS_SELECTOR, '#uc-center-container > div.sc-eBMEME.hasieq > div > div > div > button.sc-dcJsrY.gDlDbR').click()\n",
    "except NoSuchElementException:\n",
    "    pass\n",
    "\n",
    "time.sleep(1)\n",
    "\n",
    "# 현재 페이지 높이 가져오기\n",
    "last_height = driver.execute_script(\"return document.body.scrollHeight\")\n",
    "\n",
    "while True:\n",
    "    # 페이지 끝까지 스크롤\n",
    "    driver.execute_script(\"window.scrollTo(0, document.body.scrollHeight);\")\n",
    "    \n",
    "    # 새로운 콘텐츠가 로드되기를 기다림\n",
    "    time.sleep(2)\n",
    "    \n",
    "    # 새로운 페이지 높이 가져오기\n",
    "    new_height = driver.execute_script(\"return document.body.scrollHeight\")\n",
    "    \n",
    "    # 새로운 높이가 이전 높이와 같으면, 더 이상 로드할 콘텐츠가 없다는 의미\n",
    "    if new_height == last_height:\n",
    "        break\n",
    "    \n",
    "    last_height = new_height\n",
    "\n",
    "# 현재 페이지 내의 정보를 저장\n",
    "raw = driver.page_source\n",
    "\n",
    "# BeautifulSoup을 이용하여 html 파싱\n",
    "soup = BeautifulSoup(raw, 'html.parser')\n",
    "\n",
    "driver.close()\n",
    "\n",
    "# url_list 만들기\n",
    "base_url = 'https://www.justwatch.com'\n",
    "url_list = []\n",
    "\n",
    "# 타이틀 리스트 내의 URL을 추출\n",
    "for i in tqdm_notebook(range(2, len(soup.select('.title-list-grid')[0]) + 1)):\n",
    "    tmp = soup.select_one('#base > div.title-list.title-list--CLS-block > div:nth-child(2) > div > div > div:nth-child(1) > div > div:nth-child(' + str(i) + ') > a')\n",
    "    if tmp:\n",
    "        tmp_url = tmp.get('href')\n",
    "        if tmp_url:\n",
    "            url = base_url + tmp_url\n",
    "            url_list.append(url)"
   ]
  },
  {
   "cell_type": "code",
   "execution_count": 3,
   "metadata": {},
   "outputs": [
    {
     "data": {
      "text/plain": [
       "1090"
      ]
     },
     "execution_count": 3,
     "metadata": {},
     "output_type": "execute_result"
    }
   ],
   "source": [
    "# 개수 확인\n",
    "len(url_list)"
   ]
  },
  {
   "cell_type": "code",
   "execution_count": 4,
   "metadata": {},
   "outputs": [
    {
     "name": "stderr",
     "output_type": "stream",
     "text": [
      "C:\\Users\\rbfl7\\AppData\\Local\\Temp\\ipykernel_21540\\312218843.py:4: TqdmDeprecationWarning: This function will be removed in tqdm==5.0.0\n",
      "Please use `tqdm.notebook.tqdm` instead of `tqdm.tqdm_notebook`\n",
      "  for x in tqdm_notebook(url_list):\n"
     ]
    },
    {
     "data": {
      "application/vnd.jupyter.widget-view+json": {
       "model_id": "1198973f7e2041268753bde8d9bde1a4",
       "version_major": 2,
       "version_minor": 0
      },
      "text/plain": [
       "  0%|          | 0/1090 [00:00<?, ?it/s]"
      ]
     },
     "metadata": {},
     "output_type": "display_data"
    }
   ],
   "source": [
    "# 각 영화 데이터\n",
    "movie_list = []\n",
    "\n",
    "for x in tqdm_notebook(url_list):\n",
    "    driver = webdriver.Chrome()\n",
    "    driver.get(x)\n",
    "    \n",
    "    # 팝업창 닫기\n",
    "    try:\n",
    "        driver.find_element(By.CSS_SELECTOR, '#uc-center-container > div.sc-eBMEME.hasieq > div > div > div > button.sc-dcJsrY.gDlDbR').click()\n",
    "    except NoSuchElementException:\n",
    "        pass\n",
    "\n",
    "    time.sleep(1.5)\n",
    "\n",
    "    raw = driver.page_source\n",
    "    soup = BeautifulSoup(raw, 'html.parser')\n",
    "\n",
    "    # 'detail-infos' 클래스의 모든 'div' 태그를 찾습니다.\n",
    "    detail_infos = soup.find_all('div', class_='detail-infos')\n",
    "\n",
    "    # 중복을 제거하기 위해 집합(set)을 사용합니다.\n",
    "    unique_detail_infos = list({str(info): info for info in detail_infos}.values())\n",
    "\n",
    "    # 정보를 저장할 변수 초기화\n",
    "    play_time_div = None\n",
    "    genre_div = None\n",
    "    rating_div = None\n",
    "    country_div = None\n",
    "\n",
    "    # 필요한 정보를 가진 'div' 태그를 각각 찾습니다.\n",
    "    for info in unique_detail_infos:\n",
    "        heading = info.find('h3', class_='detail-infos__subheading')\n",
    "        if heading:\n",
    "            if '시간' in heading.text:\n",
    "                play_time_div = info.find('div', class_='detail-infos__value')\n",
    "            elif '장르' in heading.text:\n",
    "                genre_div = info.find('div', class_='detail-infos__value')\n",
    "            elif '연령' in heading.text:\n",
    "                rating_div = info.find('div', class_='detail-infos__value')\n",
    "            elif 'Production' in heading.text:\n",
    "                country_div = info.find('div', class_='detail-infos__value')\n",
    "\n",
    "    # 정보를 텍스트로 가져옵니다.\n",
    "    play_time = play_time_div.text.strip() if play_time_div else None\n",
    "    genre = genre_div.text.strip() if genre_div and genre_div.text.strip() else None\n",
    "    rating = rating_div.text.strip() if rating_div else None\n",
    "    country = country_div.text.strip() if country_div else None\n",
    "\n",
    "    # 추가 정보 추출\n",
    "    title_block = soup.find('div', class_='title-block')\n",
    "    korean_title_element = title_block.find('h1') if title_block and title_block.find('h1') else None\n",
    "    year_element = title_block.find('span',class_='text-muted') if title_block and title_block.find('span') else None\n",
    "    original_title_element = title_block.find('h3') if title_block and title_block.find('h3') else None\n",
    "    seasons_element = soup.find('h2', class_='subheading')\n",
    "\n",
    "    korean_title = korean_title_element.text.strip() if korean_title_element else None\n",
    "    year = year_element.text[2:-2].strip() if year_element else None\n",
    "    original_title = original_title_element.text[5:].strip() if original_title_element else None\n",
    "    seasons = seasons_element.text[:-5].strip() if seasons_element else None\n",
    "\n",
    "    # 영화 데이터 저장\n",
    "    movie_data = {\n",
    "        \"title\": korean_title,\n",
    "        \"original_title\": original_title,\n",
    "        \"year\": year,\n",
    "        \"season_episode\": seasons,\n",
    "        \"runtime\": play_time,\n",
    "        \"genre\": genre,\n",
    "        \"age_rating\": rating,\n",
    "        \"Production country\": country\n",
    "    }\n",
    "    \n",
    "    movie_list.append(movie_data)\n",
    "\n",
    "# DataFrame 생성\n",
    "jw_df = pd.DataFrame(movie_list)\n",
    "\n",
    "# 드라이버 종료\n",
    "driver.quit()"
   ]
  },
  {
   "cell_type": "code",
   "execution_count": 5,
   "metadata": {},
   "outputs": [
    {
     "name": "stdout",
     "output_type": "stream",
     "text": [
      "<class 'pandas.core.frame.DataFrame'>\n",
      "RangeIndex: 1090 entries, 0 to 1089\n",
      "Data columns (total 8 columns):\n",
      " #   Column              Non-Null Count  Dtype \n",
      "---  ------              --------------  ----- \n",
      " 0   title               980 non-null    object\n",
      " 1   original_title      767 non-null    object\n",
      " 2   year                980 non-null    object\n",
      " 3   season_episode      980 non-null    object\n",
      " 4   runtime             980 non-null    object\n",
      " 5   genre               980 non-null    object\n",
      " 6   age_rating          729 non-null    object\n",
      " 7   Production country  980 non-null    object\n",
      "dtypes: object(8)\n",
      "memory usage: 68.2+ KB\n"
     ]
    }
   ],
   "source": [
    "jw_df.info()"
   ]
  },
  {
   "cell_type": "code",
   "execution_count": 16,
   "metadata": {},
   "outputs": [],
   "source": [
    "# 저장\n",
    "jw_df.to_csv('../data/justwatch_1.csv', sep=\"/\", encoding=\"utf-8\")\n",
    "\n",
    "jw_df.to_excel('../data/justwatch_1.xlsx')"
   ]
  },
  {
   "cell_type": "markdown",
   "metadata": {},
   "source": [
    "## 하위 코드는 크롤링 중 놓친 데이터 다시 수집"
   ]
  },
  {
   "cell_type": "code",
   "execution_count": 12,
   "metadata": {},
   "outputs": [
    {
     "data": {
      "text/plain": [
       "110"
      ]
     },
     "execution_count": 12,
     "metadata": {},
     "output_type": "execute_result"
    }
   ],
   "source": [
    "miss_url_list = [url_list[i] for i in range(len(jw_df)) if jw_df.iloc[i][\"title\"] is None]\n",
    "len(miss_url_list)"
   ]
  },
  {
   "cell_type": "code",
   "execution_count": 14,
   "metadata": {},
   "outputs": [
    {
     "name": "stderr",
     "output_type": "stream",
     "text": [
      "C:\\Users\\rbfl7\\AppData\\Local\\Temp\\ipykernel_21540\\1829438500.py:4: TqdmDeprecationWarning: This function will be removed in tqdm==5.0.0\n",
      "Please use `tqdm.notebook.tqdm` instead of `tqdm.tqdm_notebook`\n",
      "  for x in tqdm_notebook(miss_url_list):\n"
     ]
    },
    {
     "data": {
      "application/vnd.jupyter.widget-view+json": {
       "model_id": "87e34a888b024047a3474c3ee66c7000",
       "version_major": 2,
       "version_minor": 0
      },
      "text/plain": [
       "  0%|          | 0/110 [00:00<?, ?it/s]"
      ]
     },
     "metadata": {},
     "output_type": "display_data"
    }
   ],
   "source": [
    "# 각 빠진 영화 데이터\n",
    "miss_movie_list = []\n",
    "\n",
    "for x in tqdm_notebook(miss_url_list):\n",
    "    driver = webdriver.Chrome()\n",
    "    driver.get(x)\n",
    "    \n",
    "    # 팝업창 닫기\n",
    "    try:\n",
    "        driver.find_element(By.CSS_SELECTOR, '#uc-center-container > div.sc-eBMEME.hasieq > div > div > div > button.sc-dcJsrY.gDlDbR').click()\n",
    "    except NoSuchElementException:\n",
    "        pass\n",
    "\n",
    "    time.sleep(1.5)\n",
    "\n",
    "    raw = driver.page_source\n",
    "    soup = BeautifulSoup(raw, 'html.parser')\n",
    "\n",
    "    # 'detail-infos' 클래스의 모든 'div' 태그를 찾습니다.\n",
    "    detail_infos = soup.find_all('div', class_='detail-infos')\n",
    "\n",
    "    # 중복을 제거하기 위해 집합(set)을 사용합니다.\n",
    "    unique_detail_infos = list({str(info): info for info in detail_infos}.values())\n",
    "\n",
    "    # 정보를 저장할 변수 초기화\n",
    "    play_time_div = None\n",
    "    genre_div = None\n",
    "    rating_div = None\n",
    "    country_div = None\n",
    "\n",
    "    # 필요한 정보를 가진 'div' 태그를 각각 찾습니다.\n",
    "    for info in unique_detail_infos:\n",
    "        heading = info.find('h3', class_='detail-infos__subheading')\n",
    "        if heading:\n",
    "            if '시간' in heading.text:\n",
    "                play_time_div = info.find('div', class_='detail-infos__value')\n",
    "            elif '장르' in heading.text:\n",
    "                genre_div = info.find('div', class_='detail-infos__value')\n",
    "            elif '연령' in heading.text:\n",
    "                rating_div = info.find('div', class_='detail-infos__value')\n",
    "            elif 'Production' in heading.text:\n",
    "                country_div = info.find('div', class_='detail-infos__value')\n",
    "\n",
    "    # 정보를 텍스트로 가져옵니다.\n",
    "    play_time = play_time_div.text.strip() if play_time_div else None\n",
    "    genre = genre_div.text.strip() if genre_div and genre_div.text.strip() else None\n",
    "    rating = rating_div.text.strip() if rating_div else None\n",
    "    country = country_div.text.strip() if country_div else None\n",
    "\n",
    "    # 추가 정보 추출\n",
    "    title_block = soup.find('div', class_='title-block')\n",
    "    korean_title_element = title_block.find('h1') if title_block and title_block.find('h1') else None\n",
    "    year_element = title_block.find('span',class_='text-muted') if title_block and title_block.find('span') else None\n",
    "    original_title_element = title_block.find('h3') if title_block and title_block.find('h3') else None\n",
    "    seasons_element = soup.find('h2', class_='subheading')\n",
    "\n",
    "    korean_title = korean_title_element.text.strip() if korean_title_element else None\n",
    "    year = year_element.text[2:-2].strip() if year_element else None\n",
    "    original_title = original_title_element.text[5:].strip() if original_title_element else None\n",
    "    seasons = seasons_element.text[:-5].strip() if seasons_element else None\n",
    "\n",
    "    # 영화 데이터 저장\n",
    "    movie_data = {\n",
    "        \"title\": korean_title,\n",
    "        \"original_title\": original_title,\n",
    "        \"year\": year,\n",
    "        \"season_episode\": seasons,\n",
    "        \"runtime\": play_time,\n",
    "        \"genre\": genre,\n",
    "        \"age_rating\": rating,\n",
    "        \"Production country\": country\n",
    "    }\n",
    "    \n",
    "    miss_movie_list.append(movie_data)\n",
    "\n",
    "# DataFrame 생성\n",
    "miss_df = pd.DataFrame(miss_movie_list)\n",
    "\n",
    "# 드라이버 종료\n",
    "driver.quit()"
   ]
  },
  {
   "cell_type": "code",
   "execution_count": 15,
   "metadata": {},
   "outputs": [
    {
     "name": "stdout",
     "output_type": "stream",
     "text": [
      "<class 'pandas.core.frame.DataFrame'>\n",
      "RangeIndex: 110 entries, 0 to 109\n",
      "Data columns (total 8 columns):\n",
      " #   Column              Non-Null Count  Dtype \n",
      "---  ------              --------------  ----- \n",
      " 0   title               110 non-null    object\n",
      " 1   original_title      88 non-null     object\n",
      " 2   year                110 non-null    object\n",
      " 3   season_episode      110 non-null    object\n",
      " 4   runtime             110 non-null    object\n",
      " 5   genre               110 non-null    object\n",
      " 6   age_rating          74 non-null     object\n",
      " 7   Production country  109 non-null    object\n",
      "dtypes: object(8)\n",
      "memory usage: 7.0+ KB\n"
     ]
    }
   ],
   "source": [
    "miss_df.info()"
   ]
  },
  {
   "cell_type": "code",
   "execution_count": 18,
   "metadata": {},
   "outputs": [],
   "source": [
    "# 저장\n",
    "miss_df.to_csv('../data/justwatch_2.csv', sep=\"/\", encoding=\"utf-8\")\n",
    "\n",
    "miss_df.to_excel('../data/justwatch_2.xlsx')"
   ]
  },
  {
   "cell_type": "code",
   "execution_count": 28,
   "metadata": {},
   "outputs": [],
   "source": [
    "# 병합\n",
    "justWatch = jw_df[jw_df['title'].notnull()]\n",
    "justWatch = pd.concat([justWatch, miss_df])\n",
    "justWatch.reset_index(drop=True,inplace=True)"
   ]
  },
  {
   "cell_type": "code",
   "execution_count": 29,
   "metadata": {},
   "outputs": [
    {
     "name": "stdout",
     "output_type": "stream",
     "text": [
      "<class 'pandas.core.frame.DataFrame'>\n",
      "RangeIndex: 1090 entries, 0 to 1089\n",
      "Data columns (total 8 columns):\n",
      " #   Column              Non-Null Count  Dtype \n",
      "---  ------              --------------  ----- \n",
      " 0   title               1090 non-null   object\n",
      " 1   original_title      855 non-null    object\n",
      " 2   year                1090 non-null   object\n",
      " 3   season_episode      1090 non-null   object\n",
      " 4   runtime             1090 non-null   object\n",
      " 5   genre               1090 non-null   object\n",
      " 6   age_rating          803 non-null    object\n",
      " 7   Production country  1089 non-null   object\n",
      "dtypes: object(8)\n",
      "memory usage: 68.2+ KB\n"
     ]
    }
   ],
   "source": [
    "justWatch.info()"
   ]
  },
  {
   "cell_type": "code",
   "execution_count": 30,
   "metadata": {},
   "outputs": [],
   "source": [
    "# 저장\n",
    "justWatch.to_csv('../data/justwatch.csv', sep=\"/\", encoding=\"utf-8\")\n",
    "\n",
    "justWatch.to_excel('../data/justwatch.xlsx')"
   ]
  },
  {
   "cell_type": "code",
   "execution_count": 32,
   "metadata": {},
   "outputs": [
    {
     "data": {
      "text/html": [
       "<div>\n",
       "<style scoped>\n",
       "    .dataframe tbody tr th:only-of-type {\n",
       "        vertical-align: middle;\n",
       "    }\n",
       "\n",
       "    .dataframe tbody tr th {\n",
       "        vertical-align: top;\n",
       "    }\n",
       "\n",
       "    .dataframe thead th {\n",
       "        text-align: right;\n",
       "    }\n",
       "</style>\n",
       "<table border=\"1\" class=\"dataframe\">\n",
       "  <thead>\n",
       "    <tr style=\"text-align: right;\">\n",
       "      <th></th>\n",
       "      <th>title</th>\n",
       "      <th>original_title</th>\n",
       "      <th>year</th>\n",
       "      <th>season_episode</th>\n",
       "      <th>runtime</th>\n",
       "      <th>genre</th>\n",
       "      <th>age_rating</th>\n",
       "      <th>Production country</th>\n",
       "    </tr>\n",
       "  </thead>\n",
       "  <tbody>\n",
       "    <tr>\n",
       "      <th>0</th>\n",
       "      <td>Ojingeo Geim</td>\n",
       "      <td>Squid Game</td>\n",
       "      <td>2021</td>\n",
       "      <td>2</td>\n",
       "      <td>55min</td>\n",
       "      <td>액션, 드라마, 스릴러</td>\n",
       "      <td>19</td>\n",
       "      <td>대한민국</td>\n",
       "    </tr>\n",
       "    <tr>\n",
       "      <th>1</th>\n",
       "      <td>12인의 심판자</td>\n",
       "      <td>The Twelve</td>\n",
       "      <td>2019</td>\n",
       "      <td>2</td>\n",
       "      <td>54min</td>\n",
       "      <td>드라마, 스릴러</td>\n",
       "      <td>NaN</td>\n",
       "      <td>벨기에</td>\n",
       "    </tr>\n",
       "    <tr>\n",
       "      <th>2</th>\n",
       "      <td>희생자 게임</td>\n",
       "      <td>誰是被害者</td>\n",
       "      <td>2020</td>\n",
       "      <td>2</td>\n",
       "      <td>1시간 0분</td>\n",
       "      <td>드라마, 범죄, 스릴러</td>\n",
       "      <td>19</td>\n",
       "      <td>대만</td>\n",
       "    </tr>\n",
       "    <tr>\n",
       "      <th>3</th>\n",
       "      <td>스위트 투스: 사슴뿔을 가진 소년</td>\n",
       "      <td>Sweet Tooth</td>\n",
       "      <td>2021</td>\n",
       "      <td>3</td>\n",
       "      <td>52min</td>\n",
       "      <td>SF, 드라마, 판타지, 액션</td>\n",
       "      <td>15</td>\n",
       "      <td>미국</td>\n",
       "    </tr>\n",
       "    <tr>\n",
       "      <th>4</th>\n",
       "      <td>Sweet Home</td>\n",
       "      <td>NaN</td>\n",
       "      <td>2020</td>\n",
       "      <td>3</td>\n",
       "      <td>1시간 0분</td>\n",
       "      <td>스릴러, 드라마, 판타지, 공포, SF, 범죄</td>\n",
       "      <td>NaN</td>\n",
       "      <td>대한민국</td>\n",
       "    </tr>\n",
       "  </tbody>\n",
       "</table>\n",
       "</div>"
      ],
      "text/plain": [
       "                title original_title  year  season_episode runtime  \\\n",
       "0        Ojingeo Geim     Squid Game  2021               2   55min   \n",
       "1            12인의 심판자     The Twelve  2019               2   54min   \n",
       "2              희생자 게임          誰是被害者  2020               2  1시간 0분   \n",
       "3  스위트 투스: 사슴뿔을 가진 소년    Sweet Tooth  2021               3   52min   \n",
       "4          Sweet Home            NaN  2020               3  1시간 0분   \n",
       "\n",
       "                       genre age_rating Production country  \n",
       "0               액션, 드라마, 스릴러         19               대한민국  \n",
       "1                   드라마, 스릴러        NaN                벨기에  \n",
       "2               드라마, 범죄, 스릴러         19                 대만  \n",
       "3           SF, 드라마, 판타지, 액션         15                 미국  \n",
       "4  스릴러, 드라마, 판타지, 공포, SF, 범죄        NaN               대한민국  "
      ]
     },
     "execution_count": 32,
     "metadata": {},
     "output_type": "execute_result"
    }
   ],
   "source": [
    "just = pd.read_csv('../data/justwatch.csv', sep=\"/\", encoding='utf-8', index_col=0)\n",
    "just.head()"
   ]
  }
 ],
 "metadata": {
  "kernelspec": {
   "display_name": "ds_study",
   "language": "python",
   "name": "python3"
  },
  "language_info": {
   "codemirror_mode": {
    "name": "ipython",
    "version": 3
   },
   "file_extension": ".py",
   "mimetype": "text/x-python",
   "name": "python",
   "nbconvert_exporter": "python",
   "pygments_lexer": "ipython3",
   "version": "3.8.18"
  }
 },
 "nbformat": 4,
 "nbformat_minor": 2
}
